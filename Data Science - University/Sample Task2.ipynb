{
 "cells": [
  {
   "cell_type": "markdown",
   "metadata": {
    "id": "Av_sK6JRQag5"
   },
   "source": [
    "# SIT742: Modern Data Science \n",
    "**(2021 Assessment Task 02 - Data Analytics)**\n",
    "\n",
    "---\n",
    "- Please refer to the CloudDeakin for the detailed assessment requirements.\n",
    "- Please submit to Clouddeakin before the due date.\n",
    "- It is a group assignment, and please form a group and self-enrol into the CloudDeakin groups.\n",
    "- Students with difficulty in meeting the deadline because of illness, etc. must apply for an assignment extension in CloudDeakin no later than *12:00pm on 21/05/2021 (Friday)*.\n",
    "\n",
    "\n",
    "Prepared by **SIT742 Teaching Team**\n",
    "\n",
    "\n",
    "---\n",
    "\n",
    "<div class=\"alert alert-block alert-info\">\n",
    "Enter your group information in the following cell.   \n",
    "</div>\n",
    "\n",
    "**Student Information:** Please fill your group information below\n",
    "\n",
    "- Group ID: **Not Applicable**\n",
    "- Names:  **Glenn Free**\n",
    "- Student IDs:  **220524174**\n",
    "- Emails:  **gfree@deakin.edu.au**\n",
    "- Lab Session and Tutor (for on campus students): **Not Applicable**\n",
    "\n",
    "---\n",
    "\n",
    "\n",
    "# Part I - Web Log Data\n",
    "\n",
    "## Overview\n",
    "\n",
    "Hotel TULIP a five-star hotel located at Deakin University, and its CIO Dr Bear Guts has asked the Team-SIT742 team to analyse the weblogs files. Hence, Hotel TULIP would like you *Group-SIT742* (a hypothetical data analytics group with up to 3 data analysers) to analyse web log files and discover user accessing patterns of different web pages. \n",
    "\n",
    "In this part, you are required to use give dataset to finish some required analysis, with the exploreation data analytics skills as well as visuilization skill.\n",
    "\n",
    "\n",
    "You will be required to complete the coding to answer the questions with a neat and clean format, and you must keep outputs for code. Your commenting and adherence to code standards will also be considered when marking. Further information on Python standards, please visit https://www.python.org/dev/peps/pep-0008/ \n",
    "\n",
    "\n",
    "**Note**: You are not restricted to the partial code provided, and you can write your own code to implement the required tasks. But you should provide sufficient comments.\n"
   ]
  },
  {
   "cell_type": "markdown",
   "metadata": {
    "id": "gamCnd8GKEJ7"
   },
   "source": [
    "## 1.Data ETL"
   ]
  },
  {
   "cell_type": "markdown",
   "metadata": {
    "id": "z6Ro64a9KNWs"
   },
   "source": [
    "### 1.1 Load Data"
   ]
  },
  {
   "cell_type": "code",
   "execution_count": null,
   "metadata": {
    "colab": {
     "base_uri": "https://localhost:8080/"
    },
    "id": "37Nq2m64KP0N",
    "outputId": "d376e3f5-8bfd-4035-9d8f-db7b688d47bc"
   },
   "outputs": [
    {
     "name": "stdout",
     "output_type": "stream",
     "text": [
      "Mounted at /content/drive\n"
     ]
    }
   ],
   "source": [
    "from google.colab import drive\n",
    "drive.mount('/content/drive')"
   ]
  },
  {
   "cell_type": "code",
   "execution_count": null,
   "metadata": {
    "colab": {
     "base_uri": "https://localhost:8080/",
     "height": 309
    },
    "id": "M4RAAnpnKS8d",
    "outputId": "7a104aaf-b6ec-4ac5-dc3b-66c81ddf2f22"
   },
   "outputs": [
    {
     "data": {
      "text/html": [
       "<div>\n",
       "<style scoped>\n",
       "    .dataframe tbody tr th:only-of-type {\n",
       "        vertical-align: middle;\n",
       "    }\n",
       "\n",
       "    .dataframe tbody tr th {\n",
       "        vertical-align: top;\n",
       "    }\n",
       "\n",
       "    .dataframe thead th {\n",
       "        text-align: right;\n",
       "    }\n",
       "</style>\n",
       "<table border=\"1\" class=\"dataframe\">\n",
       "  <thead>\n",
       "    <tr style=\"text-align: right;\">\n",
       "      <th></th>\n",
       "      <th>date</th>\n",
       "      <th>time</th>\n",
       "      <th>s_sitename</th>\n",
       "      <th>s_ip</th>\n",
       "      <th>cs_method</th>\n",
       "      <th>cs_uri_stem</th>\n",
       "      <th>cs_uri_query</th>\n",
       "      <th>s_port</th>\n",
       "      <th>cs_username</th>\n",
       "      <th>c_ip</th>\n",
       "      <th>cs(User_Agent)</th>\n",
       "      <th>cs(Referer)</th>\n",
       "      <th>sc_status</th>\n",
       "      <th>sc_substatus</th>\n",
       "      <th>sc_win32_status</th>\n",
       "    </tr>\n",
       "  </thead>\n",
       "  <tbody>\n",
       "    <tr>\n",
       "      <th>0</th>\n",
       "      <td>2006-11-01</td>\n",
       "      <td>00:00:08</td>\n",
       "      <td>W3SVC1</td>\n",
       "      <td>127.0.0.1</td>\n",
       "      <td>GET</td>\n",
       "      <td>/Default.aspx</td>\n",
       "      <td>-</td>\n",
       "      <td>80.0</td>\n",
       "      <td>-</td>\n",
       "      <td>70.80.84.76</td>\n",
       "      <td>Mozilla/4.0+(compatible;+MSIE+6.0;+Windows+NT+...</td>\n",
       "      <td>http://www.google.com/search?sourceid=navclien...</td>\n",
       "      <td>200.0</td>\n",
       "      <td>0.0</td>\n",
       "      <td>0.0</td>\n",
       "    </tr>\n",
       "    <tr>\n",
       "      <th>1</th>\n",
       "      <td>2006-11-01</td>\n",
       "      <td>00:00:08</td>\n",
       "      <td>W3SVC1</td>\n",
       "      <td>127.0.0.1</td>\n",
       "      <td>GET</td>\n",
       "      <td>/Tulip/home/en-us/home_index.aspx</td>\n",
       "      <td>-</td>\n",
       "      <td>80.0</td>\n",
       "      <td>-</td>\n",
       "      <td>70.80.84.76</td>\n",
       "      <td>Mozilla/4.0+(compatible;+MSIE+6.0;+Windows+NT+...</td>\n",
       "      <td>-</td>\n",
       "      <td>200.0</td>\n",
       "      <td>0.0</td>\n",
       "      <td>0.0</td>\n",
       "    </tr>\n",
       "    <tr>\n",
       "      <th>2</th>\n",
       "      <td>2006-11-01</td>\n",
       "      <td>00:00:08</td>\n",
       "      <td>W3SVC1</td>\n",
       "      <td>127.0.0.1</td>\n",
       "      <td>GET</td>\n",
       "      <td>/Tulip/includes/js/CommonUtil.js</td>\n",
       "      <td>-</td>\n",
       "      <td>80.0</td>\n",
       "      <td>-</td>\n",
       "      <td>70.80.84.76</td>\n",
       "      <td>Mozilla/4.0+(compatible;+MSIE+6.0;+Windows+NT+...</td>\n",
       "      <td>http://www.hotelTulip.com.hk/Tulip/home/en-us/...</td>\n",
       "      <td>200.0</td>\n",
       "      <td>0.0</td>\n",
       "      <td>0.0</td>\n",
       "    </tr>\n",
       "    <tr>\n",
       "      <th>3</th>\n",
       "      <td>2006-11-01</td>\n",
       "      <td>00:00:09</td>\n",
       "      <td>W3SVC1</td>\n",
       "      <td>127.0.0.1</td>\n",
       "      <td>GET</td>\n",
       "      <td>/Tulip/common/common_style.aspx</td>\n",
       "      <td>lang=en-us</td>\n",
       "      <td>80.0</td>\n",
       "      <td>-</td>\n",
       "      <td>70.80.84.76</td>\n",
       "      <td>Mozilla/4.0+(compatible;+MSIE+6.0;+Windows+NT+...</td>\n",
       "      <td>http://www.hotelTulip.com.hk/Tulip/home/en-us/...</td>\n",
       "      <td>200.0</td>\n",
       "      <td>0.0</td>\n",
       "      <td>0.0</td>\n",
       "    </tr>\n",
       "    <tr>\n",
       "      <th>4</th>\n",
       "      <td>2006-11-01</td>\n",
       "      <td>00:00:09</td>\n",
       "      <td>W3SVC1</td>\n",
       "      <td>127.0.0.1</td>\n",
       "      <td>GET</td>\n",
       "      <td>/Tulip/common/en-us/images/top_img.jpg</td>\n",
       "      <td>-</td>\n",
       "      <td>80.0</td>\n",
       "      <td>-</td>\n",
       "      <td>70.80.84.76</td>\n",
       "      <td>Mozilla/4.0+(compatible;+MSIE+6.0;+Windows+NT+...</td>\n",
       "      <td>http://www.hotelTulip.com.hk/Tulip/home/en-us/...</td>\n",
       "      <td>200.0</td>\n",
       "      <td>0.0</td>\n",
       "      <td>0.0</td>\n",
       "    </tr>\n",
       "  </tbody>\n",
       "</table>\n",
       "</div>"
      ],
      "text/plain": [
       "         date      time s_sitename  ... sc_status sc_substatus sc_win32_status\n",
       "0  2006-11-01  00:00:08     W3SVC1  ...     200.0          0.0             0.0\n",
       "1  2006-11-01  00:00:08     W3SVC1  ...     200.0          0.0             0.0\n",
       "2  2006-11-01  00:00:08     W3SVC1  ...     200.0          0.0             0.0\n",
       "3  2006-11-01  00:00:09     W3SVC1  ...     200.0          0.0             0.0\n",
       "4  2006-11-01  00:00:09     W3SVC1  ...     200.0          0.0             0.0\n",
       "\n",
       "[5 rows x 15 columns]"
      ]
     },
     "execution_count": 77,
     "metadata": {
      "tags": []
     },
     "output_type": "execute_result"
    }
   ],
   "source": [
    "from ipywidgets import IntProgress\n",
    "import pandas as pd\n",
    "from IPython.display import display\n",
    "from zipfile import ZipFile\n",
    "\n",
    "\n",
    "# Your file might be in a different location, so you need to customize the path\n",
    "all_files = ZipFile('/content/drive/MyDrive/SIT742 - A2/HTWebLog_p1.zip', 'r')\n",
    "files = all_files.namelist()\n",
    "\n",
    "\n",
    "data = []\n",
    "# Define the column names\n",
    "ColumnNames=['date','time','s_sitename','s_ip','cs_method','cs_uri_stem','cs_uri_query','s_port','cs_username',\n",
    "             'c_ip','cs(User_Agent)','cs(Referer)','sc_status','sc_substatus','sc_win32_status']\n",
    "\n",
    "#Your code to load data from all log files in the provided zip file\n",
    "def query_zip(name_of_file):\n",
    "  zip_data = pd.read_csv(all_files.open(name_of_file), encoding = 'iso-8859-1', comment = '#', sep = \" \", names = ColumnNames)\n",
    "  return zip_data\n",
    "\n",
    "all_data = [query_zip(name) for name in files]\n",
    "df_ht = pd.concat(all_data)\n",
    "df_ht.head()\n"
   ]
  },
  {
   "cell_type": "markdown",
   "metadata": {
    "id": "SmbO0UE1KrvL"
   },
   "source": [
    "In order to reduce the processing time, we will remove all missing values for data and only select 30% of total data for classification. \n",
    "\n",
    "**Code**: \n",
    "    1. Remove all NAs, for the columns, if the column is with 15% NAs, you need to remove that column. Then, for the rows, if there are any NAs in that row, you need to remove that row (requests)  \n",
    "    2. select 30\\% of the total data in to a new dataframe weblog_df.\n",
    "    \n",
    "    *Keep the outputs for code in your notebook.\n",
    "\n",
    "**Report**:\n",
    "    The number of requests in weblog\\_df.\n"
   ]
  },
  {
   "cell_type": "code",
   "execution_count": null,
   "metadata": {
    "colab": {
     "base_uri": "https://localhost:8080/"
    },
    "id": "-e6VrwI0OQEd",
    "outputId": "5e3a3953-d7e9-40e1-e5c9-4e2d934ec355"
   },
   "outputs": [
    {
     "name": "stdout",
     "output_type": "stream",
     "text": [
      "\n",
      "\n",
      "---------------------------------\n",
      "date :\n",
      "2006-12-12    120190\n",
      "2006-11-27    120019\n",
      "2006-12-14    118609\n",
      "2006-12-13    117075\n",
      "2006-12-08    113063\n",
      "               ...  \n",
      "2007-02-18     30750\n",
      "2007-01-01     30355\n",
      "2006-12-31     29400\n",
      "2007-02-17     26484\n",
      "2007-03-01         1\n",
      "Name: date, Length: 121, dtype: int64 \n",
      "\n",
      "\n",
      "\n",
      "---------------------------------\n",
      "time :\n",
      "08:37:00    382\n",
      "09:55:14    375\n",
      "09:13:05    358\n",
      "04:41:05    349\n",
      "06:30:22    343\n",
      "           ... \n",
      "22:32:15      1\n",
      "22:42:02      1\n",
      "22:32:53      1\n",
      "22:12:25      1\n",
      "22:35:15      1\n",
      "Name: time, Length: 86372, dtype: int64 \n",
      "\n",
      "\n",
      "\n",
      "---------------------------------\n",
      "s_sitename :\n",
      "W3SVC1    8438928\n",
      "Name: s_sitename, dtype: int64 \n",
      "\n",
      "\n",
      "\n",
      "---------------------------------\n",
      "s_ip :\n",
      "127.0.0.1    8438928\n",
      "Name: s_ip, dtype: int64 \n",
      "\n",
      "\n",
      "\n",
      "---------------------------------\n",
      "cs_method :\n",
      "GET         8421984\n",
      "POST           9509\n",
      "HEAD           6723\n",
      "OPTIONS         595\n",
      "PROPFIND        106\n",
      "PUT              11\n",
      "Name: cs_method, dtype: int64 \n",
      "\n",
      "\n",
      "\n",
      "---------------------------------\n",
      "cs_uri_stem :\n",
      "/Tulip/common/common_style.aspx                                    402987\n",
      "/Tulip/includes/js/CommonUtil.js                                   127704\n",
      "/Tulip/common/images/top_bar.jpg                                   125764\n",
      "/Tulip/common/images/spacer.gif                                    105486\n",
      "/Tulip/common/images/bar_1.gif                                     100641\n",
      "                                                                    ...  \n",
      "/su.asp                                                                 1\n",
      "/includes/footer.php                                                    1\n",
      "/s8mima.txt                                                             1\n",
      "/Nikko/Includes/FCKeditor/editor/skins/default/toolbar/redo.gif         1\n",
      "/Nikko/common/zh-cn/images/btn_t_apply.gif                              1\n",
      "Name: cs_uri_stem, Length: 4761, dtype: int64 \n",
      "\n",
      "\n",
      "\n",
      "---------------------------------\n",
      "cs_uri_query :\n",
      "-                          7886532\n",
      "lang=en-us                  231265\n",
      "lang=zh-hk                  191196\n",
      "lang=ja                      51295\n",
      "pageId=164&lang=zh-hk         8336\n",
      "                            ...   \n",
      "jobPageId=95&lang=zh-cn          1\n",
      "lang=zh-hk&refid=2707            1\n",
      "lang=en-us&refid=2379            1\n",
      "lang=en-us&refid=2815            1\n",
      "lang=en-us&refid=2390            1\n",
      "Name: cs_uri_query, Length: 1988, dtype: int64 \n",
      "\n",
      "\n",
      "\n",
      "---------------------------------\n",
      "s_port :\n",
      "80.0    8438928\n",
      "Name: s_port, dtype: int64 \n",
      "\n",
      "\n",
      "\n",
      "---------------------------------\n",
      "cs_username :\n",
      "-    8438928\n",
      "Name: cs_username, dtype: int64 \n",
      "\n",
      "\n",
      "\n",
      "---------------------------------\n",
      "c_ip :\n",
      "59.188.33.66       93769\n",
      "210.184.71.81      92460\n",
      "202.181.238.254    29934\n",
      "158.132.12.80      18743\n",
      "211.72.233.8       16319\n",
      "                   ...  \n",
      "219.135.128.137        1\n",
      "211.183.158.133        1\n",
      "220.246.82.36          1\n",
      "83.55.92.124           1\n",
      "219.77.106.48          1\n",
      "Name: c_ip, Length: 74548, dtype: int64 \n",
      "\n",
      "\n",
      "\n",
      "---------------------------------\n",
      "cs(User_Agent) :\n",
      "Mozilla/4.0+(compatible;+MSIE+6.0;+Windows+NT+5.1;+SV1;+.NET+CLR+1.1.4322)                        1982248\n",
      "Mozilla/4.0+(compatible;+MSIE+6.0;+Windows+NT+5.1;+SV1)                                           1606612\n",
      "Mozilla/4.0+(compatible;+MSIE+6.0;+Windows+NT+5.1)                                                 600946\n",
      "Mozilla/4.0+(compatible;+MSIE+6.0;+Windows+NT+5.1;+SV1;+.NET+CLR+1.1.4322;+.NET+CLR+2.0.50727)     344081\n",
      "Mozilla/4.0+(compatible;+MSIE+6.0;+Windows+NT+5.0)                                                 291188\n",
      "                                                                                                   ...   \n",
      "DoCoMo/2.0+N900iG(c100;TB;W24H12)                                                                       1\n",
      "Mozilla/5.0+(compatible;+Konqueror/3.0-rc1;+i686+Linux;+20020217)                                       1\n",
      "libwww-perl/5.803                                                                                       1\n",
      "Mozilla/2.0+(compatible;+MSIE+3.01;+Windows+95)                                                         1\n",
      "cyberbot                                                                                                1\n",
      "Name: cs(User_Agent), Length: 4959, dtype: int64 \n",
      "\n",
      "\n",
      "\n",
      "---------------------------------\n",
      "cs(Referer) :\n",
      "http://www.hotelTulip.com.hk/Tulip/home/en-us/home_index.aspx                                                                                            1618292\n",
      "-                                                                                                                                                        1308907\n",
      "http://www.hotelTulip.com.hk/Tulip/home/zh-hk/home_index.aspx                                                                                             491213\n",
      "http://www.hotelTulip.com.hk/Tulip/whatsnew/whatsnew_foodindex.aspx?lang=zh-hk                                                                            377512\n",
      "http://www.hotelTulip.com.hk/Tulip/dining/zh-hk/dining_cafeserena.aspx                                                                                    304682\n",
      "                                                                                                                                                          ...   \n",
      "http://baym-wm7.webmessenger.msn.com/session/transcript.aspx?mkt=en-us                                                                                         1\n",
      "http://www.google.se/search?hl=sv&q=Hotel+Tulip+Hong+Kong+&btnG=Google-s%C3%B6kning&meta=                                                                      1\n",
      "http://hk.search.yahoo.com/search?ei=UTF-8&p=%E8%81%96%E8%AA%95%E7%AF%80+%E8%87%AA%E5%8A%A9%E9%A4%90+%E9%85%92%E5%BA%97&fr=FP-tab-web-t&meta=rst%3Dhk          1\n",
      "http://search.msn.com.hk/previewx.aspx?q=%e9%a6%99%e6%b8%af%e6%97%a5%e8%88%aa%e9%85%92%e5%ba%97&FORM=CBPW&first=1&noredir=1                                    1\n",
      "http://www.google.com/search?hl=en&lr=&rls=GGLR%2CGGLR%3A2005-37%2CGGLR%3Aen&q=%E6%97%A5%E8%88%AA%E9%85%92%E5%BA%97                                            1\n",
      "Name: cs(Referer), Length: 39703, dtype: int64 \n",
      "\n",
      "\n",
      "\n",
      "---------------------------------\n",
      "sc_status :\n",
      "200.0    6073793\n",
      "304.0    2137341\n",
      "404.0     143641\n",
      "206.0      72490\n",
      "302.0       7368\n",
      "500.0       2020\n",
      "403.0        703\n",
      "301.0        436\n",
      "400.0        210\n",
      "501.0        113\n",
      "406.0         54\n",
      "416.0          3\n",
      "Name: sc_status, dtype: int64 \n",
      "\n",
      "\n",
      "\n",
      "---------------------------------\n",
      "sc_substatus :\n",
      "0.0     8437467\n",
      "14.0        676\n",
      "1.0          27\n",
      "2.0           2\n",
      "Name: sc_substatus, dtype: int64 \n",
      "\n",
      "\n",
      "\n",
      "---------------------------------\n",
      "sc_win32_status :\n",
      "0.0       8056286\n",
      "64.0       241803\n",
      "2.0         98314\n",
      "3.0         29309\n",
      "1236.0       6440\n",
      "121.0        2398\n",
      "22.0         1677\n",
      "123.0        1287\n",
      "5.0           621\n",
      "1231.0         19\n",
      "1232.0         12\n",
      "1229.0          3\n",
      "1260.0          2\n",
      "1234.0          1\n",
      "Name: sc_win32_status, dtype: int64 \n",
      "\n"
     ]
    }
   ],
   "source": [
    "#Explore dataset for cleaning missing values\n",
    "\n",
    "for columns in df_ht.columns:\n",
    "      print('\\n\\n---------------------------------')\n",
    "      print(columns, \":\")\n",
    "      print(df_ht[columns].value_counts(), \"\\n\")"
   ]
  },
  {
   "cell_type": "code",
   "execution_count": null,
   "metadata": {
    "colab": {
     "base_uri": "https://localhost:8080/"
    },
    "id": "BihV5QCfxOYU",
    "outputId": "91f4ab91-88d4-45cd-8d09-37f895794389"
   },
   "outputs": [
    {
     "name": "stdout",
     "output_type": "stream",
     "text": [
      "The length of df_ht before cleaning data is:  8438930\n"
     ]
    }
   ],
   "source": [
    "import numpy as np\n",
    "\n",
    "print(\"The length of df_ht before cleaning data is: \", len(df_ht))\n",
    "\n",
    "df_ht.replace('-', np.nan, inplace=True)"
   ]
  },
  {
   "cell_type": "code",
   "execution_count": null,
   "metadata": {
    "colab": {
     "base_uri": "https://localhost:8080/"
    },
    "id": "7z0eklmSynBX",
    "outputId": "8a4e3af7-0e0c-491b-c5f2-f21f9fbbf013"
   },
   "outputs": [
    {
     "name": "stdout",
     "output_type": "stream",
     "text": [
      "    column names   % missing\n",
      "8    cs_username  100.000000\n",
      "6   cs_uri_query   93.454194\n",
      "11   cs(Referer)   15.519242\n"
     ]
    }
   ],
   "source": [
    "#cleaning data of '-' values\n",
    "missing_value = (df_ht.isnull().sum()*100/len(df_ht)).reset_index().rename(\n",
    "    columns = {\"index\": \"column names\", \n",
    "               0: \"% missing\"})\\\n",
    "                          .sort_values(\n",
    "                              by=\"% missing\", \n",
    "                              ascending=False)\n",
    "\n",
    "print(missing_value[missing_value[\"% missing\"] > 15])"
   ]
  },
  {
   "cell_type": "code",
   "execution_count": null,
   "metadata": {
    "colab": {
     "base_uri": "https://localhost:8080/"
    },
    "id": "uVPrZfW_vccB",
    "outputId": "7ea7e385-413b-4005-920c-9ba6d579822b"
   },
   "outputs": [
    {
     "name": "stdout",
     "output_type": "stream",
     "text": [
      "The shape of the dataset after removing columns/rows with NA's is:  (8434645, 12)\n"
     ]
    }
   ],
   "source": [
    "#Your code to remove missing values as required\n",
    "#1.a Drop columns with => 15% NAs.\n",
    "drop_columns = list(missing_value[missing_value['% missing'] > 15]['column names'])\n",
    "\n",
    "df_ht.drop(columns = drop_columns , axis =1, inplace = True)\n",
    "#1.b) Remove rows if row contains any NAs\n",
    "#df1b = df1a.dropna()\n",
    "df_ht.dropna(axis=0, inplace=True)\n",
    "\n",
    "print(\"The shape of the dataset after removing columns/rows with NA's is: \", df_ht.shape)"
   ]
  },
  {
   "cell_type": "code",
   "execution_count": null,
   "metadata": {
    "colab": {
     "base_uri": "https://localhost:8080/"
    },
    "id": "_KzcKdcmKzMR",
    "outputId": "9333ee1a-4586-4320-99b0-8e57c3c35002"
   },
   "outputs": [
    {
     "name": "stdout",
     "output_type": "stream",
     "text": [
      "The number of requests in the weblog_df is:  2530394\n"
     ]
    }
   ],
   "source": [
    "# only 30% of total data are selected for classification\n",
    "weblog_df = df_ht.sample(frac = 0.3, random_state=1)\n",
    "\n",
    "#Your code to show the number of requests in weblog_df\n",
    "print(\"The number of requests in the weblog_df is: \", len(weblog_df))"
   ]
  },
  {
   "cell_type": "markdown",
   "metadata": {
    "id": "qaKs1Ic5Ln8F"
   },
   "source": [
    "### 1.2 Feature Selection\n",
    "\n",
    "**Code**: \n",
    "    You are required to select *'cs_method'*,*'c_ip'*,*'cs_uri_stem'*,*'cs(User_Agent)'* as input features  and 'sc_status' as class label into a new dataframe ml_df for following Machine Learning Tasks. \n",
    "\n",
    "*Keep the outputs for code in your notebook.\n",
    "\n",
    "**Report**:\n",
    "    1. Data Description of ml_df,  \n",
    "    2. Print top 5 rows of ml_df.\n",
    "\n"
   ]
  },
  {
   "cell_type": "code",
   "execution_count": null,
   "metadata": {
    "colab": {
     "base_uri": "https://localhost:8080/",
     "height": 204
    },
    "id": "begZOxggN2A8",
    "outputId": "4334cbb0-805b-4565-b665-81fca0276480"
   },
   "outputs": [
    {
     "data": {
      "text/html": [
       "<div>\n",
       "<style scoped>\n",
       "    .dataframe tbody tr th:only-of-type {\n",
       "        vertical-align: middle;\n",
       "    }\n",
       "\n",
       "    .dataframe tbody tr th {\n",
       "        vertical-align: top;\n",
       "    }\n",
       "\n",
       "    .dataframe thead th {\n",
       "        text-align: right;\n",
       "    }\n",
       "</style>\n",
       "<table border=\"1\" class=\"dataframe\">\n",
       "  <thead>\n",
       "    <tr style=\"text-align: right;\">\n",
       "      <th></th>\n",
       "      <th>cs_method</th>\n",
       "      <th>c_ip</th>\n",
       "      <th>cs_uri_stem</th>\n",
       "      <th>cs(User_Agent)</th>\n",
       "      <th>sc_status</th>\n",
       "    </tr>\n",
       "  </thead>\n",
       "  <tbody>\n",
       "    <tr>\n",
       "      <th>32497</th>\n",
       "      <td>GET</td>\n",
       "      <td>125.28.188.32</td>\n",
       "      <td>/Tulip/common/images/bar_2.jpg</td>\n",
       "      <td>Mozilla/4.0+(compatible;+MSIE+6.0;+Windows+NT+...</td>\n",
       "      <td>200.0</td>\n",
       "    </tr>\n",
       "    <tr>\n",
       "      <th>58592</th>\n",
       "      <td>GET</td>\n",
       "      <td>210.131.225.123</td>\n",
       "      <td>/Tulip/home/en-us/images/home.swf</td>\n",
       "      <td>Mozilla/4.0+(compatible;+MSIE+6.0;+Windows+NT+...</td>\n",
       "      <td>200.0</td>\n",
       "    </tr>\n",
       "    <tr>\n",
       "      <th>115347</th>\n",
       "      <td>GET</td>\n",
       "      <td>221.127.137.14</td>\n",
       "      <td>/Tulip/common/zh-hk/images/sectionbanner_whats...</td>\n",
       "      <td>Mozilla/4.0+(compatible;+MSIE+6.0;+Windows+NT+...</td>\n",
       "      <td>304.0</td>\n",
       "    </tr>\n",
       "    <tr>\n",
       "      <th>62597</th>\n",
       "      <td>GET</td>\n",
       "      <td>221.239.71.229</td>\n",
       "      <td>/Tulip/includes/js/CommonUtil.js</td>\n",
       "      <td>Mozilla/4.0+(compatible;+MSIE+6.0;+Windows+NT+...</td>\n",
       "      <td>304.0</td>\n",
       "    </tr>\n",
       "    <tr>\n",
       "      <th>56418</th>\n",
       "      <td>GET</td>\n",
       "      <td>219.79.2.210</td>\n",
       "      <td>/Tulip/common/zh-hk/images/sidebanner_2.jpg</td>\n",
       "      <td>Mozilla/4.0+(compatible;+MSIE+6.0;+Windows+NT+...</td>\n",
       "      <td>304.0</td>\n",
       "    </tr>\n",
       "  </tbody>\n",
       "</table>\n",
       "</div>"
      ],
      "text/plain": [
       "       cs_method  ... sc_status\n",
       "32497        GET  ...     200.0\n",
       "58592        GET  ...     200.0\n",
       "115347       GET  ...     304.0\n",
       "62597        GET  ...     304.0\n",
       "56418        GET  ...     304.0\n",
       "\n",
       "[5 rows x 5 columns]"
      ]
     },
     "execution_count": 84,
     "metadata": {
      "tags": []
     },
     "output_type": "execute_result"
    }
   ],
   "source": [
    "# Your code for feature selection\n",
    "ml_df = weblog_df[['cs_method','c_ip','cs_uri_stem','cs(User_Agent)','sc_status']]\n",
    "#Your code to show the top 5 rows of ml_df\n",
    "ml_df.head()"
   ]
  },
  {
   "cell_type": "code",
   "execution_count": null,
   "metadata": {
    "colab": {
     "base_uri": "https://localhost:8080/",
     "height": 390
    },
    "id": "4UJUYWEvnjkB",
    "outputId": "e98090a2-1cd5-499b-d3a1-3a9ef971721d"
   },
   "outputs": [
    {
     "data": {
      "text/html": [
       "<div>\n",
       "<style scoped>\n",
       "    .dataframe tbody tr th:only-of-type {\n",
       "        vertical-align: middle;\n",
       "    }\n",
       "\n",
       "    .dataframe tbody tr th {\n",
       "        vertical-align: top;\n",
       "    }\n",
       "\n",
       "    .dataframe thead th {\n",
       "        text-align: right;\n",
       "    }\n",
       "</style>\n",
       "<table border=\"1\" class=\"dataframe\">\n",
       "  <thead>\n",
       "    <tr style=\"text-align: right;\">\n",
       "      <th></th>\n",
       "      <th>cs_method</th>\n",
       "      <th>c_ip</th>\n",
       "      <th>cs_uri_stem</th>\n",
       "      <th>cs(User_Agent)</th>\n",
       "      <th>sc_status</th>\n",
       "    </tr>\n",
       "  </thead>\n",
       "  <tbody>\n",
       "    <tr>\n",
       "      <th>count</th>\n",
       "      <td>2530394</td>\n",
       "      <td>2530394</td>\n",
       "      <td>2530394</td>\n",
       "      <td>2530394</td>\n",
       "      <td>2.530394e+06</td>\n",
       "    </tr>\n",
       "    <tr>\n",
       "      <th>unique</th>\n",
       "      <td>6</td>\n",
       "      <td>69852</td>\n",
       "      <td>3577</td>\n",
       "      <td>4667</td>\n",
       "      <td>NaN</td>\n",
       "    </tr>\n",
       "    <tr>\n",
       "      <th>top</th>\n",
       "      <td>GET</td>\n",
       "      <td>59.188.33.66</td>\n",
       "      <td>/Tulip/common/common_style.aspx</td>\n",
       "      <td>Mozilla/4.0+(compatible;+MSIE+6.0;+Windows+NT+...</td>\n",
       "      <td>NaN</td>\n",
       "    </tr>\n",
       "    <tr>\n",
       "      <th>freq</th>\n",
       "      <td>2525435</td>\n",
       "      <td>28104</td>\n",
       "      <td>120907</td>\n",
       "      <td>594830</td>\n",
       "      <td>NaN</td>\n",
       "    </tr>\n",
       "    <tr>\n",
       "      <th>mean</th>\n",
       "      <td>NaN</td>\n",
       "      <td>NaN</td>\n",
       "      <td>NaN</td>\n",
       "      <td>NaN</td>\n",
       "      <td>2.300268e+02</td>\n",
       "    </tr>\n",
       "    <tr>\n",
       "      <th>std</th>\n",
       "      <td>NaN</td>\n",
       "      <td>NaN</td>\n",
       "      <td>NaN</td>\n",
       "      <td>NaN</td>\n",
       "      <td>5.076679e+01</td>\n",
       "    </tr>\n",
       "    <tr>\n",
       "      <th>min</th>\n",
       "      <td>NaN</td>\n",
       "      <td>NaN</td>\n",
       "      <td>NaN</td>\n",
       "      <td>NaN</td>\n",
       "      <td>2.000000e+02</td>\n",
       "    </tr>\n",
       "    <tr>\n",
       "      <th>25%</th>\n",
       "      <td>NaN</td>\n",
       "      <td>NaN</td>\n",
       "      <td>NaN</td>\n",
       "      <td>NaN</td>\n",
       "      <td>2.000000e+02</td>\n",
       "    </tr>\n",
       "    <tr>\n",
       "      <th>50%</th>\n",
       "      <td>NaN</td>\n",
       "      <td>NaN</td>\n",
       "      <td>NaN</td>\n",
       "      <td>NaN</td>\n",
       "      <td>2.000000e+02</td>\n",
       "    </tr>\n",
       "    <tr>\n",
       "      <th>75%</th>\n",
       "      <td>NaN</td>\n",
       "      <td>NaN</td>\n",
       "      <td>NaN</td>\n",
       "      <td>NaN</td>\n",
       "      <td>3.040000e+02</td>\n",
       "    </tr>\n",
       "    <tr>\n",
       "      <th>max</th>\n",
       "      <td>NaN</td>\n",
       "      <td>NaN</td>\n",
       "      <td>NaN</td>\n",
       "      <td>NaN</td>\n",
       "      <td>5.010000e+02</td>\n",
       "    </tr>\n",
       "  </tbody>\n",
       "</table>\n",
       "</div>"
      ],
      "text/plain": [
       "       cs_method  ...     sc_status\n",
       "count    2530394  ...  2.530394e+06\n",
       "unique         6  ...           NaN\n",
       "top          GET  ...           NaN\n",
       "freq     2525435  ...           NaN\n",
       "mean         NaN  ...  2.300268e+02\n",
       "std          NaN  ...  5.076679e+01\n",
       "min          NaN  ...  2.000000e+02\n",
       "25%          NaN  ...  2.000000e+02\n",
       "50%          NaN  ...  2.000000e+02\n",
       "75%          NaN  ...  3.040000e+02\n",
       "max          NaN  ...  5.010000e+02\n",
       "\n",
       "[11 rows x 5 columns]"
      ]
     },
     "execution_count": 85,
     "metadata": {
      "tags": []
     },
     "output_type": "execute_result"
    }
   ],
   "source": [
    "ml_df.describe(include = ['object', 'float', 'int'])"
   ]
  },
  {
   "cell_type": "markdown",
   "metadata": {
    "id": "1j3dndKNMgDO"
   },
   "source": [
    "## 2.Unsupervised Learning\n",
    " You are required to complete this part only using **sklearn**.\n",
    "\n",
    "\n",
    "**Code**: \n",
    "    1. Perform unsupervised learning on ml_df with K Means, with a varying K from 2 to 10;\n",
    "    2. Plot in the elbow plot. \n",
    "    \n",
    "    *Keep the outputs for code in your notebook.\n",
    "\n",
    "**Report**:\n",
    "    1. Figure 'KMeans' in the elbow plot, with a varying K from 2 to 10.\n",
    "\n"
   ]
  },
  {
   "cell_type": "code",
   "execution_count": null,
   "metadata": {
    "colab": {
     "base_uri": "https://localhost:8080/",
     "height": 638
    },
    "id": "o0m6R9R5N6Kq",
    "outputId": "5cfd9932-dbcf-4c12-f4d9-b9f894a56f82"
   },
   "outputs": [
    {
     "data": {
      "image/png": "[encoded data removed]",
      "text/plain": [
       "<Figure size 1440x720 with 1 Axes>"
      ]
     },
     "metadata": {
      "tags": []
     },
     "output_type": "display_data"
    },
    {
     "name": "stdout",
     "output_type": "stream",
     "text": [
      "Result: The number of \"useful\" clusters is deemed to be 4 using the K-means elbow method, shown above. Increasing K further has diminishing returns.\n"
     ]
    }
   ],
   "source": [
    "from sklearn import preprocessing\n",
    "from sklearn.cluster import KMeans \n",
    "import matplotlib.pyplot as plt\n",
    "\n",
    "le_df = ml_df.apply(preprocessing.LabelEncoder().fit_transform)\n",
    "\n",
    "#Your code for Kmeans\n",
    "distortions = []\n",
    "kmeans_range = range(2,11)\n",
    "for k in kmeans_range:\n",
    "  k_means = KMeans(init = \"k-means++\", n_clusters = k)\n",
    "  k_means.fit(le_df)\n",
    "  distortions.append(k_means.inertia_)\n",
    "#Your code for visualizing K means result as elbow plot.\n",
    "plt.figure(figsize=(20,10))\n",
    "plt.plot(kmeans_range, distortions, marker = 'o', ms=10, markevery=[2])\n",
    "plt.xlabel('Clusters')\n",
    "plt.ylabel('Distortions')\n",
    "plt.title('K-means elbow method of determining clusters')\n",
    "plt.show()\n",
    "\n",
    "print(\"Result: The number of \\\"useful\\\" clusters is deemed to be 4 using the K-means elbow method, shown above. Increasing K further has diminishing returns.\")"
   ]
  },
  {
   "cell_type": "markdown",
   "metadata": {
    "id": "dU6zSmu0OEHC"
   },
   "source": [
    "## 3.Supervised Learning\n",
    " You are required to complete this part only using **PySpark**.\n"
   ]
  },
  {
   "cell_type": "code",
   "execution_count": null,
   "metadata": {
    "colab": {
     "base_uri": "https://localhost:8080/"
    },
    "id": "fh8-pmiTQuza",
    "outputId": "91061027-9e5f-40c8-f817-fb8dad7a48b2"
   },
   "outputs": [
    {
     "name": "stdout",
     "output_type": "stream",
     "text": [
      "Hit:1 https://cloud.r-project.org/bin/linux/ubuntu bionic-cran40/ InRelease\n",
      "Get:2 http://security.ubuntu.com/ubuntu bionic-security InRelease [88.7 kB]\n",
      "Ign:3 https://developer.download.nvidia.com/compute/cuda/repos/ubuntu1804/x86_64  InRelease\n",
      "Hit:4 http://ppa.launchpad.net/c2d4u.team/c2d4u4.0+/ubuntu bionic InRelease\n",
      "Ign:5 https://developer.download.nvidia.com/compute/machine-learning/repos/ubuntu1804/x86_64  InRelease\n",
      "Hit:6 https://developer.download.nvidia.com/compute/cuda/repos/ubuntu1804/x86_64  Release\n",
      "Hit:7 https://developer.download.nvidia.com/compute/machine-learning/repos/ubuntu1804/x86_64  Release\n",
      "Hit:8 http://archive.ubuntu.com/ubuntu bionic InRelease\n",
      "Hit:9 http://ppa.launchpad.net/cran/libgit2/ubuntu bionic InRelease\n",
      "Get:10 http://archive.ubuntu.com/ubuntu bionic-updates InRelease [88.7 kB]\n",
      "Hit:11 http://ppa.launchpad.net/deadsnakes/ppa/ubuntu bionic InRelease\n",
      "Get:12 http://archive.ubuntu.com/ubuntu bionic-backports InRelease [74.6 kB]\n",
      "Hit:13 http://ppa.launchpad.net/graphics-drivers/ppa/ubuntu bionic InRelease\n",
      "Get:16 http://archive.ubuntu.com/ubuntu bionic-updates/main amd64 Packages [2,583 kB]\n",
      "Get:17 http://archive.ubuntu.com/ubuntu bionic-updates/universe amd64 Packages [2,183 kB]\n",
      "Fetched 5,018 kB in 3s (1,736 kB/s)\n",
      "Reading package lists... Done\n"
     ]
    }
   ],
   "source": [
    "!apt-get update\n",
    "# install Java8\n",
    "!apt-get install openjdk-8-jdk-headless -qq > /dev/null\n",
    "# download spark 3.1.1\n",
    "!wget -q http://apache.osuosl.org/spark/spark-3.1.1/spark-3.1.1-bin-hadoop3.2.tgz\n",
    "# unzip it\n",
    "!tar xf spark-3.1.1-bin-hadoop3.2.tgz\n",
    "# install findspark \n",
    "!pip install -q findspark\n",
    "\n",
    "import os\n",
    "os.environ[\"JAVA_HOME\"] = \"/usr/lib/jvm/java-8-openjdk-amd64\"\n",
    "os.environ[\"SPARK_HOME\"] = \"/content/spark-3.1.1-bin-hadoop3.2\"\n",
    "\n",
    "import findspark \n",
    "findspark.init() "
   ]
  },
  {
   "cell_type": "code",
   "execution_count": null,
   "metadata": {
    "id": "HRzcbPF4Pskq"
   },
   "outputs": [],
   "source": [
    "from pyspark.sql import SparkSession \n",
    "from pyspark.sql.types import *\n",
    "spark = SparkSession.builder.appName('SIT742T2').getOrCreate()"
   ]
  },
  {
   "cell_type": "markdown",
   "metadata": {
    "id": "RncKyIESOMnJ"
   },
   "source": [
    "### 3.1 Data Preparation \n",
    "\n",
    "In order to reduce the processing time, we will select 10% of le_df."
   ]
  },
  {
   "cell_type": "code",
   "execution_count": null,
   "metadata": {
    "id": "DE23Ll_fOS5J"
   },
   "outputs": [],
   "source": [
    "schema = StructType([StructField(\"sc_status\", IntegerType(), True),\n",
    "                     StructField(\"cs_method\", IntegerType(), True),\n",
    "                     StructField(\"c_ip\", IntegerType(), True),\n",
    "                     StructField(\"cs_uri_stem\", IntegerType(), True),\n",
    "                     StructField(\"cs(User_Agent)\", IntegerType(), True)])\n",
    "\n",
    "sl_df = spark.createDataFrame(le_df, schema)"
   ]
  },
  {
   "cell_type": "code",
   "execution_count": null,
   "metadata": {
    "id": "dJdQe_8tPvlF"
   },
   "outputs": [],
   "source": [
    "#Only 10% of the data is used in this part.\n",
    "sl_df = sl_df.sample(fraction=0.1, seed=1)"
   ]
  },
  {
   "cell_type": "code",
   "execution_count": null,
   "metadata": {
    "colab": {
     "base_uri": "https://localhost:8080/"
    },
    "id": "Ut3zjBOyU2FU",
    "outputId": "be2c3f9d-bb0d-42e0-bf13-33fde2622aa9"
   },
   "outputs": [
    {
     "name": "stdout",
     "output_type": "stream",
     "text": [
      "+---------+---------+----+-----------+--------------+--------------------+\n",
      "|sc_status|cs_method|c_ip|cs_uri_stem|cs(User_Agent)|            features|\n",
      "+---------+---------+----+-----------+--------------+--------------------+\n",
      "|        0|    53189|2644|       2249|             4|[53189.0,2644.0,2...|\n",
      "|        0|    47602|2251|       1545|             4|[47602.0,2251.0,1...|\n",
      "|        0|    47309|2286|       1545|             0|[47309.0,2286.0,1...|\n",
      "+---------+---------+----+-----------+--------------+--------------------+\n",
      "only showing top 3 rows\n",
      "\n"
     ]
    }
   ],
   "source": [
    "from pyspark.ml.linalg import Vectors\n",
    "from pyspark.ml.feature import VectorAssembler\n",
    "# transformer\n",
    "vector_assembler = VectorAssembler(inputCols=['cs_method', 'c_ip', 'cs_uri_stem', 'cs(User_Agent)'],outputCol=\"features\")\n",
    "df_temp = vector_assembler.transform(sl_df)\n",
    "df_temp.show(3)"
   ]
  },
  {
   "cell_type": "code",
   "execution_count": null,
   "metadata": {
    "colab": {
     "base_uri": "https://localhost:8080/"
    },
    "id": "JBoKE5tYVdXj",
    "outputId": "885bc841-dbd4-4572-9b75-f22c8a62076c"
   },
   "outputs": [
    {
     "name": "stdout",
     "output_type": "stream",
     "text": [
      "+---------+--------------------+\n",
      "|sc_status|            features|\n",
      "+---------+--------------------+\n",
      "|        0|[53189.0,2644.0,2...|\n",
      "|        0|[47602.0,2251.0,1...|\n",
      "|        0|[47309.0,2286.0,1...|\n",
      "+---------+--------------------+\n",
      "only showing top 3 rows\n",
      "\n"
     ]
    }
   ],
   "source": [
    "df_sl = df_temp.drop('cs_method', 'c_ip', 'cs_uri_stem', 'cs(User_Agent)')\n",
    "df_sl.show(3)"
   ]
  },
  {
   "cell_type": "markdown",
   "metadata": {
    "id": "12YtMZE0OTOR"
   },
   "source": [
    "###  3.2 Decision Tree or Logistic Regression\n",
    "\n",
    " <div class=\"alert alert-block alert-info\">\n",
    "\n",
    "**Code**: \n",
    "    1. Perform supervised learning on ml\\_df with Decision Tree or Logistic Regression,  <br>\n",
    "    2. Evaluate the classification result using [confusion matrix ](https://en.wikipedia.org/wiki/Confusion_matrix) including TP, TN, FP, FN, <br>\n",
    "    3. Evaluate the classification result using Precision, Recall and F1 score.\n",
    "    <br>\n",
    "    *Keep the outputs for code in your notebook.\n",
    "\n",
    "**Report**:\n",
    "    1. Display the classification result using [confusion matrix ](https://en.wikipedia.org/wiki/Confusion_matrix) including TP, TN, FP, FN, <br>\n",
    "    2. Display the classification result using Precision, Recall and F1 score.\n",
    "</div>"
   ]
  },
  {
   "cell_type": "code",
   "execution_count": null,
   "metadata": {
    "colab": {
     "base_uri": "https://localhost:8080/"
    },
    "id": "M_XZqsSAOr4a",
    "outputId": "9272545b-497f-4d77-9ffa-de53c0edb09d"
   },
   "outputs": [
    {
     "name": "stdout",
     "output_type": "stream",
     "text": [
      "Training Dataset Count: 177036\n",
      "Test Dataset Count: 75975\n"
     ]
    }
   ],
   "source": [
    "#Create the data sets for training and testing\n",
    "(trainingData, testData) = df_sl.randomSplit([0.7, 0.3])\n",
    "\n",
    "print(\"Training Dataset Count: \" + str(trainingData.count()))\n",
    "print(\"Test Dataset Count: \" + str(testData.count()))"
   ]
  },
  {
   "cell_type": "code",
   "execution_count": null,
   "metadata": {
    "id": "19Ri7rpuOxk6"
   },
   "outputs": [],
   "source": [
    "from pyspark.ml.classification import LogisticRegression\n",
    "from pyspark.ml.classification import DecisionTreeClassifier\n",
    "from pyspark.ml.evaluation import MulticlassClassificationEvaluator\n",
    "\n",
    "# Your code contains trainning from train data and predicting based on the test data\n",
    "\n",
    "lr = LogisticRegression(featuresCol = \"features\", labelCol = \"sc_status\", maxIter=5)\n",
    "lrModel = lr.fit(trainingData)\n",
    "predictions = lrModel.transform(testData)\n",
    "predictions = predictions.select(\"sc_status\", \"features\", \"rawPrediction\", \"prediction\")\n",
    "predictions=predictions.withColumn(\"prediction\", predictions[\"prediction\"].cast(DoubleType()))\n",
    "predictions=predictions.withColumn(\"sc_status\", predictions[\"sc_status\"].cast(DoubleType()))\n",
    "\n",
    "results = predictions.select(['prediction', 'sc_status'])\n"
   ]
  },
  {
   "cell_type": "code",
   "execution_count": null,
   "metadata": {
    "colab": {
     "base_uri": "https://localhost:8080/",
     "height": 310
    },
    "id": "66ESM5L3O1cp",
    "outputId": "900e5e08-fa3d-4930-ef29-f7abd66de8f6"
   },
   "outputs": [
    {
     "data": {
      "text/plain": [
       "Text(0.5, 15.0, 'Predicted label')"
      ]
     },
     "execution_count": 95,
     "metadata": {
      "tags": []
     },
     "output_type": "execute_result"
    },
    {
     "data": {
      "image/png": "[encoded data removed]",
      "text/plain": [
       "<Figure size 432x288 with 2 Axes>"
      ]
     },
     "metadata": {
      "tags": []
     },
     "output_type": "display_data"
    }
   ],
   "source": [
    "# Your code to display TP, TN, FP, FN\n",
    "from pyspark.mllib.evaluation import MulticlassMetrics\n",
    "import seaborn as sns\n",
    "predictionAndLabels = results.rdd\n",
    "metrics = MulticlassMetrics(predictionAndLabels)\n",
    "cm=metrics.confusionMatrix().toArray()\n",
    "\n",
    "fig, ax = plt.subplots()\n",
    "sns.heatmap(pd.DataFrame(cm), cmap=\"Blues\", annot=True, fmt='g')\n",
    "ax.xaxis.set_label_position(\"top\")\n",
    "plt.plot()\n",
    "plt.title('Confusion matrix')\n",
    "plt.ylabel('Actual label')\n",
    "plt.xlabel('Predicted label')"
   ]
  },
  {
   "cell_type": "code",
   "execution_count": null,
   "metadata": {
    "colab": {
     "base_uri": "https://localhost:8080/"
    },
    "id": "Q0oZAV4P7iJM",
    "outputId": "17b0abf1-0dd6-4699-9d34-b3fab210f8fe"
   },
   "outputs": [
    {
     "name": "stdout",
     "output_type": "stream",
     "text": [
      "True positive rate =  75817\n",
      "False positive rate =  0\n",
      "True negative rate =  0\n",
      "False negative rate =  158\n"
     ]
    }
   ],
   "source": [
    "df_testresults = results.toPandas()\n",
    "\n",
    "y_true = df_testresults['sc_status']\n",
    "y_pred = df_testresults['prediction']\n",
    "\n",
    "def performance_check(y_true, y_pred):\n",
    "    True_Positive = 0\n",
    "    False_Positive = 0\n",
    "    True_Negative = 0\n",
    "    False_Negative = 0\n",
    "\n",
    "    for x in range(len(y_pred)): \n",
    "        if y_true[x]==y_pred[x]==0:\n",
    "           True_Positive += 1\n",
    "        if y_pred[x]==1 and y_true[x]!=y_pred[x]:\n",
    "           False_Positive += 1\n",
    "        if y_true[x]==y_pred[x]==1:\n",
    "           True_Negative += 1\n",
    "        if y_pred[x]==0 and y_true[x]!=y_pred[x]:\n",
    "           False_Negative += 1\n",
    "\n",
    "    return(True_Positive, False_Positive, True_Negative, False_Negative)\n",
    "\n",
    "print(\"True positive rate = \", performance_check(y_true,y_pred)[0])\n",
    "print(\"False positive rate = \", performance_check(y_true,y_pred)[1])\n",
    "print(\"True negative rate = \", performance_check(y_true,y_pred)[2])\n",
    "print(\"False negative rate = \", performance_check(y_true,y_pred)[3])\n"
   ]
  },
  {
   "cell_type": "code",
   "execution_count": null,
   "metadata": {
    "colab": {
     "base_uri": "https://localhost:8080/"
    },
    "id": "9BZB16gVO2pq",
    "outputId": "dabdada9-76c2-4ea0-cbaa-f94a161d91a7"
   },
   "outputs": [
    {
     "name": "stdout",
     "output_type": "stream",
     "text": [
      "              precision    recall  f1-score   support\n",
      "\n",
      "         0.0       1.00      1.00      1.00     75817\n",
      "         1.0       0.00      0.00      0.00        62\n",
      "         2.0       0.00      0.00      0.00         7\n",
      "         3.0       0.00      0.00      0.00        88\n",
      "         4.0       0.00      0.00      0.00         1\n",
      "\n",
      "    accuracy                           1.00     75975\n",
      "   macro avg       0.20      0.20      0.20     75975\n",
      "weighted avg       1.00      1.00      1.00     75975\n",
      "\n"
     ]
    }
   ],
   "source": [
    "from sklearn.metrics import classification_report\n",
    "\n",
    "\n",
    "# Your Code to display the classification results as required.\n",
    "\n",
    "print(classification_report(y_true, y_pred, zero_division=0))\n",
    "\n"
   ]
  },
  {
   "cell_type": "markdown",
   "metadata": {
    "id": "vt5iA23HO5uC"
   },
   "source": [
    "### 3.3 K-fold Cross-Validation\n",
    "You are required to use K-fold cross validation to find out the best hyper-parameter set, where K = 2.\n",
    "<div class=\"alert alert-block alert-info\">\n",
    "\n",
    "**Code**: \n",
    "Implement 2-fold cross validation for three (any three) classification models, where K = 2.\n",
    "    <br>\n",
    "    *Keep the outputs for code in your notebook.\n",
    "\n",
    "**Report**:\n",
    "    1.  Your code design and running results, <br>\n",
    "\t\t2.  Your findings on hyper-parameters based on this cross-validation  results (Best results).\n",
    "</div>"
   ]
  },
  {
   "cell_type": "code",
   "execution_count": null,
   "metadata": {
    "colab": {
     "base_uri": "https://localhost:8080/"
    },
    "id": "jgJtFjqKPEFD",
    "outputId": "952f2bf7-594e-43ad-b7bc-31fbfa9b48fd"
   },
   "outputs": [
    {
     "data": {
      "text/plain": [
       "LinearRegressionModel: uid=LinearRegression_e3a37f9cf5c7, numFeatures=4"
      ]
     },
     "execution_count": 100,
     "metadata": {
      "tags": []
     },
     "output_type": "execute_result"
    }
   ],
   "source": [
    "from pyspark.ml import Pipeline\n",
    "from pyspark.ml.regression import LinearRegression, RandomForestRegressor\n",
    "from pyspark.ml.classification import DecisionTreeClassifier, LogisticRegression, OneVsRest\n",
    "from pyspark.ml.evaluation import RegressionEvaluator, BinaryClassificationEvaluator\n",
    "from pyspark.ml.evaluation import MulticlassClassificationEvaluator\n",
    "from pyspark.ml.tuning import ParamGridBuilder, CrossValidator\n",
    "\n",
    "\n",
    "## I have made an assumption that any model/parameters can be used, and what's being assessed is my ability to use pyspark\n",
    "## to adjust K and extract valuable hyper-parameter combinations.\n",
    "\n",
    "### LINEAR REGRESSION ###\n",
    "\n",
    "lr = LinearRegression(maxIter=5, solver=\"l-bfgs\")\n",
    "\n",
    "modelEvaluator=MulticlassClassificationEvaluator()\n",
    "pipeline = Pipeline(stages=[lr])\n",
    "#Input params\n",
    "paramGrid = ParamGridBuilder().addGrid(lr.regParam, [0.2, 0.01]).addGrid(lr.elasticNetParam, [0, 1]).build()\n",
    "\n",
    "#2 fold cross validation for linear model\n",
    "crossval = CrossValidator(estimator=lr,\n",
    "                          estimatorParamMaps=paramGrid,\n",
    "                          evaluator=modelEvaluator,\n",
    "                          numFolds=2)\n",
    "\n",
    "training = trainingData.select(\"features\", \"sc_status\")\n",
    "training = training.withColumnRenamed(\"sc_status\", \"label\")\n",
    "training\n",
    "\n",
    "#Fit training data\n",
    "lrModel = crossval.fit(training)\n",
    "#Confirm k=2\n",
    "lrModel.getNumFolds()\n",
    "#Best model\n",
    "best_model = lrModel.bestModel\n",
    "#Best lr hyper-parameter output\n",
    "best_model"
   ]
  },
  {
   "cell_type": "code",
   "execution_count": null,
   "metadata": {
    "colab": {
     "base_uri": "https://localhost:8080/"
    },
    "id": "-DJk7Ek1_ftE",
    "outputId": "ff03fa7e-fda1-43d2-d5a6-411fd735edb1"
   },
   "outputs": [
    {
     "data": {
      "text/plain": [
       "RandomForestRegressionModel: uid=RandomForestRegressor_2dd5af148036, numTrees=20, numFeatures=4"
      ]
     },
     "execution_count": 101,
     "metadata": {
      "tags": []
     },
     "output_type": "execute_result"
    }
   ],
   "source": [
    "### RANDOM FOREST ###\n",
    "\n",
    "rf = RandomForestRegressor(labelCol=\"label\", featuresCol=\"features\")\n",
    "rfevaluator = RegressionEvaluator(labelCol=\"label\", predictionCol=\"prediction\", metricName=\"rmse\")\n",
    "rfparamGrid = (ParamGridBuilder()\n",
    "               .addGrid(rf.maxDepth, [2, 5, 10])\n",
    "               .addGrid(rf.maxBins, [5, 10, 20])\n",
    "               .addGrid(rf.numTrees, [5, 20, 50])\n",
    "             .build())\n",
    "\n",
    "#2 fold cross validation for random forest model\n",
    "rfcv = CrossValidator(estimator = rf,\n",
    "                      estimatorParamMaps = rfparamGrid,\n",
    "                      evaluator = rfevaluator,\n",
    "                      numFolds = 2)\n",
    "\n",
    "#Fit training data\n",
    "rfcvModel = rfcv.fit(training)\n",
    "\n",
    "rfcv_best_model = rfcvModel.bestModel\n",
    "\n",
    "#Best rfvc hyper-parameter output\n",
    "rfcv_best_model"
   ]
  },
  {
   "cell_type": "code",
   "execution_count": null,
   "metadata": {
    "colab": {
     "base_uri": "https://localhost:8080/"
    },
    "id": "jfLWiKqJ_gNg",
    "outputId": "81c4d4ad-3b8a-4908-915b-3dddb150847c"
   },
   "outputs": [
    {
     "data": {
      "text/plain": [
       "DecisionTreeClassificationModel: uid=DecisionTreeClassifier_08cefb46078c, depth=18, numNodes=259, numClasses=5, numFeatures=4"
      ]
     },
     "execution_count": 102,
     "metadata": {
      "tags": []
     },
     "output_type": "execute_result"
    }
   ],
   "source": [
    "### DECISION TREE CLASSIFIER ###\n",
    "\n",
    "dt = DecisionTreeClassifier(labelCol=\"label\", featuresCol=\"features\", maxDepth=2)\n",
    "dtevaluator = BinaryClassificationEvaluator(rawPredictionCol=\"prediction\")\n",
    "dtparamGrid = (ParamGridBuilder()\n",
    "             .addGrid(dt.maxDepth, [2, 5, 10, 20, 25])\n",
    "             .addGrid(dt.maxBins, [10, 20, 30, 50, 90])\n",
    "             .build())\n",
    "\n",
    "#2 fold cross validation for decision tree model\n",
    "dtcv = CrossValidator(estimator = dt,\n",
    "                      estimatorParamMaps = dtparamGrid,\n",
    "                      evaluator = dtevaluator,\n",
    "                      numFolds = 2) # 2 folds\n",
    "\n",
    "dtcvModel = dtcv.fit(training) #Fit training data\n",
    "\n",
    "dtcv_best_model = dtcvModel.bestModel\n",
    "\n",
    "\n",
    "dtcv_best_model #Best dtvc hyper-parameter output"
   ]
  },
  {
   "cell_type": "code",
   "execution_count": null,
   "metadata": {
    "colab": {
     "base_uri": "https://localhost:8080/"
    },
    "id": "axNU5d8i_og9",
    "outputId": "16a9426e-b633-40d1-8185-19c6b8d39a71"
   },
   "outputs": [
    {
     "name": "stdout",
     "output_type": "stream",
     "text": [
      "\u001b[1m\u001b[4mThe best decision tree hyper-parameters are: \u001b[0m DecisionTreeClassificationModel: uid=DecisionTreeClassifier_08cefb46078c, depth=18, numNodes=259, numClasses=5, numFeatures=4\n",
      "\u001b[1m\u001b[4mThe best random forest hyper-parameters are: \u001b[0m RandomForestRegressionModel: uid=RandomForestRegressor_2dd5af148036, numTrees=20, numFeatures=4\n",
      "\u001b[1m\u001b[4mThe best linear regression hyper-parameters are: \u001b[0m LinearRegressionModel: uid=LinearRegression_e3a37f9cf5c7, numFeatures=4\n"
     ]
    }
   ],
   "source": [
    "print('\\033[1m' + '\\033[4m' + \"The best decision tree hyper-parameters are: \"  + '\\033[0m', dtcv_best_model)\n",
    "print('\\033[1m' + '\\033[4m' + \"The best random forest hyper-parameters are: \"  + '\\033[0m', rfcv_best_model) \n",
    "print('\\033[1m' + '\\033[4m' + \"The best linear regression hyper-parameters are: \"  + '\\033[0m', best_model)"
   ]
  },
  {
   "cell_type": "markdown",
   "metadata": {
    "id": "-ThOmZbnPyMa"
   },
   "source": [
    "## 4.Association Rule Mining\n",
    "<div class=\"alert alert-block alert-info\">\n",
    "\n",
    "**Code**: \n",
    "Implement association rule mining with a suitable threshold for support, and confidence \n",
    "    <br>\n",
    "    *Keep the outputs for code in your notebook.\n",
    "\n",
    "**Report**:\n",
    "    1.  Your code design and running results, <br>\n",
    "\t\t2.  Your findings on on ARMing results.\n",
    "</div>"
   ]
  },
  {
   "cell_type": "code",
   "execution_count": null,
   "metadata": {
    "colab": {
     "base_uri": "https://localhost:8080/"
    },
    "id": "VtZ5-w3tQJDl",
    "outputId": "21f19804-21e6-40cc-c805-d4cad14711ae"
   },
   "outputs": [
    {
     "name": "stdout",
     "output_type": "stream",
     "text": [
      "Collecting apyori\n",
      "  Downloading https://files.pythonhosted.org/packages/5e/62/5ffde5c473ea4b033490617ec5caa80d59804875ad3c3c57c0976533a21a/apyori-1.1.2.tar.gz\n",
      "Building wheels for collected packages: apyori\n",
      "  Building wheel for apyori (setup.py) ... \u001b[?25l\u001b[?25hdone\n",
      "  Created wheel for apyori: filename=apyori-1.1.2-cp37-none-any.whl size=5975 sha256=9fe8bfe72daf2105ba0c177e9834148cb92d32319ae44354c3a98c152a8dd160\n",
      "  Stored in directory: /root/.cache/pip/wheels/5d/92/bb/474bbadbc8c0062b9eb168f69982a0443263f8ab1711a8cad0\n",
      "Successfully built apyori\n",
      "Installing collected packages: apyori\n",
      "Successfully installed apyori-1.1.2\n"
     ]
    }
   ],
   "source": [
    "!pip install apyori"
   ]
  },
  {
   "cell_type": "code",
   "execution_count": 200,
   "metadata": {
    "colab": {
     "base_uri": "https://localhost:8080/"
    },
    "id": "sLR-Vp-cQPki",
    "outputId": "77f20e13-00a3-451f-92ce-4075cf51d292"
   },
   "outputs": [
    {
     "name": "stdout",
     "output_type": "stream",
     "text": [
      "Rule: Mozilla/4.0+(compatible;+MSIE+6.0;+Windows+NT+5.1;+SV1;+FunWebProducts;+.NET+CLR+1.1.4322)      ~~~~~>      218.103.134.118\n",
      "Support: 0.007476454024662588\n",
      "Confidence: 0.8953488372093024\n",
      "Lift: 47.778226292324376\n",
      "=====================================\n",
      "Rule: 219.75.216.221      ~~~~~>      Mozilla/4.0+(compatible;+MSIE+6.0;+Windows+NT+5.1;+SV1;+.NET+CLR+1.1.4322;+.NET+CLR+2.0.50727)\n",
      "Support: 0.0077677444412078845\n",
      "Confidence: 1.0\n",
      "Lift: 37.315217391304344\n",
      "=====================================\n",
      "Rule: Mozilla/4.0+(compatible;+MSIE+6.0;+Windows+NT+5.1)      ~~~~~>      59.37.21.162\n",
      "Support: 0.012525487911447713\n",
      "Confidence: 1.0\n",
      "Lift: 15.440779610194904\n",
      "=====================================\n",
      "Rule: 61.10.222.183      ~~~~~>      Mozilla/4.0+(compatible;+MSIE+6.0;+Windows+98;+Win+9x+4.90;+HbTools+4.8.2)\n",
      "Support: 0.017089037770657345\n",
      "Confidence: 1.0\n",
      "Lift: 58.51704545454545\n",
      "=====================================\n",
      "Rule: Mozilla/4.0+(compatible;+MSIE+6.0;+Windows+NT+5.1;+nifty;+SV1;+.NET+CLR+2.0.50727)      ~~~~~>      61.124.112.210\n",
      "Support: 0.007961938052238082\n",
      "Confidence: 1.0\n",
      "Lift: 86.54621848739497\n",
      "=====================================\n",
      "Rule: 81.96.71.98      ~~~~~>      Mozilla/4.0+(compatible;+MSIE+7.0;+Windows+NT+5.1;+.NET+CLR+1.1.4322)\n",
      "Support: 0.012525487911447713\n",
      "Confidence: 1.0\n",
      "Lift: 34.21594684385382\n",
      "=====================================\n",
      "Rule: 88.111.132.38      ~~~~~>      Mozilla/4.0+(compatible;+MSIE+7.0;+Windows+NT+5.1)\n",
      "Support: 0.00805903485775318\n",
      "Confidence: 0.9431818181818183\n",
      "Lift: 29.797023145566097\n",
      "=====================================\n"
     ]
    }
   ],
   "source": [
    "####### Per discussion board comments, a subset of data can be used for this question   #######\n",
    "\n",
    "from apyori import apriori\n",
    "\n",
    "apriori_data = weblog_df[['date', 'cs(User_Agent)', 'cs_uri_stem', 'c_ip']] # subset by dimension\n",
    "apriori_data = apriori_data[(apriori_data['date'] == '2007-01-07')] # subset by date\n",
    "\n",
    "\n",
    "apriori_data = apriori_data.drop(['date'], axis=1)\n",
    "\n",
    "checkobservations = []\n",
    "for i in range(len(apriori_data)):\n",
    "  checkobservations.append([str(apriori_data.values[i][j]) for j in range(0, 3)])\n",
    "\n",
    "relationships = apriori(\n",
    "    checkobservations,\n",
    "    min_support = 0.007,\n",
    "    min_confidence = 0.01,\n",
    "    min_lift = 15\n",
    ")\n",
    "\n",
    "relationships = list(relationships)\n",
    "\n",
    "for item in relationships:\n",
    "    pair = item[0] \n",
    "    items = [x for x in pair]\n",
    "    print(\"Rule: \" + items[0] + \"      ~~~~~>      \" + items[1])\n",
    "    print(\"Support: \" + str(item[1]))\n",
    "    print(\"Confidence: \" + str(item[2][0][2]))\n",
    "    print(\"Lift: \" + str(item[2][0][3]))\n",
    "    print(\"=====================================\")"
   ]
  },
  {
   "cell_type": "code",
   "execution_count": 182,
   "metadata": {
    "colab": {
     "base_uri": "https://localhost:8080/",
     "height": 289
    },
    "id": "3CppIRSAZc3p",
    "outputId": "17b3b445-0756-4a37-d380-7501a8164b13"
   },
   "outputs": [
    {
     "data": {
      "text/html": [
       "<div>\n",
       "<style scoped>\n",
       "    .dataframe tbody tr th:only-of-type {\n",
       "        vertical-align: middle;\n",
       "    }\n",
       "\n",
       "    .dataframe tbody tr th {\n",
       "        vertical-align: top;\n",
       "    }\n",
       "\n",
       "    .dataframe thead th {\n",
       "        text-align: right;\n",
       "    }\n",
       "</style>\n",
       "<table border=\"1\" class=\"dataframe\">\n",
       "  <thead>\n",
       "    <tr style=\"text-align: right;\">\n",
       "      <th></th>\n",
       "      <th>date</th>\n",
       "      <th>time</th>\n",
       "      <th>s_sitename</th>\n",
       "      <th>s_ip</th>\n",
       "      <th>cs_method</th>\n",
       "      <th>cs_uri_stem</th>\n",
       "      <th>s_port</th>\n",
       "      <th>c_ip</th>\n",
       "      <th>cs(User_Agent)</th>\n",
       "      <th>sc_status</th>\n",
       "      <th>sc_substatus</th>\n",
       "      <th>sc_win32_status</th>\n",
       "    </tr>\n",
       "  </thead>\n",
       "  <tbody>\n",
       "    <tr>\n",
       "      <th>32497</th>\n",
       "      <td>2006-11-05</td>\n",
       "      <td>15:20:11</td>\n",
       "      <td>W3SVC1</td>\n",
       "      <td>127.0.0.1</td>\n",
       "      <td>GET</td>\n",
       "      <td>/Tulip/common/images/bar_2.jpg</td>\n",
       "      <td>80.0</td>\n",
       "      <td>125.28.188.32</td>\n",
       "      <td>Mozilla/4.0+(compatible;+MSIE+6.0;+Windows+NT+...</td>\n",
       "      <td>200.0</td>\n",
       "      <td>0.0</td>\n",
       "      <td>0.0</td>\n",
       "    </tr>\n",
       "    <tr>\n",
       "      <th>58592</th>\n",
       "      <td>2006-11-28</td>\n",
       "      <td>11:09:07</td>\n",
       "      <td>W3SVC1</td>\n",
       "      <td>127.0.0.1</td>\n",
       "      <td>GET</td>\n",
       "      <td>/Tulip/home/en-us/images/home.swf</td>\n",
       "      <td>80.0</td>\n",
       "      <td>210.131.225.123</td>\n",
       "      <td>Mozilla/4.0+(compatible;+MSIE+6.0;+Windows+NT+...</td>\n",
       "      <td>200.0</td>\n",
       "      <td>0.0</td>\n",
       "      <td>0.0</td>\n",
       "    </tr>\n",
       "    <tr>\n",
       "      <th>115347</th>\n",
       "      <td>2006-12-12</td>\n",
       "      <td>18:39:17</td>\n",
       "      <td>W3SVC1</td>\n",
       "      <td>127.0.0.1</td>\n",
       "      <td>GET</td>\n",
       "      <td>/Tulip/common/zh-hk/images/sectionbanner_whats...</td>\n",
       "      <td>80.0</td>\n",
       "      <td>221.127.137.14</td>\n",
       "      <td>Mozilla/4.0+(compatible;+MSIE+6.0;+Windows+NT+...</td>\n",
       "      <td>304.0</td>\n",
       "      <td>0.0</td>\n",
       "      <td>0.0</td>\n",
       "    </tr>\n",
       "    <tr>\n",
       "      <th>62597</th>\n",
       "      <td>2006-11-27</td>\n",
       "      <td>09:13:53</td>\n",
       "      <td>W3SVC1</td>\n",
       "      <td>127.0.0.1</td>\n",
       "      <td>GET</td>\n",
       "      <td>/Tulip/includes/js/CommonUtil.js</td>\n",
       "      <td>80.0</td>\n",
       "      <td>221.239.71.229</td>\n",
       "      <td>Mozilla/4.0+(compatible;+MSIE+6.0;+Windows+NT+...</td>\n",
       "      <td>304.0</td>\n",
       "      <td>0.0</td>\n",
       "      <td>0.0</td>\n",
       "    </tr>\n",
       "    <tr>\n",
       "      <th>56418</th>\n",
       "      <td>2006-12-10</td>\n",
       "      <td>16:19:34</td>\n",
       "      <td>W3SVC1</td>\n",
       "      <td>127.0.0.1</td>\n",
       "      <td>GET</td>\n",
       "      <td>/Tulip/common/zh-hk/images/sidebanner_2.jpg</td>\n",
       "      <td>80.0</td>\n",
       "      <td>219.79.2.210</td>\n",
       "      <td>Mozilla/4.0+(compatible;+MSIE+6.0;+Windows+NT+...</td>\n",
       "      <td>304.0</td>\n",
       "      <td>0.0</td>\n",
       "      <td>0.0</td>\n",
       "    </tr>\n",
       "  </tbody>\n",
       "</table>\n",
       "</div>"
      ],
      "text/plain": [
       "              date      time  ... sc_substatus sc_win32_status\n",
       "32497   2006-11-05  15:20:11  ...          0.0             0.0\n",
       "58592   2006-11-28  11:09:07  ...          0.0             0.0\n",
       "115347  2006-12-12  18:39:17  ...          0.0             0.0\n",
       "62597   2006-11-27  09:13:53  ...          0.0             0.0\n",
       "56418   2006-12-10  16:19:34  ...          0.0             0.0\n",
       "\n",
       "[5 rows x 12 columns]"
      ]
     },
     "execution_count": 182,
     "metadata": {
      "tags": []
     },
     "output_type": "execute_result"
    }
   ],
   "source": [
    "weblog_df.head()"
   ]
  },
  {
   "cell_type": "markdown",
   "metadata": {
    "id": "mX5Kb_DPQ3cE"
   },
   "source": [
    "# Part II - Web Crawling\n",
    "\n",
    "## Overview\n",
    "In 2021, \n",
    "to better introduce and understand the research works on the professors,\n",
    "Deakin university wants to perform the citation prediction on individual professor level.\n",
    "You are required to implement a web crawler to crawl the *citation* information \n",
    "for A/Professor Gang Li from 2003 to 2021 (start at 2003 and end at 2021),\n",
    "and also conduct several prediction coding tasks. \n",
    "You will need to make sure that \n",
    "the web crawling code and prediction code meets the requirements.\n",
    "You are free to use any **Python** package for Web crawling and prediction \n",
    "by finishing below tasks.  \n"
   ]
  },
  {
   "cell_type": "markdown",
   "metadata": {
    "id": "REp-ATy8gGyS"
   },
   "source": [
    "## 5.Crawl Gang Li citation information from 2003 to 2021"
   ]
  },
  {
   "cell_type": "markdown",
   "metadata": {
    "id": "99Y04DfvFMGO"
   },
   "source": [
    " <div class=\"alert alert-block alert-info\">\n",
    "\n",
    "**Code**: \n",
    "    You are required to write the code to generate the csv for Gang Li's citation from 2003 to 2021\n",
    "    <br>\n",
    "    *Keep the outputs for code in your notebook.\n",
    "</div>"
   ]
  },
  {
   "cell_type": "code",
   "execution_count": 2,
   "metadata": {
    "colab": {
     "base_uri": "https://localhost:8080/"
    },
    "id": "WpyNYt7B7_V8",
    "outputId": "78661ff3-5210-42d2-9489-d4ea13ceec26"
   },
   "outputs": [
    {
     "name": "stdout",
     "output_type": "stream",
     "text": [
      "Requirement already satisfied: selenium in c:\\users\\free family\\anaconda3\\lib\\site-packages (3.141.0)\n",
      "Requirement already satisfied: urllib3 in c:\\users\\free family\\anaconda3\\lib\\site-packages (from selenium) (1.25.11)\n",
      "Requirement already satisfied: bs4 in c:\\users\\free family\\anaconda3\\lib\\site-packages (0.0.1)\n",
      "Requirement already satisfied: beautifulsoup4 in c:\\users\\free family\\anaconda3\\lib\\site-packages (from bs4) (4.9.3)\n",
      "Requirement already satisfied: soupsieve>1.2; python_version >= \"3.0\" in c:\\users\\free family\\anaconda3\\lib\\site-packages (from beautifulsoup4->bs4) (2.0.1)\n",
      "Requirement already satisfied: requests in c:\\users\\free family\\anaconda3\\lib\\site-packages (2.24.0)\n",
      "Requirement already satisfied: chardet<4,>=3.0.2 in c:\\users\\free family\\anaconda3\\lib\\site-packages (from requests) (3.0.4)\n",
      "Requirement already satisfied: urllib3!=1.25.0,!=1.25.1,<1.26,>=1.21.1 in c:\\users\\free family\\anaconda3\\lib\\site-packages (from requests) (1.25.11)\n",
      "Requirement already satisfied: idna<3,>=2.5 in c:\\users\\free family\\anaconda3\\lib\\site-packages (from requests) (2.10)\n",
      "Requirement already satisfied: certifi>=2017.4.17 in c:\\users\\free family\\anaconda3\\lib\\site-packages (from requests) (2020.6.20)\n",
      "Requirement already satisfied: unidecode in c:\\users\\free family\\anaconda3\\lib\\site-packages (1.2.0)\n"
     ]
    }
   ],
   "source": [
    "\n",
    "!pip install selenium\n",
    "!pip install bs4\n",
    "!pip install requests\n",
    "!pip install unidecode\n",
    "import requests \n",
    "import warnings\n",
    "warnings.filterwarnings(\"ignore\", category=UserWarning)\n",
    "from bs4 import BeautifulSoup\n",
    "from selenium import webdriver\n",
    "from time import sleep\n",
    "import pandas as pd"
   ]
  },
  {
   "cell_type": "code",
   "execution_count": 3,
   "metadata": {
    "colab": {
     "base_uri": "https://localhost:8080/",
     "height": 425
    },
    "id": "1Uisb56M1C1A",
    "outputId": "4bed3ae7-b776-49d7-8646-e617756c0fa7"
   },
   "outputs": [
    {
     "name": "stdout",
     "output_type": "stream",
     "text": [
      "    year citations\n",
      "0   2003        15\n",
      "1   2004        34\n",
      "2   2005        17\n",
      "3   2006        11\n",
      "4   2007        33\n",
      "5   2008        41\n",
      "6   2009        57\n",
      "7   2010        68\n",
      "8   2011       105\n",
      "9   2012       129\n",
      "10  2013       172\n",
      "11  2014       251\n",
      "12  2015       290\n",
      "13  2016       339\n",
      "14  2017       386\n",
      "15  2018       450\n",
      "16  2019       579\n",
      "17  2020       838\n",
      "18  2021       315\n"
     ]
    }
   ],
   "source": [
    "gang_li_web_link = \"https://scholar.google.com/citations?user=dqwjm-0AAAAJ\"\n",
    "    \n",
    "driver = webdriver.Chrome()\n",
    "driver.get(gang_li_web_link) # get gang li's webpage\n",
    "\n",
    "button = driver.find_element_by_css_selector('#gsc_hist_opn') #use css selector to identify button to click\n",
    "button.click  \n",
    "sleep(5)\n",
    "\n",
    "modal_source = driver.page_source # modal pop up source\n",
    "modal_soup = BeautifulSoup(modal_source,\"lxml\")\n",
    "\n",
    "citations = [x.string for x in modal_soup.find_all('a', {'class':\"gsc_g_a\"})] #search modal by element tag and store in list\n",
    "year = [y.string for y in modal_soup.find_all('span', {'class':\"gsc_g_t\"})]\n",
    "\n",
    "create_df = pd.DataFrame(\n",
    "      list(zip(\n",
    "          year,\n",
    "          citations,\n",
    "          )),\n",
    "          columns= [\"year\", \"citations\"])\n",
    "\n",
    "\n",
    "print(create_df)\n",
    "create_df.to_csv('citation2003-2021.csv', index =False)"
   ]
  },
  {
   "cell_type": "markdown",
   "metadata": {
    "id": "mDs8ETNWII8b"
   },
   "source": [
    "## 6.Train Arima to predict the 2018 to 2020 citation"
   ]
  },
  {
   "cell_type": "markdown",
   "metadata": {
    "id": "mtKVVs6wGXwc"
   },
   "source": [
    "### 6.1 Train Arima Model\n",
    " <div class=\"alert alert-block alert-info\">\n",
    "\n",
    "**Code**: \n",
    "    You will need to use the create_df and then perform the\n",
    "Arima training with parameter of $p=1$, $q=1$ and $d=1$ on data from 2003 to 2017 (15 years)\n",
    "    <br>\n",
    "    *Keep the outputs for code in your notebook.\n",
    "</div>"
   ]
  },
  {
   "cell_type": "code",
   "execution_count": 4,
   "metadata": {
    "id": "1NDqdSIFsMo6",
    "outputId": "8289accc-cb15-432a-8a0c-13ad74aee31d"
   },
   "outputs": [
    {
     "name": "stdout",
     "output_type": "stream",
     "text": [
      "Requirement already satisfied: statsmodels==0.11.1 in c:\\users\\free family\\anaconda3\\lib\\site-packages (0.11.1)\n",
      "Requirement already satisfied: scipy>=1.0 in c:\\users\\free family\\anaconda3\\lib\\site-packages (from statsmodels==0.11.1) (1.5.2)\n",
      "Requirement already satisfied: patsy>=0.5 in c:\\users\\free family\\anaconda3\\lib\\site-packages (from statsmodels==0.11.1) (0.5.1)\n",
      "Requirement already satisfied: numpy>=1.14 in c:\\users\\free family\\anaconda3\\lib\\site-packages (from statsmodels==0.11.1) (1.19.2)\n",
      "Requirement already satisfied: pandas>=0.21 in c:\\users\\free family\\anaconda3\\lib\\site-packages (from statsmodels==0.11.1) (1.1.3)\n",
      "Requirement already satisfied: six in c:\\users\\free family\\anaconda3\\lib\\site-packages (from patsy>=0.5->statsmodels==0.11.1) (1.15.0)\n",
      "Requirement already satisfied: python-dateutil>=2.7.3 in c:\\users\\free family\\anaconda3\\lib\\site-packages (from pandas>=0.21->statsmodels==0.11.1) (2.8.1)\n",
      "Requirement already satisfied: pytz>=2017.2 in c:\\users\\free family\\anaconda3\\lib\\site-packages (from pandas>=0.21->statsmodels==0.11.1) (2020.1)\n",
      "Requirement already satisfied: scikit-learn in c:\\users\\free family\\anaconda3\\lib\\site-packages (0.23.2)\n",
      "Requirement already satisfied: scipy>=0.19.1 in c:\\users\\free family\\anaconda3\\lib\\site-packages (from scikit-learn) (1.5.2)\n",
      "Requirement already satisfied: joblib>=0.11 in c:\\users\\free family\\anaconda3\\lib\\site-packages (from scikit-learn) (0.17.0)\n",
      "Requirement already satisfied: threadpoolctl>=2.0.0 in c:\\users\\free family\\anaconda3\\lib\\site-packages (from scikit-learn) (2.1.0)\n",
      "Requirement already satisfied: numpy>=1.13.3 in c:\\users\\free family\\anaconda3\\lib\\site-packages (from scikit-learn) (1.19.2)\n"
     ]
    }
   ],
   "source": [
    "!pip install \"statsmodels==0.11.1\"\n",
    "!pip install scikit-learn\n",
    "from statsmodels.tsa.arima.model import ARIMA\n",
    "from pandas import read_csv\n",
    "import scipy.stats as st\n",
    "import numpy as np"
   ]
  },
  {
   "cell_type": "code",
   "execution_count": 5,
   "metadata": {
    "id": "5azaduXOGd5_",
    "scrolled": false
   },
   "outputs": [],
   "source": [
    "data = read_csv('citation2003-2021.csv', header=0, index_col=0, parse_dates=True, squeeze=True)\n",
    "\n",
    "\n",
    "dataset = data.values\n",
    "dataset = dataset.astype('float32')\n",
    "size= int(len(dataset)) - 4 # length of training set is 15\n",
    "train, test = dataset[0:size], dataset[size:]\n",
    "\n",
    "model = ARIMA(train, order=(1,1,1))\n",
    "model_fit = model.fit() #training/fitting data to ARIMA model."
   ]
  },
  {
   "cell_type": "markdown",
   "metadata": {
    "id": "iomydVFJGdFQ"
   },
   "source": [
    "### 6.2 Predicting the citation and Calculate the RMSE\n",
    " <div class=\"alert alert-block alert-info\">\n",
    "\n",
    "**Code**: \n",
    "    you will need to use the trained Arime model to predict the citation on year 2018, 2019 and 2020.\n",
    "You will need to perform the evaluation by comparing the predicted citation from 2018 to 2020 with \n",
    "the true citation from 2018 to 2020 and calculate the RMSE (root mean square error).\n",
    "    <br>\n",
    "    *Keep the outputs for code in your notebook.\n",
    "</div>"
   ]
  },
  {
   "cell_type": "code",
   "execution_count": 6,
   "metadata": {
    "id": "5cqMwQw2Gqh1",
    "outputId": "a972098e-116f-4f5b-dccd-b41c4625e707"
   },
   "outputs": [
    {
     "name": "stdout",
     "output_type": "stream",
     "text": [
      "Year = 2018, Predicted result = 429.16, Expected result= 450.00\n",
      "95% Interval: 390.571 to 467.758\n",
      "Year = 2019, Predicted result = 502.37, Expected result= 579.00\n",
      "95% Interval: 464.082 to 540.663\n",
      "Year = 2020, Predicted result = 677.22, Expected result= 838.00\n",
      "95% Interval: 625.240 to 729.202\n"
     ]
    }
   ],
   "source": [
    "# Get year values to tie prediction/obs to year.\n",
    "dates = data.index.tolist()\n",
    "date_list = [ ts.date() for ts in dates ]\n",
    "date_str_list = [ str(date) for date in date_list ]  \n",
    "year = [int(e[:4]) for e in date_str_list]\n",
    "year_test = year[size:]\n",
    "\n",
    "\n",
    "history = [x for x in train]\n",
    "preds = []\n",
    "test_years = []\n",
    "confidence_interval = []\n",
    "\n",
    "\n",
    "# walk-forward validation\n",
    "for t in range(len(test[:-1])):\n",
    "    model = ARIMA(history, order=(1,1,1))\n",
    "    model_fit = model.fit()\n",
    "    output = model_fit.get_forecast()\n",
    "    yhat = output.predicted_mean\n",
    "    preds.append(yhat)\n",
    "    obs = test[t]\n",
    "    history.append(obs)\n",
    "    ci = output.conf_int(0.05)\n",
    "    confidence_interval.append(ci[0])\n",
    "    given_year = year_test[t]\n",
    "    test_years.append(given_year)\n",
    "    print('Year = %.0f, Predicted result = %.2f, Expected result= %.2f' % (given_year, yhat, obs))\n",
    "    print('95%% Interval: %.3f to %.3f' % (ci[0,0], ci[0,1]))\n"
   ]
  },
  {
   "cell_type": "code",
   "execution_count": 7,
   "metadata": {
    "id": "Mq1fAKXTIdU4"
   },
   "outputs": [
    {
     "name": "stdout",
     "output_type": "stream",
     "text": [
      "RMSE: 103.53\n"
     ]
    }
   ],
   "source": [
    "# Print the error below by comparing the test and preds:\n",
    "from sklearn.metrics import mean_squared_error\n",
    "import matplotlib.pyplot as plt\n",
    "from math import sqrt\n",
    "# Your code to show the performance RMSE\n",
    "\n",
    "rmse = sqrt(mean_squared_error(test[:-1], preds))\n",
    "print('RMSE: %.2f' % rmse)"
   ]
  },
  {
   "cell_type": "markdown",
   "metadata": {
    "id": "Q7k3Savqewxg"
   },
   "source": [
    "### 6.3 Draw the visualization to compare"
   ]
  },
  {
   "cell_type": "markdown",
   "metadata": {
    "id": "JC5xseYSH7ze"
   },
   "source": [
    " <div class=\"alert alert-block alert-info\">\n",
    "\n",
    "**Code**: \n",
    "   You will also need to use matplotlib to draw the line plot with training data from 2013 to 2017,\n",
    "the testing truth, the prediction and also the confidence interval (95%). \n",
    "    <br>\n",
    "    *Keep the outputs for code in your notebook.\n",
    "</div>"
   ]
  },
  {
   "cell_type": "code",
   "execution_count": 8,
   "metadata": {
    "id": "DcsJIrOXItA5"
   },
   "outputs": [
    {
     "data": {
      "text/plain": [
       "<matplotlib.legend.Legend at 0x14b716560d0>"
      ]
     },
     "execution_count": 8,
     "metadata": {},
     "output_type": "execute_result"
    },
    {
     "data": {
      "image/png": "[encoded data removed]",
      "text/plain": [
       "<Figure size 1080x720 with 1 Axes>"
      ]
     },
     "metadata": {
      "needs_background": "light"
     },
     "output_type": "display_data"
    }
   ],
   "source": [
    "# You code: Visualize as required, the prediction with its confidence interval\n",
    "\n",
    "test_results_df = pd.DataFrame({\"Year\":pd.Series(test_years), \n",
    "                           \"Predicted Citations\":pd.Series(preds), \n",
    "                           \"Observed Citations\":pd.Series(test[:-1]),\n",
    "                            \"Lower Bound\": pd.Series(np.array(confidence_interval)[:,0]),\n",
    "                            \"Upper Bound\": pd.Series(np.array(confidence_interval)[:,1])})\n",
    "\n",
    "\n",
    "\n",
    "\n",
    "backseries_results = pd.DataFrame({\"Year\":pd.Series(year[:-1]), \n",
    "                           \"Past Citations\": pd.Series(train)})\n",
    "\n",
    "\n",
    "f = plt.figure()\n",
    "f.set_figwidth(15)\n",
    "f.set_figheight(10)\n",
    "\n",
    "results_df = pd.merge(test_results_df, backseries_results, how=\"outer\", on = \"Year\")\n",
    "\n",
    "\n",
    "plt.fill_between(results_df['Year'],results_df[\"Upper Bound\"], results_df[\"Lower Bound\"],\n",
    "                alpha=0.1, color='r', label=\"Confidence Interval (95%)\")\n",
    "\n",
    "\n",
    "plt.plot('Year', 'Past Citations', \n",
    "         data=results_df, marker='o', \n",
    "         #markerfacecolor='blue', \n",
    "         markersize=5, \n",
    "         color='lightblue', \n",
    "         linewidth=2)\n",
    "\n",
    "plt.plot('Year', \n",
    "         'Observed Citations', \n",
    "         data=results_df, marker='o',\n",
    "         markersize=5,\n",
    "         color='darkblue', \n",
    "         linewidth=2)\n",
    "\n",
    "plt.plot('Year', \n",
    "         'Predicted Citations', \n",
    "         data=results_df,\n",
    "         color='red', \n",
    "         linewidth=3, \n",
    "         linestyle='dashed')\n",
    "\n",
    "plt.xticks(results_df[\"Year\"])\n",
    "plt.title(\"ARIMA model - citations forecast 2018-2020\")\n",
    "plt.xlabel(\"Year\")\n",
    "plt.ylabel(\"Citation count\")\n",
    "\n",
    "plt.legend()"
   ]
  },
  {
   "cell_type": "markdown",
   "metadata": {
    "id": "4Qhi7QJhPenf"
   },
   "source": [
    "## 7.Conduct the Grid Search with paramter selection and then predict the 2021 and 2022"
   ]
  },
  {
   "cell_type": "markdown",
   "metadata": {
    "id": "ie6-3EY_IdT3"
   },
   "source": [
    "### 7.1 Grid Search\n",
    " <div class=\"alert alert-block alert-info\">\n",
    "\n",
    "**Code**: \n",
    "  You will need to run the grid search for parameter $p=[1,2]$, \n",
    "$q=[1,2]$,\n",
    "$d=[1,2]$\n",
    "with training data on year 2003 to 2017 and testing data on 2018 to 2020\n",
    "The result of the search on each paratemer combination (eg: p=1,q=1,d=1)\n",
    "will need to be stored in the \"search-results.csv\",\n",
    "The search-results.csv will have the column of \"RMSE\" and column \"PARAMETER\".\n",
    "    <br>\n",
    "    *Keep the outputs for code in your notebook.\n",
    "</div>"
   ]
  },
  {
   "cell_type": "code",
   "execution_count": 9,
   "metadata": {
    "id": "9l3SYph7Psk3"
   },
   "outputs": [
    {
     "name": "stderr",
     "output_type": "stream",
     "text": [
      "C:\\Users\\Free family\\anaconda3\\lib\\site-packages\\statsmodels\\base\\model.py:567: ConvergenceWarning: Maximum Likelihood optimization failed to converge. Check mle_retvals\n",
      "  warn(\"Maximum Likelihood optimization failed to converge. \"\n",
      "C:\\Users\\Free family\\anaconda3\\lib\\site-packages\\statsmodels\\base\\model.py:567: ConvergenceWarning: Maximum Likelihood optimization failed to converge. Check mle_retvals\n",
      "  warn(\"Maximum Likelihood optimization failed to converge. \"\n"
     ]
    }
   ],
   "source": [
    "\n",
    "# your code to run grid search\n",
    "p = list(range(1,3))\n",
    "q = list(range(1,3))\n",
    "d = list(range(1,3))\n",
    "\n",
    "data = read_csv('citation2003-2021.csv', header=0, index_col=0, parse_dates=True, squeeze=True)\n",
    "dataset = data.values\n",
    "dataset = dataset.astype('float32')\n",
    "size= int(len(dataset)) - 4 # length of training set is 15\n",
    "train, test = dataset[0:size], dataset[size:]\n",
    "history = [x for x in train]\n",
    "\n",
    "p = list(range(1,3))\n",
    "q = list(range(1,3))\n",
    "d = list(range(1,3))\n",
    "predictions = []\n",
    "RMSE = []\n",
    "PARAMETER = []\n",
    "\n",
    "# walk-forward validation\n",
    "for i1 in p:\n",
    "    for i2 in q:\n",
    "        for i3 in d:\n",
    "            for t in range(len(test[:-1])):\n",
    "                model = ARIMA(history, order=(i1,i2,i3))\n",
    "                model_fit = model.fit()\n",
    "                output = model_fit.get_forecast()\n",
    "                yhat = output.predicted_mean\n",
    "                predictions.append(yhat)\n",
    "                obs = test[t]\n",
    "                history.append(obs)\n",
    "            rmse = sqrt(mean_squared_error(test[:-1], predictions))\n",
    "            history = [x for x in train]\n",
    "            predictions = list()  \n",
    "            RMSE.append(rmse)\n",
    "            PARAMETER.append([i1,i2,i3])\n",
    "            \n",
    "\n",
    "            \n",
    "         \n"
   ]
  },
  {
   "cell_type": "code",
   "execution_count": 10,
   "metadata": {
    "id": "gax9Nx6zQ7hH"
   },
   "outputs": [
    {
     "data": {
      "text/html": [
       "<div>\n",
       "<style scoped>\n",
       "    .dataframe tbody tr th:only-of-type {\n",
       "        vertical-align: middle;\n",
       "    }\n",
       "\n",
       "    .dataframe tbody tr th {\n",
       "        vertical-align: top;\n",
       "    }\n",
       "\n",
       "    .dataframe thead th {\n",
       "        text-align: right;\n",
       "    }\n",
       "</style>\n",
       "<table border=\"1\" class=\"dataframe\">\n",
       "  <thead>\n",
       "    <tr style=\"text-align: right;\">\n",
       "      <th></th>\n",
       "      <th>RMSE</th>\n",
       "      <th>Parameter</th>\n",
       "    </tr>\n",
       "  </thead>\n",
       "  <tbody>\n",
       "    <tr>\n",
       "      <th>0</th>\n",
       "      <td>103.530717</td>\n",
       "      <td>[1, 1, 1]</td>\n",
       "    </tr>\n",
       "    <tr>\n",
       "      <th>1</th>\n",
       "      <td>102.457406</td>\n",
       "      <td>[1, 1, 2]</td>\n",
       "    </tr>\n",
       "    <tr>\n",
       "      <th>2</th>\n",
       "      <td>83.716336</td>\n",
       "      <td>[1, 2, 1]</td>\n",
       "    </tr>\n",
       "    <tr>\n",
       "      <th>3</th>\n",
       "      <td>94.030090</td>\n",
       "      <td>[1, 2, 2]</td>\n",
       "    </tr>\n",
       "    <tr>\n",
       "      <th>4</th>\n",
       "      <td>90.112933</td>\n",
       "      <td>[2, 1, 1]</td>\n",
       "    </tr>\n",
       "    <tr>\n",
       "      <th>5</th>\n",
       "      <td>97.739226</td>\n",
       "      <td>[2, 1, 2]</td>\n",
       "    </tr>\n",
       "  </tbody>\n",
       "</table>\n",
       "</div>"
      ],
      "text/plain": [
       "         RMSE  Parameter\n",
       "0  103.530717  [1, 1, 1]\n",
       "1  102.457406  [1, 1, 2]\n",
       "2   83.716336  [1, 2, 1]\n",
       "3   94.030090  [1, 2, 2]\n",
       "4   90.112933  [2, 1, 1]\n",
       "5   97.739226  [2, 1, 2]"
      ]
     },
     "execution_count": 10,
     "metadata": {},
     "output_type": "execute_result"
    }
   ],
   "source": [
    "# your code to generate the seach-results.csv and print the top 6 rows\n",
    "\n",
    "Results = pd.DataFrame({'RMSE':RMSE,'Parameter':PARAMETER})\n",
    "Results.to_csv('search-results.csv', index =False)\n",
    "Results.head(6)\n"
   ]
  },
  {
   "cell_type": "markdown",
   "metadata": {
    "id": "CTey6Y9ER0rE"
   },
   "source": [
    "### 7.2 TRAIN With Best Parameter Set with data up to 2020 and Predict the 2021 and 2022"
   ]
  },
  {
   "cell_type": "markdown",
   "metadata": {
    "id": "skoPt98jJTro"
   },
   "source": [
    "<div class=\"alert alert-block alert-info\">\n",
    "\n",
    "**Code**: \n",
    "  You will need to perform the training with Arima on data from 2003 to 2020 with best parameter you have found in last task,\n",
    "and then conduct the prediction for year 2021 and 2022.\n",
    "    <br>\n",
    "    *Keep the outputs for code in your notebook.\n",
    "</div>"
   ]
  },
  {
   "cell_type": "code",
   "execution_count": 14,
   "metadata": {
    "id": "RKSwlnWRRzQ3"
   },
   "outputs": [
    {
     "data": {
      "text/plain": [
       "2    [1, 2, 1]\n",
       "Name: Parameter, dtype: object"
      ]
     },
     "execution_count": 14,
     "metadata": {},
     "output_type": "execute_result"
    }
   ],
   "source": [
    "# your code to perform the Arima train on data 2003 to 2020\n",
    "data_q72 = read_csv('citation2003-2021.csv', header=0, index_col=0, parse_dates=True, squeeze=True)\n",
    "dataset_q72 = data_q72.values\n",
    "dataset_q72 = dataset_q72.astype('float32')\n",
    "\n",
    "size = int(len(dataset_q72)) -1 # length of training set is 18; 2003 - 2020\n",
    "train = dataset_q72[0:size]\n",
    "history = [x for x in train]\n",
    "predict_21_22 = []\n",
    "year_q72 = [2021, 2022]\n",
    "ci_q72 = []\n",
    "#Find best parameter\n",
    "best_param = (Results['Parameter'][Results['RMSE'] == Results['RMSE'].min()])\n",
    "flatten = [] \n",
    "for item in best_param:\n",
    "    flatten += item\n",
    "\n",
    "best_param\n"
   ]
  },
  {
   "cell_type": "code",
   "execution_count": 15,
   "metadata": {},
   "outputs": [
    {
     "name": "stdout",
     "output_type": "stream",
     "text": [
      "Year = 2021, Predicted result = 1175.25\n",
      "95% Interval: 1100.85 to 1249.65\n",
      "Year = 2022, Predicted result = 1569.57\n",
      "95% Interval: 1497.41 to 1641.73\n"
     ]
    }
   ],
   "source": [
    "## Use best parameter in model fitting, to predict 2021 & 2022.\n",
    "\n",
    "for t in range(2):\n",
    "    model = ARIMA(history, order=(flatten[0],flatten[1],flatten[2]))\n",
    "    model_fit = model.fit()\n",
    "    output = model_fit.get_forecast()\n",
    "    yhat = output.predicted_mean\n",
    "    obs = yhat[0]\n",
    "    history.append(obs)\n",
    "    predict_21_22.append(yhat)\n",
    "    given_year=year_q72[t]\n",
    "    ci = output.conf_int(0.05)\n",
    "    ci_q72.append(ci[0])\n",
    "    print('Year = %.0f, Predicted result = %.2f' % (given_year, yhat))\n",
    "    print('95%% Interval: %.2f to %.2f' % (ci[0,0], ci[0,1]))"
   ]
  },
  {
   "cell_type": "markdown",
   "metadata": {
    "id": "F3TCMUg1JyNj"
   },
   "source": [
    "<div class=\"alert alert-block alert-info\">\n",
    "\n",
    "**Code**: \n",
    "  You will also need to use matplotlib to draw the line plot with training data from 2013 to 2020, the prediction and also the confidence interval (95%).\n",
    "    <br>\n",
    "    *Keep the outputs for code in your notebook.\n",
    "</div>"
   ]
  },
  {
   "cell_type": "code",
   "execution_count": 12,
   "metadata": {
    "id": "PMTaDurDSVjj"
   },
   "outputs": [
    {
     "data": {
      "text/plain": [
       "<matplotlib.legend.Legend at 0x14b717a3ca0>"
      ]
     },
     "execution_count": 12,
     "metadata": {},
     "output_type": "execute_result"
    },
    {
     "data": {
      "image/png": "[encoded data removed]",
      "text/plain": [
       "<Figure size 1080x720 with 1 Axes>"
      ]
     },
     "metadata": {
      "needs_background": "light"
     },
     "output_type": "display_data"
    }
   ],
   "source": [
    "# Plot the points and the prediction with its confidence interval\n",
    "\n",
    "years_all_df = pd.DataFrame({\"year\":pd.Series(list(range(2003, 2023)))}) # year span 2003 - 2022\n",
    "historic_df = pd.read_csv('citation2003-2021.csv', nrows=18) # citation + year data from 2003 - 2020\n",
    "merge_df = pd.merge(years_all_df, historic_df, how=\"outer\", on = \"year\") # Outer join two above df's by year\n",
    "\n",
    "prediction_df = pd.DataFrame({\"year\":pd.Series(year_q72),  # create preds values, year, c.i. df.\n",
    "                           \"predicted citations\":pd.Series(predict_21_22), \n",
    "                            \"Lower Bound\": pd.Series(np.array(ci_q72)[:,0]),\n",
    "                            \"Upper Bound\": pd.Series(np.array(ci_q72)[:,1])})\n",
    "\n",
    "\n",
    "final_df = pd.merge(merge_df, prediction_df, how=\"outer\", on = \"year\") # Join predictions to df\n",
    "\n",
    "#Visualise in a similar method to above\n",
    "\n",
    "f = plt.figure()\n",
    "f.set_figwidth(15)\n",
    "f.set_figheight(10)\n",
    "\n",
    "plt.fill_between(final_df['year'],final_df[\"Upper Bound\"], final_df[\"Lower Bound\"],\n",
    "                alpha=0.1, color='r', label=\"Confidence Interval (95%)\")\n",
    "\n",
    "\n",
    "plt.plot('year', 'citations', \n",
    "         data=final_df, marker='o', \n",
    "         #markerfacecolor='blue', \n",
    "         markersize=5, \n",
    "         color='lightblue', \n",
    "         linewidth=2)\n",
    "\n",
    "plt.plot('year', \n",
    "         'predicted citations', \n",
    "         data=final_df, marker='o',\n",
    "         markersize=5,\n",
    "         color='red', \n",
    "         linewidth=2,\n",
    "         linestyle='dashed')\n",
    "\n",
    "plt.xticks(final_df[\"year\"])\n",
    "plt.title(\"ARIMA model - citations forecast 2021-2022\")\n",
    "plt.xlabel(\"Year\")\n",
    "plt.ylabel(\"Citation count\")\n",
    "\n",
    "plt.legend()"
   ]
  },
  {
   "cell_type": "markdown",
   "metadata": {
    "id": "-BHmYs9XOQEo"
   },
   "source": [
    "# Part III - Self-Reflective Essay\n",
    "\n",
    "## Overview\n",
    "\n",
    "Please check the assessment task specification details.\n"
   ]
  }
 ],
 "metadata": {
  "colab": {
   "collapsed_sections": [],
   "name": "SIT742Task2.ipynb",
   "provenance": [],
   "toc_visible": true
  },
  "kernelspec": {
   "display_name": "Python 3",
   "language": "python",
   "name": "python3"
  },
  "language_info": {
   "codemirror_mode": {
    "name": "ipython",
    "version": 3
   },
   "file_extension": ".py",
   "mimetype": "text/x-python",
   "name": "python",
   "nbconvert_exporter": "python",
   "pygments_lexer": "ipython3",
   "version": "3.8.5"
  }
 },
 "nbformat": 4,
 "nbformat_minor": 1
}
