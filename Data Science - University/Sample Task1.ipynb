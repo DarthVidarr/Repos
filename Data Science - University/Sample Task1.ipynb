{
  "cells": [
    {
      "cell_type": "markdown",
      "metadata": {
        "id": "06bbe_5WGk3v"
      },
      "source": [
        "#**SIT 720 - Machine Learning**\n",
        "\n",
        "Lecturer: Chandan Karmakar | karmakar@deakin.edu.au\n",
        "\n",
        "School of Information Technology,\n",
        "<br/>Deakin University, VIC 3125, Australia."
      ]
    },
    {
      "cell_type": "markdown",
      "metadata": {
        "id": "es6VJF6zGpZi"
      },
      "source": [
        "#**Assessment Task 2 (30 marks)**\n",
        "\n",
        "##**Submission Instruction**\n",
        "1.  Student should insert Python code or text responses into the cell followed by the question.\n",
        "\n",
        "2.  For answers regarding discussion or explanation, **maximum five sentences are suggested**.\n",
        "\n",
        "3.  Rename this notebook file appending your student ID. For example, for student ID 1234, the submitted file name should be A2_1234.ipynb.\n",
        "\n",
        "4.  Insert your student ID and name in the following cell."
      ]
    },
    {
      "cell_type": "code",
      "execution_count": null,
      "metadata": {
        "id": "IeD67KEpG8I6"
      },
      "outputs": [],
      "source": [
        "# Student ID: 220524174\n",
        "\n",
        "# Student name: Glenn Free"
      ]
    },
    {
      "cell_type": "markdown",
      "metadata": {
        "id": "oYFXM_D7HCHb"
      },
      "source": [
        "## Part 1: Clustering *(15 marks)*\n",
        "\n",
        "Let's assume you want to design an environment to predict a class/category from a dataset based on specific features of that class. However, all the features are not strong enough or in other words features not that much variance/uniqueness across the classes. So, you have to design a clustering model by answering the following questions:\n",
        "\n",
        "1. Download the attached clustering.csv file. Read the file and separate the class and feature matrix. __(2 marks)__"
      ]
    },
    {
      "cell_type": "code",
      "execution_count": null,
      "metadata": {
        "id": "crKN9O9jKi4w"
      },
      "outputs": [],
      "source": [
        "import os\n",
        "import urllib.request\n",
        "import pandas as pd\n",
        "import numpy as np\n",
        "import matplotlib.pyplot as plt\n",
        "import researchpy as rp\n",
        "import scipy.stats as stats\n",
        "from sklearn_extra.cluster import KMedoids\n",
        "from sklearn.cluster import KMeans\n",
        "from sklearn.feature_selection import SelectKBest\n",
        "from sklearn.feature_selection import f_classif\n",
        "from sklearn.feature_selection import chi2 \n",
        "from sklearn.preprocessing import StandardScaler\n",
        "from sklearn.preprocessing import scale\n",
        "import sklearn.decomposition\n",
        "from sklearn.decomposition import PCA\n",
        "\n",
        "source_dataset = pd.read_csv(\"clustering.csv\")\n",
        "features = source_dataset.iloc[:, 0:6]\n",
        "Class = source_dataset.iloc[:,7:]\n"
      ]
    },
    {
      "cell_type": "markdown",
      "metadata": {
        "id": "3CYvoztIKjoq"
      },
      "source": [
        "2. Determine the number of clusters from the dataset. Is this same as the actual number of classes in the dataset? __(1 marks)__\n",
        "\n",
        "<!-- Choose the best three features using different selection criteria (ANOVA, Chi-squared) based on the purity score for the k-mean cluster (Euclidean distance matrix). Which one is good and why? __(5 marks)__ -->"
      ]
    },
    {
      "cell_type": "code",
      "execution_count": null,
      "metadata": {
        "id": "WFia7uNt5POP",
        "outputId": "6db20326-6360-405d-8d5b-dec4c33f051e"
      },
      "outputs": [
        {
          "data": {
            "image/png": "[encoded data removed]",
            "text/plain": [
              "<Figure size 1440x720 with 1 Axes>"
            ]
          },
          "metadata": {
            "needs_background": "light"
          },
          "output_type": "display_data"
        },
        {
          "name": "stdout",
          "output_type": "stream",
          "text": [
            "Result: The number of \"useful\" clusters is deemed to be 3 on K-means elbow method on features, shown below. This matches the actual number of classes in the dataset.\n"
          ]
        }
      ],
      "source": [
        "distortions = []\n",
        "Range = range(1,9)\n",
        "for kmeans in Range:\n",
        "    kcalc = KMeans(n_clusters=kmeans)\n",
        "    kcalc.fit(features)\n",
        "    distortions.append(kcalc.inertia_)\n",
        "\n",
        "plt.figure(figsize=(20,10))\n",
        "plt.plot(Range, distortions)\n",
        "plt.xlabel('Clusters')\n",
        "plt.ylabel('Distortions')\n",
        "plt.title('K-means method of determining clusters')\n",
        "plt.show()\n",
        "\n",
        "print(\"Result: The number of \\\"useful\\\" clusters is deemed to be 3 on K-means elbow method on features, shown below. This matches the actual number of classes in the dataset.\")"
      ]
    },
    {
      "cell_type": "markdown",
      "metadata": {
        "id": "lomdzPf33Ga8"
      },
      "source": [
        "3. Perform K-Means clustering on the complete dataset and report purity score. __(2 marks)__ "
      ]
    },
    {
      "cell_type": "code",
      "execution_count": null,
      "metadata": {
        "id": "UaI08RF5KoPK",
        "outputId": "7e98b06e-f333-4dcc-a8ab-0d28fbc2102a"
      },
      "outputs": [
        {
          "name": "stdout",
          "output_type": "stream",
          "text": [
            "The computed cluster 1 contains:  60\n",
            "The computed cluster 2 contains:  60\n",
            "The computed cluster 3 contains:  68\n",
            "Total data points across all clusters is:  210\n",
            "Purity is calculated as 1 / 210 * 60 + 60 + 68\n"
          ]
        },
        {
          "data": {
            "text/plain": [
              "'0.8952'"
            ]
          },
          "execution_count": 4,
          "metadata": {},
          "output_type": "execute_result"
        }
      ],
      "source": [
        "#n_clusters has been chosen as 3 due to K-means elbow method determination made above\n",
        "k = KMeans(n_clusters=3, random_state=1)\n",
        "k.fit(features)\n",
        "SquaredEuclidean_Class = k.labels_\n",
        "pd.DataFrame(Class)['SquaredEuclidean_Class']=SquaredEuclidean_Class\n",
        "GroupedMode = Class.groupby('Class').apply(pd.DataFrame.mode).reset_index(drop=True)\n",
        "\n",
        "Computed_Cluster1 = max(Class.groupby('Class').get_group(0)['SquaredEuclidean_Class'].value_counts())\n",
        "Computed_Cluster2 = max(Class.groupby('Class').get_group(1)['SquaredEuclidean_Class'].value_counts())\n",
        "Computed_Cluster3 = max(Class.groupby('Class').get_group(2)['SquaredEuclidean_Class'].value_counts())\n",
        "\n",
        "print(\"The computed cluster 1 contains: \", Computed_Cluster1)\n",
        "print(\"The computed cluster 2 contains: \", Computed_Cluster2)\n",
        "print(\"The computed cluster 3 contains: \", Computed_Cluster3)\n",
        "print(\"Total data points across all clusters is: \", len(Class))\n",
        "print(\"Purity is calculated as 1 /\",len(Class), \"*\", Computed_Cluster1, \"+\", Computed_Cluster2, \"+\", Computed_Cluster3)\n",
        "\n",
        "\"{:.4f}\".format((1/len(Class))*(Computed_Cluster1+Computed_Cluster2+Computed_Cluster3))"
      ]
    },
    {
      "cell_type": "markdown",
      "metadata": {
        "id": "CsImMLOzK1dV"
      },
      "source": [
        "4. There are several distance metrics for  K-Means such as euclidean, squared euclidean, Manhattan, Chebyshev, Minkowski. Hint: See the pyclustering library for python.\n",
        "    - Your job is to compare the purity score of k-means clustering for different distance metrics. __(5 marks)__ \n",
        "    - Select the best distance metric and explain why this distance metric is best for the given dataset. __(2 marks)__ "
      ]
    },
    {
      "cell_type": "code",
      "execution_count": null,
      "metadata": {
        "id": "dBNLhGYRKo4a",
        "outputId": "1cf3db1e-0e41-4737-b44a-e8ecabf96559"
      },
      "outputs": [
        {
          "name": "stdout",
          "output_type": "stream",
          "text": [
            "Purity of Euclidean k-means clustering is 0.8905\n",
            "Purity of Minkowski k-means clustering is 0.8905\n",
            "Purity of Chebyshev k-means clustering is 0.8810\n",
            "Purity of Manhattan k-means clustering is 0.9048\n",
            "\n",
            "For this particular dataset, k-means clustering using manhattan distance is most appropriate as the purity found is closest to ground truth\n"
          ]
        }
      ],
      "source": [
        "#NOTES:\n",
        "#Squared euclidean is KMeans function default selection, thus variable \"SquaredEuclidean_Class\"  is used in comparing distance metrics.\n",
        "##########################################################################\n",
        "\n",
        "#Euclidean\n",
        "k_euclidean = KMedoids(n_clusters=3, random_state=1, metric='euclidean')\n",
        "k_euclidean.fit(features)\n",
        "Euclidean_Class = k_euclidean.labels_\n",
        "pd.DataFrame(Class)['Euclidean_Class']=Euclidean_Class\n",
        "E_Cluster1 = max(Class.groupby('Class').get_group(0)['Euclidean_Class'].value_counts())\n",
        "E_Cluster2 = max(Class.groupby('Class').get_group(1)['Euclidean_Class'].value_counts())\n",
        "E_Cluster3 = max(Class.groupby('Class').get_group(2)['Euclidean_Class'].value_counts())\n",
        "print(\"Purity of Euclidean k-means clustering is\", \"{:.4f}\".format((1/len(Class))*(E_Cluster1+E_Cluster2+E_Cluster3)))\n",
        "      \n",
        "#Minkowski\n",
        "k_minkowski = KMedoids(n_clusters=3, random_state=1, metric='minkowski')\n",
        "k_minkowski.fit(features)\n",
        "Minkowski_Class = k_minkowski.labels_\n",
        "pd.DataFrame(Class)['Minkowski_Class']=Minkowski_Class\n",
        "M_Cluster1 = max(Class.groupby('Class').get_group(0)['Minkowski_Class'].value_counts())\n",
        "M_Cluster2 = max(Class.groupby('Class').get_group(1)['Minkowski_Class'].value_counts())\n",
        "M_Cluster3 = max(Class.groupby('Class').get_group(2)['Minkowski_Class'].value_counts())\n",
        "print(\"Purity of Minkowski k-means clustering is\", \"{:.4f}\".format((1/len(Class))*(M_Cluster1+M_Cluster2+M_Cluster3)))\n",
        "      \n",
        "#Chebyshev\n",
        "k_chebyshev = KMedoids(n_clusters=3, random_state=1, metric='chebyshev')\n",
        "k_chebyshev.fit(features)\n",
        "Chebyshev_Class = k_chebyshev.labels_\n",
        "pd.DataFrame(Class)['Chebyshev_Class']=Chebyshev_Class\n",
        "C_Cluster1 = max(Class.groupby('Class').get_group(0)['Chebyshev_Class'].value_counts())\n",
        "C_Cluster2 = max(Class.groupby('Class').get_group(1)['Chebyshev_Class'].value_counts())\n",
        "C_Cluster3 = max(Class.groupby('Class').get_group(2)['Chebyshev_Class'].value_counts())\n",
        "print(\"Purity of Chebyshev k-means clustering is\", \"{:.4f}\".format((1/len(Class))*(C_Cluster1+C_Cluster2+C_Cluster3)))\n",
        "      \n",
        "#Manhattan\n",
        "k_manhattan = KMedoids(n_clusters=3, random_state=1, metric='manhattan')\n",
        "k_manhattan.fit(features)\n",
        "Manhattan_Class = k_manhattan.labels_\n",
        "pd.DataFrame(Class)['Manhattan_Class']=Manhattan_Class\n",
        "Manh_Cluster1 = max(Class.groupby('Class').get_group(0)['Manhattan_Class'].value_counts())\n",
        "Manh_Cluster2 = max(Class.groupby('Class').get_group(1)['Manhattan_Class'].value_counts())\n",
        "Manh_Cluster3 = max(Class.groupby('Class').get_group(2)['Manhattan_Class'].value_counts())\n",
        "print(\"Purity of Manhattan k-means clustering is\", \"{:.4f}\".format((1/len(Class))*(Manh_Cluster1+Manh_Cluster2+Manh_Cluster3)))\n",
        "print(\"\")\n",
        "print(\"For this particular dataset, k-means clustering using manhattan distance is most appropriate as the purity found is closest to ground truth\")"
      ]
    },
    {
      "cell_type": "markdown",
      "metadata": {
        "id": "xsG5SQti4b7E"
      },
      "source": [
        "5. Use selection criteria (ANOVA, Chi-squared) to select best three features and use them for K-Means clustering. Based on the purity score which feature set are you going to recommend and why? __(3 marks)__"
      ]
    },
    {
      "cell_type": "code",
      "execution_count": null,
      "metadata": {
        "id": "9lCTzujBKpL4",
        "outputId": "8114ed82-f4e8-4119-b047-61cb7098c320"
      },
      "outputs": [
        {
          "name": "stdout",
          "output_type": "stream",
          "text": [
            "'height', 'length', and 'min' are the 3 best features per ANOVA\n",
            "ANOVA computed cluster 1 contains: 52\n",
            "ANOVA computed cluster 2 contains: 55\n",
            "ANOVA computed cluster 3 contains: 70\n",
            "Purity on ANOVA method is: 0.84\n",
            "\n",
            "'height', 'length', and 'max' are the 3 best features per chi-squared\n",
            "Chi-square computed cluster 1 contains: 60\n",
            "Chi-square computed cluster 2 contains: 60\n",
            "Chi-square computed cluster 3 contains: 68\n",
            "Purity on Chi-square method is: 0.90\n",
            "\n",
            "RECOMMENDATION:\n",
            "The feature set recommended is 'length', 'height' and 'max', as selected by chi-square method.\n",
            "The recommendation is based on chi-square method returning a higher purity to ANOVA when compared against ground truth.\n"
          ]
        }
      ],
      "source": [
        "source_array = source_dataset.values\n",
        "arrayFeatures = source_array[:,0:7]\n",
        "arrayClass = source_array[:,7]\n",
        "##########################################################################\n",
        "#ANOVA clustering\n",
        "##########################################################################\n",
        "anova_test = SelectKBest(score_func=f_classif, k=3)\n",
        "anova_fit = anova_test.fit(arrayFeatures, arrayClass)\n",
        "anova_features = anova_fit.transform(arrayFeatures)\n",
        "#Find features by \"print(anova_features[0:2,:])\"\n",
        "print(\"'height', 'length', and 'min' are the 3 best features per ANOVA\")\n",
        "AnovaFeatures_df = source_dataset[['height','length','min']]\n",
        "Class_df = pd.DataFrame(arrayClass)\n",
        "\n",
        "anova_k = KMeans(n_clusters=3, random_state=1)\n",
        "anova_k.fit(AnovaFeatures_df)\n",
        "Anova_Class = anova_k.labels_\n",
        "\n",
        "k1 = KMeans(n_clusters=3, random_state=1)\n",
        "k1.fit(AnovaFeatures_df)\n",
        "Anova_Class = k1.labels_\n",
        "pd.DataFrame(Class_df)['Anova_Class']=Anova_Class\n",
        "GroupedMode1 = Class_df.groupby(Class_df[0]).apply(pd.DataFrame.mode).reset_index(drop=True)\n",
        "\n",
        "Anova_1 = max(Class_df.groupby(Class_df[0]).get_group(0)['Anova_Class'].value_counts())\n",
        "Anova_2 = max(Class_df.groupby(Class_df[0]).get_group(1)['Anova_Class'].value_counts())\n",
        "Anova_3 = max(Class_df.groupby(Class_df[0]).get_group(2)['Anova_Class'].value_counts())\n",
        "\n",
        "print(\"ANOVA computed cluster 1 contains:\", Anova_1)\n",
        "print(\"ANOVA computed cluster 2 contains:\", Anova_2)\n",
        "print(\"ANOVA computed cluster 3 contains:\", Anova_3)\n",
        "print(\"Purity on ANOVA method is:\", \"{:.2f}\".format((1/len(Class_df))*(Anova_1+Anova_2+Anova_3)))\n",
        "##########################################################################\n",
        "#Chi-squared method\n",
        "##########################################################################\n",
        "\n",
        "chi_test = SelectKBest(chi2, k = 3) \n",
        "chi_fit = chi_test.fit_transform(arrayFeatures, arrayClass)\n",
        "#print(chi_fit[0:1])\n",
        "print(\"\")\n",
        "print(\"'height', 'length', and 'max' are the 3 best features per chi-squared\")\n",
        "chi_df = source_dataset[['height','length','max']]\n",
        "chi_k = KMeans(n_clusters=3, random_state=1)\n",
        "chi_k.fit(chi_df)\n",
        "Chi_Class = chi_k.labels_\n",
        "\n",
        "k2 = KMeans(n_clusters=3, random_state=1)\n",
        "k2.fit(chi_df)\n",
        "Chi_Class = k2.labels_\n",
        "pd.DataFrame(Class_df)['Chi_Class']=Chi_Class\n",
        "GroupedMode2 = Class_df.groupby(Class_df[0]).apply(pd.DataFrame.mode).reset_index(drop=True)\n",
        "\n",
        "Chi_1 = max(Class_df.groupby(Class_df[0]).get_group(0)['Chi_Class'].value_counts())\n",
        "Chi_2 = max(Class_df.groupby(Class_df[0]).get_group(1)['Chi_Class'].value_counts())\n",
        "Chi_3 = max(Class_df.groupby(Class_df[0]).get_group(2)['Chi_Class'].value_counts())\n",
        "\n",
        "print(\"Chi-square computed cluster 1 contains:\", Chi_1)\n",
        "print(\"Chi-square computed cluster 2 contains:\", Chi_2)\n",
        "print(\"Chi-square computed cluster 3 contains:\", Chi_3)\n",
        "print(\"Purity on Chi-square method is:\", \"{:.2f}\".format((1/len(Class_df))*(Chi_1+Chi_2+Chi_3)))\n",
        "print(\"\")\n",
        "print(\"RECOMMENDATION:\")\n",
        "print(\"The feature set recommended is 'length', 'height' and 'max', as selected by chi-square method.\")\n",
        "print(\"The recommendation is based on chi-square method returning a higher purity to ANOVA when compared against ground truth.\")"
      ]
    },
    {
      "cell_type": "markdown",
      "metadata": {
        "id": "Key1p4RKLEW9"
      },
      "source": [
        "# Part-2 (Dimensionality Reduction using PCA/SVD) *(15 marks)*\n",
        "\n",
        "1. For the dataset (clustering.csv), perform PCA.\n",
        "    - plot the captured variance with respect to increasing latent dimensionality. __(2.5 marks)__\n",
        "  \n",
        "  What is the minimum dimension that captures:\n",
        "    - at least 89% variance? __(1.5 marks)__\n",
        "    - at least 99% variance? __(1 marks)__"
      ]
    },
    {
      "cell_type": "code",
      "execution_count": null,
      "metadata": {
        "id": "EkJU33yYKpen",
        "outputId": "417407b6-f6d5-4d18-fe4b-a33d6749e8d9"
      },
      "outputs": [
        {
          "name": "stdout",
          "output_type": "stream",
          "text": [
            "Dimensionality variance captured: [ 72.14  89.11  99.56  99.89  99.98 100.  ]\n",
            "2 is the minimum count of principal components which capture at least 89% variance.\n",
            "3 is the minimum count of principal components which capture at least 99% variance.\n"
          ]
        },
        {
          "data": {
            "image/png": "[encoded data removed]",
            "text/plain": [
              "<Figure size 432x288 with 1 Axes>"
            ]
          },
          "metadata": {
            "needs_background": "light"
          },
          "output_type": "display_data"
        }
      ],
      "source": [
        "normalised = scale(features)\n",
        "components = PCA(n_components=6)\n",
        "components.fit(normalised)\n",
        "pca_variance=np.cumsum(np.round(components.explained_variance_ratio_, decimals=4)*100)\n",
        "print(\"Dimensionality variance captured:\",pca_variance)\n",
        "plt.plot(pca_variance, marker='o', ls = '--')\n",
        "\n",
        "plt.xlabel(\"Count of principal components\")\n",
        "plt.ylabel(\"Captured variance (%)\")\n",
        "print(\"2 is the minimum count of principal components which capture at least 89% variance.\")\n",
        "print(\"3 is the minimum count of principal components which capture at least 99% variance.\")"
      ]
    },
    {
      "cell_type": "markdown",
      "metadata": {
        "id": "x9JPYP0vLKzp"
      },
      "source": [
        "2. Determine the purity of clusters formed by the number of principal components which captured 89% and 99% variances respectively. Plot a line graph of the purity scores against the captured variances. Discuss your findings. __(7 marks)__"
      ]
    },
    {
      "cell_type": "code",
      "execution_count": null,
      "metadata": {
        "id": "8_a-xp2PKpya",
        "outputId": "9593ecb2-cfce-4460-aa6d-ae9d72c236e4"
      },
      "outputs": [
        {
          "name": "stdout",
          "output_type": "stream",
          "text": [
            "The purity of clusters formed by 2 principal components is: 90.0 %\n",
            "The purity of clusters formed by 3 principal components is: 89.52 %\n",
            "\n",
            "FINDINGS:\n",
            "The line chart shows the relationship between purity and captured variance. The conclusion drawn from this chart is\n",
            "that cluster purity of the dataset is not significantly impacted by as a result of dimensionality reduction.\n"
          ]
        },
        {
          "data": {
            "text/plain": [
              "Text(0.5, 1.0, 'Purity (%) by captured variance')"
            ]
          },
          "execution_count": 104,
          "metadata": {},
          "output_type": "execute_result"
        },
        {
          "data": {
            "image/png": "[encoded data removed]",
            "text/plain": [
              "<Figure size 432x288 with 1 Axes>"
            ]
          },
          "metadata": {
            "needs_background": "light"
          },
          "output_type": "display_data"
        }
      ],
      "source": [
        "#Assumption: elbow method has been used to determine that number of clusters is 3 on both reduced datasets.\n",
        "#Assumption: I have interpreted the question to call for  principal components of 'at least' 89% and 99%, rather than exactly those values.\n",
        "pca_2 = PCA(n_components=2) #At least 89%\n",
        "pca_3 = PCA(n_components=3) #At least 99%\n",
        "components_2 = pca_2.fit_transform(normalised)\n",
        "components_3 = pca_3.fit_transform(normalised)\n",
        "pca_variance2=np.cumsum(np.round(pca_2.explained_variance_ratio_, decimals=4)*100)\n",
        "pca_variance3=np.cumsum(np.round(pca_3.explained_variance_ratio_, decimals=4)*100)\n",
        "#######################################################\n",
        "#2 components\n",
        "#######################################################\n",
        "\n",
        "k_pca2= KMeans(n_clusters=3, random_state=1)\n",
        "k_pca2.fit(components_2)\n",
        "PCA_2_Class = k_pca2.labels_\n",
        "pd.DataFrame(Class)['PCA_2_Class']=PCA_2_Class\n",
        "GroupedMode_pca2 = Class.groupby('Class').apply(pd.DataFrame.mode).reset_index(drop=True)\n",
        "\n",
        "Computed_Cluster1_pca2 = max(Class.groupby('Class').get_group(0)['PCA_2_Class'].value_counts())\n",
        "Computed_Cluster2_pca2 = max(Class.groupby('Class').get_group(1)['PCA_2_Class'].value_counts())\n",
        "Computed_Cluster3_pca2 = max(Class.groupby('Class').get_group(2)['PCA_2_Class'].value_counts())\n",
        "purity_pca2 = float((\"{:.4f}\".format((1/len(Class))*(Computed_Cluster1_pca2+Computed_Cluster2_pca2+Computed_Cluster3_pca2))))*100\n",
        "print(\"The purity of clusters formed by 2 principal components is:\", purity_pca2,\"%\")\n",
        "#######################################################\n",
        "#3 components\n",
        "#######################################################\n",
        "\n",
        "k_pca3= KMeans(n_clusters=3, random_state=1)\n",
        "k_pca3.fit(components_3)\n",
        "PCA_3_Class = k_pca3.labels_\n",
        "pd.DataFrame(Class)['PCA_3_Class']=PCA_3_Class\n",
        "GroupedMode_pca3 = Class.groupby('Class').apply(pd.DataFrame.mode).reset_index(drop=True)\n",
        "\n",
        "Computed_Cluster1_pca3 = max(Class.groupby('Class').get_group(0)['PCA_3_Class'].value_counts())\n",
        "Computed_Cluster2_pca3 = max(Class.groupby('Class').get_group(1)['PCA_3_Class'].value_counts())\n",
        "Computed_Cluster3_pca3 = max(Class.groupby('Class').get_group(2)['PCA_3_Class'].value_counts())\n",
        "purity_pca3 = float((\"{:.4f}\".format((1/len(Class))*(Computed_Cluster1_pca3+Computed_Cluster2_pca3+Computed_Cluster3_pca3))))*100\n",
        "print(\"The purity of clusters formed by 3 principal components is:\", purity_pca3,\"%\")\n",
        "print(\"\")\n",
        "print(\"FINDINGS:\")\n",
        "print(\"The line chart shows the relationship between purity and captured variance. The conclusion drawn from this chart is\")\n",
        "print(\"that cluster purity of the dataset is not significantly impacted by as a result of dimensionality reduction.\")\n",
        "plt.plot([purity_pca2, purity_pca3], [pca_variance2[1], pca_variance3[2]], marker = 'o', ls = '--')\n",
        "plt.xlabel(\"Purity (%) of clusters\")\n",
        "plt.ylabel(\"Captured variance (%) of dataset\")\n",
        "plt.title('Purity (%) by captured variance')"
      ]
    },
    {
      "cell_type": "markdown",
      "metadata": {
        "id": "8RmhzV_MK-ia"
      },
      "source": [
        "3. Let's assume you have two datasets one is linear and another is curved structural data.\n",
        "    - Can we apply PCA on these datasets? Justify your answer. __(3 marks)__ "
      ]
    },
    {
      "cell_type": "code",
      "execution_count": null,
      "metadata": {
        "id": "_9NpVDBwKqD-",
        "outputId": "6310e732-9a87-41f5-af50-1d588003ecbe"
      },
      "outputs": [
        {
          "name": "stdout",
          "output_type": "stream",
          "text": [
            "\u001b[1m\u001b[4mAnswer: PCA can be applied effectively on linear datasets, but is not appropriate curved structural datasets.\n",
            "\n",
            "\u001b[1m\u001b[4mJustification:\u001b[0m\n",
            "\n",
            "> The application of PCA results in orthogonal principal components; a dimensionality-reduced dataset which\n",
            "maintains as much variation of the dataset as possible.\n",
            "\n",
            "> Intuitively, dimensionality reduction can occur where one feature of a dataset is described by another\n",
            "(i.e. there is a direction/linear correlation.\n",
            "\n",
            "> In practice, dimensionality reduction occurs by finding the line of best fit in a dataset where variance is maximum,\n",
            "and the error/distance is minimum.\n",
            "\n",
            "> On a line of best fit this method is appropriate, however on a curved structural dataset, PCA cannot accurately be applied as\n",
            "there is no representative 'direction', and the measure of error/distance from any best-fit line is distorted\n"
          ]
        }
      ],
      "source": [
        "print('\\033[1m' + '\\033[4m' + \"Answer: PCA can be applied effectively on linear datasets, but is not appropriate curved structural datasets.\")\n",
        "print(\"\")\n",
        "print('\\033[1m' + '\\033[4m' + \"Justification:\" + '\\033[0m')\n",
        "print(\"\")\n",
        "print(\"> The application of PCA results in orthogonal principal components; a dimensionality-reduced dataset which\")\n",
        "print(\"maintains as much variation of the dataset as possible.\")\n",
        "print(\"\")\n",
        "print(\"> Intuitively, dimensionality reduction can occur where one feature of a dataset is described by another\")\n",
        "print(\"(i.e. there is a direction/linear correlation.\")\n",
        "print(\"\")\n",
        "print(\"> In practice, dimensionality reduction occurs by finding the line of best fit in a dataset where variance is maximum,\")\n",
        "print(\"and the error/distance is minimum.\")\n",
        "print(\"\")\n",
        "print(\"> On a line of best fit this method is appropriate, however on a curved structural dataset, PCA cannot accurately be applied as\")\n",
        "print(\"there is no representative 'direction', and the measure of error/distance from any best-fit line is distorted\")"
      ]
    },
    {
      "cell_type": "code",
      "execution_count": null,
      "metadata": {
        "id": "V6mqPSHiprK7",
        "outputId": "acf953f6-c27f-4a87-fd43-b56a81efc889"
      },
      "outputs": [
        {
          "name": "stdout",
          "output_type": "stream",
          "text": [
            "The purity of clusters formed by 2 principal components is: 0.8952\n"
          ]
        }
      ],
      "source": [
        ""
      ]
    },
    {
      "cell_type": "code",
      "execution_count": null,
      "metadata": {
        "id": "3KN1hlF0prK8"
      },
      "outputs": [],
      "source": [
        ""
      ]
    }
  ],
  "metadata": {
    "colab": {
      "collapsed_sections": [],
      "name": "A2_220524174.ipynb",
      "provenance": []
    },
    "kernelspec": {
      "display_name": "Python 3",
      "language": "python",
      "name": "python3"
    },
    "language_info": {
      "codemirror_mode": {
        "name": "ipython",
        "version": 3
      },
      "file_extension": ".py",
      "mimetype": "text/x-python",
      "name": "python",
      "nbconvert_exporter": "python",
      "pygments_lexer": "ipython3",
      "version": "3.7.6"
    }
  },
  "nbformat": 4,
  "nbformat_minor": 0
}