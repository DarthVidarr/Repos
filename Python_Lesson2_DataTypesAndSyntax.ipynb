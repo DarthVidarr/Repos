{
 "cells": [
  {
   "cell_type": "markdown",
   "id": "537b2f40",
   "metadata": {},
   "source": [
    "# Data types and syntax\n",
    "\n",
    "<span style=\"font-size: 15px;\"> In this lesson, we learn the foundational building blocks of the Python language. We will learn about the basics of Python's syntax as well as the common data types you'll encounter and use as you start writing code.  </span>\n",
    "\n",
    "<span style=\"font-size: 15px;\"> Understanding these basics of the Python language will make it much easier to understand and utilise the more advanced features of the language later on. </span>\n",
    "    \n",
    "*** \n",
    "<img src=\"https://miro.medium.com/v2/resize:fit:1280/0*GZzRPIDVbCDA8lI5\" />\n",
    "\n",
    "***\n",
    "\n",
    "\n",
    "<span style=\"font-size: 15px;\"> *The objective of this lesson is to achieve the following:*</span>\n",
    "\n",
    "\n",
    "\n",
    "***\n",
    "### Understand basic syntax\n",
    "\n",
    "<span style=\"font-size: 15px;\"> 1. Writing comments</span>\n",
    "\n",
    "<span style=\"font-size: 15px;\"> 2. Defining variables </span>\n",
    "\n",
    "<span style=\"font-size: 15px;\"> 3. Indentation </span>\n",
    "\n",
    "<span style=\"font-size: 15px;\"> 4. Brackets</span>\n",
    "\n",
    "### Learn data types\n",
    "\n",
    "#### Basic data types\n",
    "\n",
    "<span style=\"font-size: 15px;\"> 5. Integers</span>\n",
    "\n",
    "<span style=\"font-size: 15px;\"> 6. Floats</span>\n",
    "\n",
    "<span style=\"font-size: 15px;\"> 7. Strings</span>\n",
    "\n",
    "<span style=\"font-size: 15px;\"> 8. Booleans</span>\n",
    "\n",
    "***\n",
    "#### Complex data types\n",
    "\n",
    "<span style=\"font-size: 15px;\"> 9. Lists </span>\n",
    "\n",
    "<span style=\"font-size: 15px;\"> 10. Dictionaries </span>\n",
    "\n",
    "<span style=\"font-size: 15px;\"> 11. Dates </span>\n",
    "\n",
    "<span style=\"font-size: 15px;\"> 12. Tuples </span>\n",
    "\n",
    "***\n",
    "\n",
    "#### Finding and changing data types\n",
    "\n",
    "<span style=\"font-size: 15px;\"> 13. Find data types </span>\n",
    "\n",
    "<span style=\"font-size: 15px;\"> 14. Change data types </span>\n",
    "***\n",
    "### Put it all together\n",
    "\n",
    "<span style=\"font-size: 15px;\"> 15. Create an input </span>\n",
    "\n",
    "<span style=\"font-size: 15px;\"> 16. Create a custom greeting using the input </span>\n",
    "\n",
    "<span style=\"font-size: 15px;\"> 17. Add input details to a dictionary </span>\n",
    "\n",
    "<span style=\"font-size: 15px;\"> 18. Add dictionary to a list </span>\n",
    "\n",
    "***\n"
   ]
  },
  {
   "cell_type": "markdown",
   "id": "fa50848e",
   "metadata": {},
   "source": [
    "## Understand basic syntax\n",
    "\n",
    "<span style=\"font-size: 15px;\"> Python's syntax (i.e. the way the language is structured/written) is designed to be readable and straightforward. The language uses clear and intuitive key words, and tries to be concise without losing meaning. Here's a quick look at some basic syntax elements: </span>\n",
    "\n",
    "\n",
    "### 1. Writing comments\n",
    "<span style=\"font-size: 15px;\"> You can use '#' in front of a line to make a single-line comment. Comments in your code should be used to help others understand what is going on. </span>\n",
    "\n",
    "<div class=\"alert alert-block alert-success\">\n",
    "<b>Tip:</b> While there is no strict convention, a good rule of thumb is to use comments to explain 'why' a particular block of code is doing what it is, rather than explain 'what' it is doing. Unless it's very complex, the code itself can usually explain what is happening. \n",
    "</div>"
   ]
  },
  {
   "cell_type": "code",
   "execution_count": 1,
   "id": "10e41791",
   "metadata": {},
   "outputs": [
    {
     "ename": "SyntaxError",
     "evalue": "invalid syntax (2/ipykernel_16640/3399820201.py, line 2)",
     "output_type": "error",
     "traceback": [
      "\u001b[1;36m  File \u001b[1;32m\"C:\\Users\\gfree\\AppData\\Local\\Temp\\2/ipykernel_16640/3399820201.py\"\u001b[1;36m, line \u001b[1;32m2\u001b[0m\n\u001b[1;33m    This isnt a comment\u001b[0m\n\u001b[1;37m         ^\u001b[0m\n\u001b[1;31mSyntaxError\u001b[0m\u001b[1;31m:\u001b[0m invalid syntax\n"
     ]
    }
   ],
   "source": [
    "# This is a comment\n",
    "This isnt a comment"
   ]
  },
  {
   "cell_type": "markdown",
   "id": "d8f552c0",
   "metadata": {},
   "source": [
    "### 2. Defining variables\n",
    "\n",
    "<span style=\"font-size: 15px;\"> A variable is simply a name of your choosing which has a value assigned to it. Variables are stored in our Python session's memory for the duration of the session so they can be re-used. Variables can also be re-assigned different values during the same session   </span>"
   ]
  },
  {
   "cell_type": "code",
   "execution_count": 2,
   "id": "86945b1e",
   "metadata": {},
   "outputs": [
    {
     "name": "stdout",
     "output_type": "stream",
     "text": [
      "pineapple\n"
     ]
    }
   ],
   "source": [
    "# Define variables\n",
    "x = \"pineapple\"\n",
    "y = True\n",
    "z = 7\n",
    "\n",
    "# Print the x variable below\n",
    "print(x)"
   ]
  },
  {
   "cell_type": "code",
   "execution_count": 3,
   "id": "cad79811",
   "metadata": {},
   "outputs": [
    {
     "name": "stdout",
     "output_type": "stream",
     "text": [
      "carrot\n"
     ]
    }
   ],
   "source": [
    "# Give a new value to the x variable, then re-print the x variable\n",
    "x = \"carrot\"\n",
    "\n",
    "print(x)"
   ]
  },
  {
   "cell_type": "code",
   "execution_count": 4,
   "id": "2b1e4497",
   "metadata": {},
   "outputs": [
    {
     "data": {
      "text/plain": [
       "8"
      ]
     },
     "execution_count": 4,
     "metadata": {},
     "output_type": "execute_result"
    }
   ],
   "source": [
    "# Variables can also be used for arithmetic\n",
    "\n",
    "z + 1"
   ]
  },
  {
   "cell_type": "markdown",
   "id": "c4a5ad50",
   "metadata": {},
   "source": [
    "### 3. Indentation\n",
    "\n",
    "<span style=\"font-size: 15px;\"> Indentations are spaces at the beginning of a line or block of code. Python uses indentation as part of structuring code and while other programming languages might use indentation simply as a way of improving readability, Python is requires proper indentation, otherwise our code may not run  </span>\n",
    "\n",
    "<div class=\"alert alert-block alert-success\">\n",
    "<b>Tip:</b> Generally, indentation occurs on the line following a 'statement' (e.g. \"if\") to help Python interpret that the code following relates to the statement given.\n",
    "</div>"
   ]
  },
  {
   "cell_type": "code",
   "execution_count": 5,
   "id": "285fbe21",
   "metadata": {},
   "outputs": [
    {
     "name": "stdout",
     "output_type": "stream",
     "text": [
      "3.1 Outside of a statement, indentation generally isn't required\n",
      "3.2 Within a statement, indentation is generally required\n",
      "3.3 Within a statement, if the following code is on the same line, indentation is not required\n"
     ]
    }
   ],
   "source": [
    "# Outside of a statement, indentation isn't required\n",
    "\n",
    "print(\"3.1 Outside of a statement, indentation generally isn't required\")\n",
    "\n",
    "# Inside a statement (e.g. \"if\" statements), indentation is generally required\n",
    "\n",
    "if y == True:\n",
    "    print(\"3.2 Within a statement, indentation is generally required\")\n",
    "    \n",
    "\n",
    "# ...But sometimes it isn't!\n",
    "    \n",
    "if y == True: print(\"3.3 Within a statement, if the following code is on the same line, indentation is not required\")\n",
    "\n",
    "\n"
   ]
  },
  {
   "cell_type": "code",
   "execution_count": 6,
   "id": "b4b2c09d",
   "metadata": {},
   "outputs": [
    {
     "name": "stdout",
     "output_type": "stream",
     "text": [
      "3.4 This value only prints if our y variable is True\n",
      "3.4.1 The y variable was not False, so the 'else' statement tells Python to print this message.\n"
     ]
    }
   ],
   "source": [
    "# Nested 'if' statements can be handled by indenting an already indented block\n",
    "\n",
    "if y == True:\n",
    "    print(\"3.4 This value only prints if our y variable is True\")\n",
    "    if y == False: # This second 'if' statement is contained in a nested indentation\n",
    "        print(\"3.4 This value only prints if our y variable is False\")\n",
    "    else:\n",
    "        print(\"3.4.1 The y variable was not False, so the 'else' statement tells Python to print this message.\")"
   ]
  },
  {
   "cell_type": "code",
   "execution_count": 7,
   "id": "a355ecfb",
   "metadata": {},
   "outputs": [
    {
     "ename": "IndentationError",
     "evalue": "expected an indented block (2/ipykernel_16640/3283885819.py, line 4)",
     "output_type": "error",
     "traceback": [
      "\u001b[1;36m  File \u001b[1;32m\"C:\\Users\\gfree\\AppData\\Local\\Temp\\2/ipykernel_16640/3283885819.py\"\u001b[1;36m, line \u001b[1;32m4\u001b[0m\n\u001b[1;33m    print(\"3.5 This shouldn't run if it's on a new line\")\u001b[0m\n\u001b[1;37m    ^\u001b[0m\n\u001b[1;31mIndentationError\u001b[0m\u001b[1;31m:\u001b[0m expected an indented block\n"
     ]
    }
   ],
   "source": [
    "# Try writing an if statement without indentation on the following line\n",
    "\n",
    "if y == True: \n",
    "print(\"3.5 This shouldn't run if it's on a new line\")"
   ]
  },
  {
   "cell_type": "markdown",
   "id": "d629a60b",
   "metadata": {},
   "source": [
    "### 4. Brackets\n",
    "\n",
    "<span style=\"font-size: 15px;\"> In Python, square brackets [ ], curly brackets { }, and round brackets ( ) are used to define different types of data structures. These brackets can also help with interacting with existing items. </span>\n",
    "\n",
    "<span style=\"font-size: 15px;\"> **Square brackets [ ]** are used for Lists, Indexing, Slicing, and List comprehension. </span>\n",
    "\n",
    "<span style=\"font-size: 15px;\"> **Curly brackets { }** are used for Dictionaries, placeholders for variables in string and Dictionary comprehension </span>\n",
    "\n",
    "<span style=\"font-size: 15px;\"> **Round brackets ( )** are used for Tuples, Functions, and Grouping arithmetic expressions </span>"
   ]
  },
  {
   "cell_type": "markdown",
   "id": "6ea48005",
   "metadata": {},
   "source": [
    "#### Square brackets"
   ]
  },
  {
   "cell_type": "code",
   "execution_count": 8,
   "id": "a4a5246a",
   "metadata": {},
   "outputs": [
    {
     "data": {
      "text/plain": [
       "'pineapple'"
      ]
     },
     "execution_count": 8,
     "metadata": {},
     "output_type": "execute_result"
    }
   ],
   "source": [
    "fruits = [\"pineapple\", \"coconut\",\"lemon\"] # define a list\n",
    "\n",
    "fruits[0] # access the first (0'th) element in the list"
   ]
  },
  {
   "cell_type": "markdown",
   "id": "d555e23d",
   "metadata": {},
   "source": [
    "***Access the 0'th element in the list***"
   ]
  },
  {
   "cell_type": "code",
   "execution_count": 9,
   "id": "72f15882",
   "metadata": {},
   "outputs": [
    {
     "data": {
      "text/plain": [
       "'pineapple'"
      ]
     },
     "execution_count": 9,
     "metadata": {},
     "output_type": "execute_result"
    }
   ],
   "source": [
    "fruits[0] # access the first (0'th) element in the list"
   ]
  },
  {
   "cell_type": "markdown",
   "id": "ebf136aa",
   "metadata": {},
   "source": [
    "***Access the next two elements in the list***"
   ]
  },
  {
   "cell_type": "code",
   "execution_count": 10,
   "id": "7f752064",
   "metadata": {},
   "outputs": [
    {
     "data": {
      "text/plain": [
       "['coconut', 'lemon']"
      ]
     },
     "execution_count": 10,
     "metadata": {},
     "output_type": "execute_result"
    }
   ],
   "source": [
    "fruits[1:3] # access the next two elements in the list."
   ]
  },
  {
   "cell_type": "markdown",
   "id": "fa3df16e",
   "metadata": {},
   "source": [
    "<div class=\"alert alert-block alert-success\">\n",
    "<b>Tip:</b> When slicing list elements by indices, the end index value is 'exclusive', so fruits[1:3] means \"Return values from the 'fruits' list, [starting at position 1, up to but excluding position 3]\".\n",
    "</div>"
   ]
  },
  {
   "cell_type": "code",
   "execution_count": 11,
   "id": "da7d1969",
   "metadata": {},
   "outputs": [
    {
     "ename": "IndexError",
     "evalue": "list index out of range",
     "output_type": "error",
     "traceback": [
      "\u001b[1;31m---------------------------------------------------------------------------\u001b[0m",
      "\u001b[1;31mIndexError\u001b[0m                                Traceback (most recent call last)",
      "\u001b[1;32m~\\AppData\\Local\\Temp\\2/ipykernel_16640/2091438932.py\u001b[0m in \u001b[0;36m<module>\u001b[1;34m\u001b[0m\n\u001b[1;32m----> 1\u001b[1;33m \u001b[0mfruits\u001b[0m\u001b[1;33m[\u001b[0m\u001b[1;36m3\u001b[0m\u001b[1;33m]\u001b[0m \u001b[1;31m# Out of index range.\u001b[0m\u001b[1;33m\u001b[0m\u001b[1;33m\u001b[0m\u001b[0m\n\u001b[0m",
      "\u001b[1;31mIndexError\u001b[0m: list index out of range"
     ]
    }
   ],
   "source": [
    "fruits[3] # Out of index range."
   ]
  },
  {
   "cell_type": "markdown",
   "id": "138d494b",
   "metadata": {},
   "source": [
    "<div class=\"alert alert-block alert-success\">\n",
    "<b>Tip:</b> You might expect to be able to return the third value in a list by calling fruits[3]. But note that Python starts counting indices from 0, so a list with 3 values will have an index of 0, 1, 2 - meaning your third value will be found by calling fruits[2]\n",
    "</div>"
   ]
  },
  {
   "cell_type": "markdown",
   "id": "29d38171",
   "metadata": {},
   "source": [
    "***\n",
    "#### Curly brackets"
   ]
  },
  {
   "cell_type": "code",
   "execution_count": 12,
   "id": "07f3a593",
   "metadata": {},
   "outputs": [
    {
     "data": {
      "text/plain": [
       "{'name': 'Jane', 'age': 27, 'occupation': 'Data Analyst'}"
      ]
     },
     "execution_count": 12,
     "metadata": {},
     "output_type": "execute_result"
    }
   ],
   "source": [
    "user = {\"name\": \"Jane\", \"age\": 27, \"occupation\": \"Data Analyst\"} # define a dictionary\n",
    "user"
   ]
  },
  {
   "cell_type": "markdown",
   "id": "2ce7f964",
   "metadata": {},
   "source": [
    "<div class=\"alert alert-block alert-success\">\n",
    "<b>Tip:</b> Dictionaries are organised into 'key':'value' pairs. The above example shows keys of \"name\", \"age\", \"occupation\". The 'values' are paired to their respective keys (i.e. \"Jane\", 27, \"Data Analyst\") \n",
    "</div>"
   ]
  },
  {
   "cell_type": "code",
   "execution_count": 13,
   "id": "d8d63eb2",
   "metadata": {},
   "outputs": [
    {
     "data": {
      "text/plain": [
       "'Jane'"
      ]
     },
     "execution_count": 13,
     "metadata": {},
     "output_type": "execute_result"
    }
   ],
   "source": [
    "user['name'] # individual values within the dictionary can be accessed by calling the key (in this case, 'name')"
   ]
  },
  {
   "cell_type": "code",
   "execution_count": 17,
   "id": "f0c2f9c7",
   "metadata": {},
   "outputs": [],
   "source": [
    "# You can combine the square (i.e. List) and curly (i.e. Dictionary) bracket functionality to make a list of dictionaries\n",
    "users = [\n",
    "    {\"name\": \"Jane\", \"age\": 27, \"occupation\": \"Data Analyst\"},\n",
    "    {\"name\": \"Bob\", \"age\": 33, \"occupation\": \"Data Engineer\"},\n",
    "    {\"name\": \"Pamela\", \"age\": 65, \"occupation\": \"Chief Data Officer\"},\n",
    "    {\"name\": \"Oliver\", \"age\": 65, \"occupation\": \"Data Analyst\"}\n",
    "] "
   ]
  },
  {
   "cell_type": "code",
   "execution_count": 18,
   "id": "5177fac2",
   "metadata": {},
   "outputs": [
    {
     "data": {
      "text/plain": [
       "{'name': 'Jane', 'age': 27, 'occupation': 'Data Analyst'}"
      ]
     },
     "execution_count": 18,
     "metadata": {},
     "output_type": "execute_result"
    }
   ],
   "source": [
    "users[0] # The list gives us the ability to search by indices, i.e. the first (0'th) element in the list of dictionaries"
   ]
  },
  {
   "cell_type": "code",
   "execution_count": 19,
   "id": "b16c0cbc",
   "metadata": {},
   "outputs": [
    {
     "data": {
      "text/plain": [
       "'Pamela'"
      ]
     },
     "execution_count": 19,
     "metadata": {},
     "output_type": "execute_result"
    }
   ],
   "source": [
    "users[2]['name'] # You can combine a search by index with finding a dictionary value too."
   ]
  },
  {
   "cell_type": "markdown",
   "id": "0deeb5e3",
   "metadata": {},
   "source": [
    "<div class=\"alert alert-block alert-info\">\n",
    "<b>Note:</b> Once you're familiar with 'for' loops (covered in a later lesson) You can do things like search a list for all dictionary items where a given dictionary 'key' equals a user defined 'value', shown below.\n",
    "</div>"
   ]
  },
  {
   "cell_type": "code",
   "execution_count": 20,
   "id": "1da93477",
   "metadata": {},
   "outputs": [
    {
     "data": {
      "text/plain": [
       "[{'name': 'Jane', 'age': 27, 'occupation': 'Data Analyst'},\n",
       " {'name': 'Oliver', 'age': 65, 'occupation': 'Data Analyst'}]"
      ]
     },
     "execution_count": 20,
     "metadata": {},
     "output_type": "execute_result"
    }
   ],
   "source": [
    "[value for value in users if value['occupation'] == 'Data Analyst'] "
   ]
  },
  {
   "cell_type": "markdown",
   "id": "aeebea61",
   "metadata": {},
   "source": [
    "***\n",
    "#### Round brackets"
   ]
  },
  {
   "cell_type": "code",
   "execution_count": 21,
   "id": "564ad906",
   "metadata": {},
   "outputs": [
    {
     "name": "stdout",
     "output_type": "stream",
     "text": [
      "Round brackets can be used to pass arguments to functions\n",
      "They can also be used to group experssions or tuples\n"
     ]
    }
   ],
   "source": [
    "Coordinates = (-37.813, 144.963) # Round brackets can be used to define 'tuples'\n",
    "\n",
    "print(\"Round brackets can be used to pass arguments to functions\") # Round brackets are used to pass arguments to functions\n",
    "\n",
    "result = (1 + 2) * 3 # They can also be used to group expressions to control the order of arithmetic operations\n",
    "\n",
    "print(\"They can also be used to group experssions or tuples\") "
   ]
  },
  {
   "cell_type": "markdown",
   "id": "ee81d7b9",
   "metadata": {},
   "source": [
    "## Learn data types\n",
    "\n",
    "### Basic data types\n",
    "\n",
    "### 5. Integers"
   ]
  },
  {
   "cell_type": "code",
   "execution_count": 22,
   "id": "a9371228",
   "metadata": {},
   "outputs": [],
   "source": [
    "age = 27 # Integers are simply whole numbers."
   ]
  },
  {
   "cell_type": "markdown",
   "id": "04b1afd2",
   "metadata": {},
   "source": [
    "### 6. Floats"
   ]
  },
  {
   "cell_type": "code",
   "execution_count": 23,
   "id": "aeb569a6",
   "metadata": {},
   "outputs": [],
   "source": [
    "pi = 3.14 # Floats are decimal numbers like pi"
   ]
  },
  {
   "cell_type": "markdown",
   "id": "e43117f5",
   "metadata": {},
   "source": [
    "### 7. String"
   ]
  },
  {
   "cell_type": "code",
   "execution_count": 24,
   "id": "e9475508",
   "metadata": {},
   "outputs": [],
   "source": [
    "greeting = \"Hello world.\" # Strings are a series of characters enclosed in single or double quotes\n",
    "string_pi = \"3.14\""
   ]
  },
  {
   "cell_type": "markdown",
   "id": "57bec98a",
   "metadata": {},
   "source": [
    "<div class=\"alert alert-block alert-success\">\n",
    "<b>Tip:</b> If you wrap an integer or float in single or double quotes, it becomes string.\n",
    "</div>"
   ]
  },
  {
   "cell_type": "markdown",
   "id": "a43ea6b6",
   "metadata": {},
   "source": [
    "### 8. Booleans"
   ]
  },
  {
   "cell_type": "code",
   "execution_count": 25,
   "id": "93894590",
   "metadata": {},
   "outputs": [],
   "source": [
    "earth_is_flat = False # Booleans are categorical True/False values (sometimes represented numerically as 0/1.)"
   ]
  },
  {
   "cell_type": "markdown",
   "id": "d8f075d7",
   "metadata": {},
   "source": [
    "### Complex data types\n",
    "\n",
    "### 9. Lists"
   ]
  },
  {
   "cell_type": "code",
   "execution_count": 26,
   "id": "0ba8b974",
   "metadata": {},
   "outputs": [
    {
     "name": "stdout",
     "output_type": "stream",
     "text": [
      "['pineapple', 'coconut', 'lemon']\n"
     ]
    }
   ],
   "source": [
    "fruits = [\"pineapple\", \"coconut\",\"lemon\"] # Lists are ordered collections of items.\n",
    "print(fruits)"
   ]
  },
  {
   "cell_type": "code",
   "execution_count": 27,
   "id": "a3bdeee2",
   "metadata": {},
   "outputs": [],
   "source": [
    "new_fruit = 'watermelon' # If you want to add a new fruit to your fruit list ...\n",
    "\n",
    "fruits.append(new_fruit) # you can use the append() method, passing your argument (i.e. watermelon) to the list.\n",
    "\n",
    "fruits.append('apple') # you don't have to create a variable to do this. Your argument can be passed directly."
   ]
  },
  {
   "cell_type": "code",
   "execution_count": 28,
   "id": "5a39829b",
   "metadata": {},
   "outputs": [
    {
     "name": "stdout",
     "output_type": "stream",
     "text": [
      "['pineapple', 'coconut', 'lemon', 'watermelon', 'apple']\n"
     ]
    }
   ],
   "source": [
    "print(fruits)"
   ]
  },
  {
   "cell_type": "markdown",
   "id": "22d057ff",
   "metadata": {},
   "source": [
    "### 10. Dictionaries"
   ]
  },
  {
   "cell_type": "code",
   "execution_count": 30,
   "id": "17e0a216",
   "metadata": {},
   "outputs": [
    {
     "data": {
      "text/plain": [
       "{'name': 'Jane', 'age': 27, 'occupation': 'Data Analyst'}"
      ]
     },
     "execution_count": 30,
     "metadata": {},
     "output_type": "execute_result"
    }
   ],
   "source": [
    "user = {\"name\": \"Jane\", \"age\": 27, \"occupation\": \"Data Analyst\"} # Dictionaries are collections of key-value pairs.\n",
    "user"
   ]
  },
  {
   "cell_type": "markdown",
   "id": "a7068897",
   "metadata": {},
   "source": [
    "### 11. Dates"
   ]
  },
  {
   "cell_type": "code",
   "execution_count": 31,
   "id": "6d045c85",
   "metadata": {},
   "outputs": [
    {
     "name": "stdout",
     "output_type": "stream",
     "text": [
      "This is an example date: 2024-05-30\n",
      "The date today is: 2024-06-07\n"
     ]
    }
   ],
   "source": [
    "import datetime # The datetime module is sometimes used to create/work with date data\n",
    "\n",
    "example_date = datetime.date(2024,5,30)\n",
    "\n",
    "current_date = datetime.date.today()\n",
    "\n",
    "print(\"This is an example date:\", example_date)\n",
    "print(\"The date today is:\", current_date)"
   ]
  },
  {
   "cell_type": "code",
   "execution_count": 32,
   "id": "d838b6ab",
   "metadata": {},
   "outputs": [
    {
     "name": "stdout",
     "output_type": "stream",
     "text": [
      "2024\n",
      "5\n",
      "30\n",
      "14 : 30 : 57\n"
     ]
    }
   ],
   "source": [
    "import pandas as pd # Pandas is also commonly used to create/work with date data, and has additional functionality\n",
    "# allowing you to find elements of a given timestamp\n",
    "\n",
    "pandas_date = pd.Timestamp('2024-05-30 14:30:57')\n",
    "\n",
    "print(pandas_date.year)\n",
    "print(pandas_date.month)\n",
    "print(pandas_date.day)\n",
    "print(pandas_date.hour,\":\",pandas_date.minute,\":\", pandas_date.second)"
   ]
  },
  {
   "cell_type": "code",
   "execution_count": 33,
   "id": "4381e71f",
   "metadata": {},
   "outputs": [
    {
     "name": "stdout",
     "output_type": "stream",
     "text": [
      "Pandas hsa found the datetime year is: 2024\n",
      "Pandas hsa found the datetime month is: 6\n",
      "Pandas hsa found the datetime day is: 7\n"
     ]
    }
   ],
   "source": [
    "# Packages can be used together, for example, datetime to create a date and pandas to inspect elements of that date\n",
    "\n",
    "datetime_current_date = datetime.date.today()\n",
    "\n",
    "print(\"Pandas hsa found the datetime year is:\",datetime_current_date.year)\n",
    "print(\"Pandas hsa found the datetime month is:\",datetime_current_date.month)\n",
    "print(\"Pandas hsa found the datetime day is:\",datetime_current_date.day)"
   ]
  },
  {
   "cell_type": "markdown",
   "id": "bf8d04f8",
   "metadata": {},
   "source": [
    "<div class=\"alert alert-block alert-success\">\n",
    "<b>Tip:</b> dates can be compared against one aonther to return Booleans. This is useful to find anomalies in data, e.g. \"Create Date\" > \"Incident Closure Date\"\n",
    "</div>"
   ]
  },
  {
   "cell_type": "code",
   "execution_count": 34,
   "id": "70d8a686",
   "metadata": {},
   "outputs": [
    {
     "name": "stdout",
     "output_type": "stream",
     "text": [
      "True\n",
      "Stop! The create date can't be greater than the closure date.\n"
     ]
    }
   ],
   "source": [
    "incident_create_date = pd.Timestamp('2024-06-07 12:00:00')\n",
    "incident_closure_date = pd.Timestamp('2022-07-24 12:00:00')\n",
    "\n",
    "print(incident_create_date > incident_closure_date) # Returns True if create date > closure date\n",
    "\n",
    "if incident_create_date > incident_closure_date:\n",
    "    print(\"Stop! The create date can't be greater than the closure date.\")"
   ]
  },
  {
   "cell_type": "markdown",
   "id": "7cb174f0",
   "metadata": {},
   "source": [
    "### 12. Tuples\n",
    "\n",
    "<div class=\"alert alert-block alert-success\">\n",
    "<b>Tip:</b> Tuples are like lists, except they are 'immutable', which means once they're created, they can't be changed.</div>"
   ]
  },
  {
   "cell_type": "code",
   "execution_count": 36,
   "id": "33eb02b4",
   "metadata": {},
   "outputs": [
    {
     "data": {
      "text/plain": [
       "((-37.813, 144.963), (-33.868, 151.209), (-31.951, 115.861))"
      ]
     },
     "execution_count": 36,
     "metadata": {},
     "output_type": "execute_result"
    }
   ],
   "source": [
    "tuple_coordinates = ( (-37.813, 144.963), (-33.868, 151.209), (-31.951, 115.861) )\n",
    "tuple_coordinates"
   ]
  },
  {
   "cell_type": "markdown",
   "id": "169b8bc7",
   "metadata": {},
   "source": [
    "## Finding and changing data types\n",
    "\n",
    "\n",
    "### 13. Find data types"
   ]
  },
  {
   "cell_type": "code",
   "execution_count": 37,
   "id": "cbac235b",
   "metadata": {},
   "outputs": [
    {
     "data": {
      "text/plain": [
       "str"
      ]
     },
     "execution_count": 37,
     "metadata": {},
     "output_type": "execute_result"
    }
   ],
   "source": [
    "variable = '55'\n",
    "\n",
    "type(variable) # by using type() you can easily find the data type of variables. Change the variable value to experiment"
   ]
  },
  {
   "cell_type": "markdown",
   "id": "0a81623a",
   "metadata": {},
   "source": [
    "### 14. Change data types"
   ]
  },
  {
   "cell_type": "code",
   "execution_count": 38,
   "id": "e4601164",
   "metadata": {},
   "outputs": [
    {
     "data": {
      "text/plain": [
       "int"
      ]
     },
     "execution_count": 38,
     "metadata": {},
     "output_type": "execute_result"
    }
   ],
   "source": [
    "variable = int(variable) # You can convert data types by overwriting the variable with the data type you request\n",
    "\n",
    "type(variable)"
   ]
  },
  {
   "cell_type": "markdown",
   "id": "0ce7c9cb",
   "metadata": {},
   "source": [
    "## Putting it all together\n",
    "\n",
    "### 15. Create an input"
   ]
  },
  {
   "cell_type": "code",
   "execution_count": 39,
   "id": "bba8b49b",
   "metadata": {},
   "outputs": [
    {
     "name": "stdout",
     "output_type": "stream",
     "text": [
      "Name: Glenn\n"
     ]
    }
   ],
   "source": [
    "name = input(\"Name: \") # An input is a function which prompts the user to enter data."
   ]
  },
  {
   "cell_type": "markdown",
   "id": "85001056",
   "metadata": {},
   "source": [
    "### 16. Create a custom greeting using the input"
   ]
  },
  {
   "cell_type": "code",
   "execution_count": 40,
   "id": "f4132b39",
   "metadata": {},
   "outputs": [
    {
     "name": "stdout",
     "output_type": "stream",
     "text": [
      "Hello Glenn\n"
     ]
    }
   ],
   "source": [
    "print(\"Hello\", name) # Create a simple greeting using the input you created."
   ]
  },
  {
   "cell_type": "code",
   "execution_count": 41,
   "id": "27d227e9",
   "metadata": {},
   "outputs": [
    {
     "name": "stdout",
     "output_type": "stream",
     "text": [
      "Name: Glenn\n",
      "Age: 33\n",
      "Occupation: Data analyst\n"
     ]
    }
   ],
   "source": [
    "name = input(\"Name: \")\n",
    "age = input(\"Age: \")\n",
    "occupation = input(\"Occupation: \")\n",
    "\n",
    "age = int(age) # By default, input() stores variables as string, so convert it to int() "
   ]
  },
  {
   "cell_type": "markdown",
   "id": "1a729a33",
   "metadata": {},
   "source": [
    "<div class=\"alert alert-block alert-success\">\n",
    "<b>Tip:</b> Putting an 'f' at the beginning of a string allows you to insert variables to your string. This is known as 'interpolation' and is shown below. Remember to wrap the variable in curly brackets!</div>"
   ]
  },
  {
   "cell_type": "code",
   "execution_count": 42,
   "id": "747b838b",
   "metadata": {},
   "outputs": [
    {
     "name": "stdout",
     "output_type": "stream",
     "text": [
      "Hello, Glenn! Your occupation is Data analyst, and you said you're 33 but you look no older than 25!\n"
     ]
    }
   ],
   "source": [
    "print(f\"Hello, {name}! Your occupation is {occupation}, and you said you're {age} but you look no older than {age-8}!\")"
   ]
  },
  {
   "cell_type": "markdown",
   "id": "a521d488",
   "metadata": {},
   "source": [
    "### 17. Add the input details to a dictionary"
   ]
  },
  {
   "cell_type": "code",
   "execution_count": 43,
   "id": "c50c7819",
   "metadata": {},
   "outputs": [
    {
     "data": {
      "text/plain": [
       "{'name': 'Glenn', 'age': 33, 'occupation': 'Data analyst'}"
      ]
     },
     "execution_count": 43,
     "metadata": {},
     "output_type": "execute_result"
    }
   ],
   "source": [
    "dictionary = {} # Initialise an empty dictionary variable. We will store the values above and assigned them to keys \n",
    "\n",
    "dictionary['name'] = name\n",
    "dictionary['age'] = age\n",
    "dictionary['occupation'] = occupation\n",
    "\n",
    "dictionary"
   ]
  },
  {
   "cell_type": "markdown",
   "id": "db42afb1",
   "metadata": {},
   "source": [
    "### 18. Add dictionary to a list"
   ]
  },
  {
   "cell_type": "code",
   "execution_count": 44,
   "id": "52d81a0a",
   "metadata": {},
   "outputs": [],
   "source": [
    "user_list = [] # Initialise an empty dictionary variable. This will contain the dictionary you defined."
   ]
  },
  {
   "cell_type": "code",
   "execution_count": 45,
   "id": "ad6c8228",
   "metadata": {},
   "outputs": [],
   "source": [
    "user_list.append(dictionary)  # you can use the append() method, passing your dictionary as an argument to the list."
   ]
  },
  {
   "cell_type": "code",
   "execution_count": 46,
   "id": "bd450c06",
   "metadata": {},
   "outputs": [
    {
     "name": "stdout",
     "output_type": "stream",
     "text": [
      "[{'name': 'Glenn', 'age': 33, 'occupation': 'Data analyst'}]\n"
     ]
    }
   ],
   "source": [
    "print(user_list) # Check what's on your list"
   ]
  },
  {
   "cell_type": "markdown",
   "id": "128f31c7",
   "metadata": {},
   "source": [
    "<span style=\"font-size: 15px;\"> **Repeat the below block of code a few times with new values to add some more dictionary inputs, and append them to your list** </span>"
   ]
  },
  {
   "cell_type": "code",
   "execution_count": 48,
   "id": "470446bd",
   "metadata": {},
   "outputs": [
    {
     "name": "stdout",
     "output_type": "stream",
     "text": [
      "Name: Bob Dylan\n",
      "Age: 8000\n",
      "Occupation: Musician\n"
     ]
    }
   ],
   "source": [
    "\n",
    "name = input(\"Name: \")\n",
    "age = input(\"Age: \")\n",
    "occupation = input(\"Occupation: \")\n",
    "\n",
    "dictionary = {}\n",
    "dictionary['name'] = name\n",
    "dictionary['age'] = age\n",
    "dictionary['occupation'] = occupation\n",
    "\n",
    "age = int(age) # By default, input() stores variables as string, so convert it to int() \n",
    "\n",
    "user_list.append(dictionary)"
   ]
  },
  {
   "cell_type": "markdown",
   "id": "a279f5bb",
   "metadata": {},
   "source": [
    "<span style=\"font-size: 15px;\"> **Check what's on your list** </span>"
   ]
  },
  {
   "cell_type": "code",
   "execution_count": 49,
   "id": "dc672e55",
   "metadata": {},
   "outputs": [
    {
     "name": "stdout",
     "output_type": "stream",
     "text": [
      "[{'name': 'Glenn', 'age': 33, 'occupation': 'Data analyst'}, {'name': 'Jane Austen', 'age': '25', 'occupation': 'Author'}, {'name': 'Bob Dylan', 'age': '8000', 'occupation': 'Musician'}]\n"
     ]
    }
   ],
   "source": [
    "print(user_list)"
   ]
  },
  {
   "cell_type": "markdown",
   "id": "acad9dfc",
   "metadata": {},
   "source": [
    "<span style=\"font-size: 15px;\"> **Find the second name that you input to the list, and their occupation** </span>"
   ]
  },
  {
   "cell_type": "code",
   "execution_count": 55,
   "id": "6337ec03",
   "metadata": {},
   "outputs": [
    {
     "name": "stdout",
     "output_type": "stream",
     "text": [
      "The first name input was <Jane Austen> and the occupation was <Author>\n"
     ]
    }
   ],
   "source": [
    "found_name = user_list[1]['name']\n",
    "found_occupation = user_list[1]['occupation']\n",
    "\n",
    "print(f\"The first name input was <{found_name}> and the occupation was <{found_occupation}>\")"
   ]
  }
 ],
 "metadata": {
  "kernelspec": {
   "display_name": "Python 3 (ipykernel)",
   "language": "python",
   "name": "python3"
  },
  "language_info": {
   "codemirror_mode": {
    "name": "ipython",
    "version": 3
   },
   "file_extension": ".py",
   "mimetype": "text/x-python",
   "name": "python",
   "nbconvert_exporter": "python",
   "pygments_lexer": "ipython3",
   "version": "3.9.7"
  }
 },
 "nbformat": 4,
 "nbformat_minor": 5
}
