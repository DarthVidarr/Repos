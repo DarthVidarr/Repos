{
 "cells": [
  {
   "cell_type": "markdown",
   "id": "3f5c51c7",
   "metadata": {},
   "source": [
    "# Control flow and Decision making\n",
    "\n",
    "   \n",
    "<span style=\"font-size: 15px;\"> When solving problems or completing tasks, we often follow a logical sequence. </span>\n",
    "\n",
    "<span style=\"font-size: 15px;\"> Some tasks are straightforward and consistent, like reading a book page-by-page. **This linear and sequential logic.** </span>\n",
    "    \n",
    "<span style=\"font-size: 15px;\"> Other tasks require reacting to different situations or repeating actions until certain conditions are met. For example, making a sandwich involves retrieving ingredients, adding condiments, and assembling the sandwich based on preferences. **This requires non-liner and conditional logic.**  </span> \n",
    "\n",
    "\n",
    "<span style=\"font-size: 15px;\"> In programming, these concepts are known as 'Control flow' and 'Decision making'. They determine the order and conditions under which code execuites, if at all, and helps create scripts which are flexible and reactive to different scenarios. </span>\n",
    "    \n",
    "\n",
    "<span style=\"font-size: 15px;\"> *In this lesson, we will explore control flow and decision making by creating a bot which accepts customer orders for sandwiches, serves the order, and/or provides conditional feedback:*</span>\n",
    "***\n",
    "### Setup\n",
    "\n",
    "<span style=\"font-size: 15px;\"> 1. Create/review a list of dictionaries containing Customer, Sandwich preferences, and their queue number.</span>\n",
    "\n",
    "<span style=\"font-size: 15px;\"> 2. Create/review a list of available ingredients.</span>\n",
    "\n",
    "\n",
    "### Conditionals ('if' / 'else')\n",
    "\n",
    "<span style=\"font-size: 15px;\"> 3. Check whether an ingredient is available </span>\n",
    "\n",
    "<span style=\"font-size: 15px;\"> 4. If all ingredients are available let the customer know the order is accepted </span>\n",
    "\n",
    "<span style=\"font-size: 15px;\"> 5. If an ingredient is not available, let the customer know which ingredient(s) are missing </span>\n",
    "\n",
    "<span style=\"font-size: 15px;\"> 6. Determine whether the right customer is receiving the sandwich </span>\n",
    "\n",
    "***\n",
    "### Loops\n",
    "\n",
    "<span style=\"font-size: 15px;\"> 7. Use a 'for' loop to iterate through customer names in our dataset  </span>\n",
    "\n",
    "<span style=\"font-size: 15px;\"> 8. Use a 'while' loop to cook the sandwich for 10 seconds </span>\n",
    "\n",
    "<span style=\"font-size: 15px;\"> 9. Use a 'break' statement to prevent making sandwiches with extras which customers are allergic to </span>\n",
    "\n",
    "<span style=\"font-size: 15px;\"> 10. Use a 'continue' statement to avoid allergic ingredients but continue making the sandwich </span>\n",
    "\n",
    "***\n",
    "\n",
    "### Putting it together\n",
    "\n",
    "<span style=\"font-size: 15px;\"> 11. Build a bot which checks that ingredients are available, accepts/rejects orders, provides feedback on why orders have been rejected, and makes sandwiches while avoiding allergies. </span>\n",
    "\n",
    "\n",
    "***\n",
    "\n",
    "<img src=\"https://gomerblog.com/wp-content/uploads/2015/03/davinci.jpg\" />\n",
    "\n",
    "\n",
    "***\n",
    "\n",
    "### *A quick note on using the `set()` function to help us with this task.*\n",
    "\n",
    "<div class=\"alert alert-block alert-info\">\n",
    "<b>Note:</b> The set() operation returns a unique 'set' of values in a list.\n",
    "</div>\n",
    "\n"
   ]
  },
  {
   "cell_type": "code",
   "execution_count": 6,
   "id": "e0425b2c",
   "metadata": {},
   "outputs": [
    {
     "data": {
      "text/plain": [
       "{'Chicken', 'Tuna'}"
      ]
     },
     "execution_count": 6,
     "metadata": {},
     "output_type": "execute_result"
    }
   ],
   "source": [
    "a_list = ['Tuna', 'Chicken', 'Tuna', 'Chicken', 'Tuna'] # A list can have multiple of the same item. \n",
    "\n",
    "a_set = set(a_list) # A set returns unique values from a list, in no specific order\n",
    "\n",
    "a_set"
   ]
  },
  {
   "cell_type": "markdown",
   "id": "e8822970",
   "metadata": {},
   "source": [
    "<div class=\"alert alert-block alert-info\">\n",
    "<b>Note:</b> The issubset() method returns True if all items in set `x` are present in set `y`\n",
    "</div>"
   ]
  },
  {
   "cell_type": "code",
   "execution_count": 7,
   "id": "13b5d61b",
   "metadata": {},
   "outputs": [
    {
     "data": {
      "text/plain": [
       "True"
      ]
     },
     "execution_count": 7,
     "metadata": {},
     "output_type": "execute_result"
    }
   ],
   "source": [
    "y = ['Chicken', 'Tuna', 'Turkey', 'Egg', 'Bacon']\n",
    "x = ['Chicken', 'Tuna'] # Chicken and Tuna both appear in 'y', therefore 'x' is a subset of 'y' and will return True\n",
    "\n",
    "set(x).issubset(set(y))"
   ]
  },
  {
   "cell_type": "code",
   "execution_count": 8,
   "id": "dce15768",
   "metadata": {},
   "outputs": [
    {
     "data": {
      "text/plain": [
       "False"
      ]
     },
     "execution_count": 8,
     "metadata": {},
     "output_type": "execute_result"
    }
   ],
   "source": [
    "y = ['Chicken', 'Tuna', 'Turkey', 'Egg', 'Bacon']\n",
    "x = ['Carrot', 'Tuna'] #Carrot is not in set 'y' therefore will return false.\n",
    "\n",
    "set(x).issubset(set(y))"
   ]
  },
  {
   "cell_type": "markdown",
   "id": "2a9e4053",
   "metadata": {},
   "source": [
    "### *Onto the tasks!*\n",
    "***"
   ]
  },
  {
   "cell_type": "markdown",
   "id": "aa73532b",
   "metadata": {},
   "source": [
    "## Setup\n",
    "### 1. Create/review a list of dictionaries containing Customer, Sandwich preferences, and their queue number."
   ]
  },
  {
   "cell_type": "code",
   "execution_count": 9,
   "id": "b8c6d682",
   "metadata": {},
   "outputs": [],
   "source": [
    "customers = [\n",
    "    {\n",
    "        \"queue_number\": 1,\n",
    "        \"name\": \"Alice\",\n",
    "        \"bread\": \"Whole Wheat\",\n",
    "        \"fillings\": [\"Turkey\", \"Lettuce\", \"Tomato\"],\n",
    "        \"extras\": [\"Mayo\", \"Mustard\"],\n",
    "        \"allergies\": []},\n",
    "    {\n",
    "        \"queue_number\": 2,\n",
    "        \"name\": \"Bob\",\n",
    "        \"bread\": \"Sourdough\",\n",
    "        \"fillings\": [\"Ham\", \"Cheese\"],\n",
    "        \"extras\": [\"Pickles\"],\n",
    "        \"allergies\": [\"Pickles\"]},\n",
    "    {\n",
    "        \"queue_number\": 3,\n",
    "        \"name\": \"Charlie\",\n",
    "        \"bread\": \"Rye\",\n",
    "        \"fillings\": [\"Chicken\", \"Avocado\", \"Spinach\"],\n",
    "        \"extras\": [\"Pickles\", \"Hummus\", \"BBQ Sauce\", \"Vinegar\", \"Pesto\"],\n",
    "        \"allergies\": [\"Hummus\"]},\n",
    "    {\n",
    "        \"queue_number\": 4,\n",
    "        \"name\": \"Diana\",\n",
    "        \"bread\": \"Ciabatta\",\n",
    "        \"fillings\": [\"Roast Beef\", \"Cheddar\", \"Rocket\"],\n",
    "        \"extras\": [\"BBQ Sauce\"],\n",
    "        \"allergies\": []},\n",
    "    {\n",
    "        \"queue_number\": 5,\n",
    "        \"name\": \"Eve\",\n",
    "        \"bread\": \"Gluten-Free\",\n",
    "        \"fillings\": [\"Tuna\", \"Cucumber\", \"Red Onion\"],\n",
    "        \"extras\": [\"Olive Oil\"],\n",
    "        \"allergies\": [\"Pickles\"]},\n",
    "\n",
    "    {\n",
    "        \"queue_number\": 6,\n",
    "        \"name\": \"James\",\n",
    "        \"bread\": \"Italian Herb & Cheese\",\n",
    "        \"fillings\": [\"Chicken\", \"Cheddar\", \"Red Onion\"],\n",
    "        \"extras\": [\"Olives\"],\n",
    "        \"allergies\": []},\n",
    "]"
   ]
  },
  {
   "cell_type": "markdown",
   "id": "d12c94b7",
   "metadata": {},
   "source": [
    "### 2. Create/review a list of available ingredients."
   ]
  },
  {
   "cell_type": "code",
   "execution_count": 10,
   "id": "1470ff9a",
   "metadata": {},
   "outputs": [],
   "source": [
    "# List of breads\n",
    "bread_options = [\n",
    "    \"Whole Wheat\",\n",
    "    \"Sourdough\",\n",
    "    \"Rye\",\n",
    "    \"Ciabatta\",\n",
    "    \"Gluten-Free\",\n",
    "    \"White\",\n",
    "    \"Multigrain\",\n",
    "    \"Bagel\"\n",
    "]\n",
    "\n",
    "# List of fillings\n",
    "filling_options = [\n",
    "    \"Turkey\",\n",
    "    \"Ham\",\n",
    "    \"Chicken\",\n",
    "    \"Tuna\",\n",
    "    \"Roast Beef\",\n",
    "    \"Cheddar\",\n",
    "    \"Lettuce\",\n",
    "    \"Tomato\",\n",
    "    \"Avocado\",\n",
    "    \"Spinach\",\n",
    "    \"Cucumber\",\n",
    "    \"Red Onion\",\n",
    "    \"Egg Salad\",\n",
    "    \"Bacon\",\n",
    "    \"Salami\",\n",
    "    \"Pastrami\"\n",
    "]\n",
    "\n",
    "# List of extras\n",
    "extra_options = [\n",
    "    \"Mayo\",\n",
    "    \"Mustard\",\n",
    "    \"Pickles\",\n",
    "    \"Hummus\",\n",
    "    \"Horseradish Sauce\",\n",
    "    \"Olive Oil\",\n",
    "    \"Vinegar\",\n",
    "    \"Salt\",\n",
    "    \"Pepper\",\n",
    "    \"Honey\",\n",
    "    \"Ketchup\",\n",
    "    \"BBQ Sauce\",\n",
    "    \"Hot Sauce\",\n",
    "    \"Pesto\"\n",
    "]"
   ]
  },
  {
   "cell_type": "markdown",
   "id": "dd3ed15b",
   "metadata": {},
   "source": [
    "## Conditionals ('if' / 'else')\n",
    "\n",
    "### 3. Check whether an ingredient is available\n",
    "\n",
    "<div class=\"alert alert-block alert-info\">\n",
    "<b>Note:</b> Be mindful of case sensitivity!\n",
    "</div>"
   ]
  },
  {
   "cell_type": "code",
   "execution_count": 11,
   "id": "cf5af7cb",
   "metadata": {},
   "outputs": [
    {
     "name": "stdout",
     "output_type": "stream",
     "text": [
      "True\n"
     ]
    }
   ],
   "source": [
    "if \"BBQ Sauce\" in extra_options:\n",
    "    print(True)\n",
    "else: print(False)"
   ]
  },
  {
   "cell_type": "code",
   "execution_count": 12,
   "id": "5ff6be19",
   "metadata": {},
   "outputs": [
    {
     "name": "stdout",
     "output_type": "stream",
     "text": [
      "False\n"
     ]
    }
   ],
   "source": [
    "if \"Pineapple\" in extra_options:\n",
    "    print(True)\n",
    "else: print(False)"
   ]
  },
  {
   "cell_type": "markdown",
   "id": "5fe292ee",
   "metadata": {},
   "source": [
    "### 4. If all ingredients are available let the customer know the order is accepted\n",
    "\n",
    "#### First, let's define some dummy variables to act as a customer + their preferences"
   ]
  },
  {
   "cell_type": "code",
   "execution_count": 13,
   "id": "59bbd6b4",
   "metadata": {},
   "outputs": [],
   "source": [
    "name = \"Customer #1\"\n",
    "bread = \"Bagel\"\n",
    "filling = [\"Turkey\", \"Cheddar\"]\n",
    "extras = [\"Mayo\"]"
   ]
  },
  {
   "cell_type": "markdown",
   "id": "7eff86ec",
   "metadata": {},
   "source": [
    "#### Next, check whether the single string value in the 'bread' variable exists in our bread_options"
   ]
  },
  {
   "cell_type": "code",
   "execution_count": 14,
   "id": "f9ac3461",
   "metadata": {},
   "outputs": [
    {
     "name": "stdout",
     "output_type": "stream",
     "text": [
      "True\n"
     ]
    }
   ],
   "source": [
    "if bread in bread_options: print(True) # Note this is how we can search for specific strings in a list\n",
    "else: print(False)"
   ]
  },
  {
   "cell_type": "markdown",
   "id": "42d53998",
   "metadata": {},
   "source": [
    "#### Now let's see if the list of fillings in our 'filling' variable is a subset of our available 'filling_options'"
   ]
  },
  {
   "cell_type": "code",
   "execution_count": 15,
   "id": "24076039",
   "metadata": {},
   "outputs": [
    {
     "data": {
      "text/plain": [
       "True"
      ]
     },
     "execution_count": 15,
     "metadata": {},
     "output_type": "execute_result"
    }
   ],
   "source": [
    "set(filling).issubset(filling_options) # Note this is how we can find whether all items in one set appear in another "
   ]
  },
  {
   "cell_type": "markdown",
   "id": "34ee37e9",
   "metadata": {},
   "source": [
    "#### Lastly, check if the extras requested are on our available 'extra_options'"
   ]
  },
  {
   "cell_type": "code",
   "execution_count": 16,
   "id": "676f51ae",
   "metadata": {},
   "outputs": [
    {
     "data": {
      "text/plain": [
       "True"
      ]
     },
     "execution_count": 16,
     "metadata": {},
     "output_type": "execute_result"
    }
   ],
   "source": [
    "set(extras).issubset(extra_options) # Note this is how we can find whether all items in one set appear in another "
   ]
  },
  {
   "cell_type": "markdown",
   "id": "0394f9b9",
   "metadata": {},
   "source": [
    "#### Combine the above approaches to find whether the bread, fillings, and extras are all available in our ingredients lists"
   ]
  },
  {
   "cell_type": "code",
   "execution_count": 17,
   "id": "926965d1",
   "metadata": {},
   "outputs": [
    {
     "name": "stdout",
     "output_type": "stream",
     "text": [
      "OK Customer #1, your order is accepted.\n"
     ]
    }
   ],
   "source": [
    "# Note the 'and' chaining 'if' statements together. All statements must be True for the 'if' condition to be met.\n",
    "\n",
    "if (bread in bread_options and # Searching for strings\n",
    "    set(filling).issubset(set(filling_options)) and # Searching for list subsets\n",
    "    set(extras).issubset(set(extra_options)) # Searching for list subsets\n",
    "   ):\n",
    "    \n",
    "    print(f\"OK {name}, your order is accepted.\")\n",
    "\n",
    "else: print(False)"
   ]
  },
  {
   "cell_type": "markdown",
   "id": "15eb3a54",
   "metadata": {},
   "source": [
    "###  5. If an ingredient is not available, let the customer know which ingredient(s) are missing"
   ]
  },
  {
   "cell_type": "code",
   "execution_count": 18,
   "id": "f22085d4",
   "metadata": {},
   "outputs": [
    {
     "name": "stdout",
     "output_type": "stream",
     "text": [
      "Sorry, Customer #1, the below ingredients aren't available:\n",
      "{'Pineapple'}\n",
      "{'Sriracha'}\n"
     ]
    }
   ],
   "source": [
    "name = \"Customer #1\"\n",
    "bread = \"Bagel\"\n",
    "filling = [\"Pineapple\", \"Cheddar\"]\n",
    "extras = [\"Mayo\", \"Sriracha\"]\n",
    "\n",
    "if (bread in bread_options and                          #| If our bread, filling, and extras are all available in our\n",
    "    set(filling).issubset(set(filling_options)) and     #| ingredients lists, then this block of code will simply\n",
    "    set(extras).issubset(set(extra_options))):          #| print \"True\".\n",
    "    \n",
    "    print(True)\n",
    "    \n",
    "else: \n",
    "    \n",
    "    print(f\"Sorry, {name}, the below ingredients aren't available:\") #| Otherwise, if something is missing, then we instruct\n",
    "                                                                     #| our code to identify what is missing, and print\n",
    "    if bread not in bread_options: print(bread)                      #| those missing ingredients along with an apology.\n",
    "    \n",
    "    if set(filling).issubset(set(filling_options)) == False:\n",
    "        print(set(filling) - set(filling_options))\n",
    "    \n",
    "    if set(extras).issubset(set(extra_options)) == False:\n",
    "        print(set(extras) - set(extra_options))"
   ]
  },
  {
   "cell_type": "markdown",
   "id": "829e84a7",
   "metadata": {},
   "source": [
    "### 6. Determine whether the right customer is receiving the sandwich \n",
    "\n",
    "<div class=\"alert alert-block alert-info\">\n",
    "<b>Note:</b> A customer has approached asking for the sandwich you've made. Is it the right customer?\n",
    "</div>"
   ]
  },
  {
   "cell_type": "code",
   "execution_count": 19,
   "id": "34a5530f",
   "metadata": {},
   "outputs": [
    {
     "name": "stdout",
     "output_type": "stream",
     "text": [
      "What's your name? Tom\n",
      "Sorry, this order isn't for you.\n"
     ]
    }
   ],
   "source": [
    "receiving_customer = input(\"What's your name? \") # Create a receiving customer\n",
    "\n",
    "if (receiving_customer == name): # Does the receiving customer match the name of the customer we are making a sandwich for?\n",
    "    print(f\"Great! Here's your {bread} with {filling} and extra {extras}\")\n",
    "else: print(\"Sorry, this order isn't for you.\")"
   ]
  },
  {
   "cell_type": "markdown",
   "id": "e01e78ac",
   "metadata": {},
   "source": [
    "## Loops\n",
    "\n",
    "\n",
    "<span style=\"font-size: 15px;\"> Loops are extremely useful concepts in programming languages which allow us to execute a block of code repeatedly until the end of a sequence or until some condition is met. This is significant in helping us automate repetitive tasks, and therefore it is important to familiarise ourselves with how these work.</span>\n",
    "\n",
    "<span style=\"font-size: 15px;\"> There are two types of loops in Python: 'for' and 'while', and two key statements ('break' and 'continue') which can augment their functionality. </span>\n",
    "\n",
    "<span style=\"font-size: 15px;\"> We explore each of these. </span>\n",
    "\n",
    "***\n",
    "\n",
    "#### `for` loop\n",
    "\n",
    "<span style=\"font-size: 15px;\"> The **for loop** is used to iterate over a sequence (such as a list, tuple, dictionary, set, or string) and execute a block of code for each item in the sequence.</span>\n",
    "\n",
    "<div class=\"alert alert-block alert-info\">\n",
    "<b>Note:</b> The below placeholder 'fruit' can be named anything you like, it's just how we refer to the given element within the list we are iterating over. \n",
    "</div>"
   ]
  },
  {
   "cell_type": "code",
   "execution_count": 20,
   "id": "e9848f80",
   "metadata": {},
   "outputs": [
    {
     "name": "stdout",
     "output_type": "stream",
     "text": [
      "apple\n",
      "banana\n",
      "cherry\n"
     ]
    }
   ],
   "source": [
    "fruits = [\"apple\", \"banana\", \"cherry\"]\n",
    "for fruit in fruits:\n",
    "    print(fruit)"
   ]
  },
  {
   "cell_type": "markdown",
   "id": "28dfbdd0",
   "metadata": {},
   "source": [
    "#### `while` loop\n",
    "\n",
    "<span style=\"font-size: 15px;\"> The **while loop** continues to execute a block of code as long as a specified condition is true. </span>"
   ]
  },
  {
   "cell_type": "code",
   "execution_count": 21,
   "id": "8d2fb888",
   "metadata": {},
   "outputs": [
    {
     "name": "stdout",
     "output_type": "stream",
     "text": [
      "0\n",
      "1\n",
      "2\n",
      "3\n",
      "4\n"
     ]
    }
   ],
   "source": [
    "count = 0\n",
    "while count < 5:\n",
    "    print(count)\n",
    "    count += 1"
   ]
  },
  {
   "cell_type": "markdown",
   "id": "30f47de8",
   "metadata": {},
   "source": [
    "#### `break` statement\n",
    "\n",
    "<span style=\"font-size: 15px;\"> The **break statement** terminates a loop and exits out of it. </span>"
   ]
  },
  {
   "cell_type": "code",
   "execution_count": 22,
   "id": "c75a6f26",
   "metadata": {},
   "outputs": [
    {
     "name": "stdout",
     "output_type": "stream",
     "text": [
      "0\n",
      "1\n",
      "2\n",
      "3\n",
      "4\n"
     ]
    }
   ],
   "source": [
    "for number in range(10):\n",
    "    if number == 5:\n",
    "        break\n",
    "    print(number)"
   ]
  },
  {
   "cell_type": "markdown",
   "id": "9db4a0f5",
   "metadata": {},
   "source": [
    "#### `continue` statement\n",
    "\n",
    "<span style=\"font-size: 15px;\"> The **continue statement** skips the rest of the code inside a loop for the current iteration and moves to the next iteration. </span>\n",
    "\n",
    "<div class=\"alert alert-block alert-info\">\n",
    "<b>Note:</b> Below, the number 5 is not printed as the continue statement skipped the rest of the code (i.e. the print statement) when the condition (number == 5) was met.\n",
    "</div>"
   ]
  },
  {
   "cell_type": "code",
   "execution_count": 23,
   "id": "663c85ee",
   "metadata": {},
   "outputs": [
    {
     "name": "stdout",
     "output_type": "stream",
     "text": [
      "0\n",
      "1\n",
      "2\n",
      "3\n",
      "4\n",
      "6\n",
      "7\n",
      "8\n",
      "9\n"
     ]
    }
   ],
   "source": [
    "for number in range(10):\n",
    "    if number == 5:\n",
    "        continue\n",
    "    print(number)"
   ]
  },
  {
   "cell_type": "markdown",
   "id": "27f7a114",
   "metadata": {},
   "source": [
    "### 7. Use a 'for' loop to iterate through customer names in our dataset\n",
    "\n",
    "<div class=\"alert alert-block alert-info\">\n",
    "<b>Tip:</b> The block of code immediately below doesn't print customer names, instead it prints everything about the customer! That's because the `for` loop iterates through a list. In this case, our list contains dictionaries. If we want to retrieve just the names as we iterate through our dictionaries, we need to be more specific.\n",
    "</div>"
   ]
  },
  {
   "cell_type": "code",
   "execution_count": 24,
   "id": "fc7a6982",
   "metadata": {},
   "outputs": [
    {
     "name": "stdout",
     "output_type": "stream",
     "text": [
      "{'queue_number': 1, 'name': 'Alice', 'bread': 'Whole Wheat', 'fillings': ['Turkey', 'Lettuce', 'Tomato'], 'extras': ['Mayo', 'Mustard'], 'allergies': []}\n",
      "{'queue_number': 2, 'name': 'Bob', 'bread': 'Sourdough', 'fillings': ['Ham', 'Cheese'], 'extras': ['Pickles'], 'allergies': ['Pickles']}\n",
      "{'queue_number': 3, 'name': 'Charlie', 'bread': 'Rye', 'fillings': ['Chicken', 'Avocado', 'Spinach'], 'extras': ['Pickles', 'Hummus', 'BBQ Sauce', 'Vinegar', 'Pesto'], 'allergies': ['Hummus']}\n",
      "{'queue_number': 4, 'name': 'Diana', 'bread': 'Ciabatta', 'fillings': ['Roast Beef', 'Cheddar', 'Rocket'], 'extras': ['BBQ Sauce'], 'allergies': []}\n",
      "{'queue_number': 5, 'name': 'Eve', 'bread': 'Gluten-Free', 'fillings': ['Tuna', 'Cucumber', 'Red Onion'], 'extras': ['Olive Oil'], 'allergies': ['Pickles']}\n",
      "{'queue_number': 6, 'name': 'James', 'bread': 'Italian Herb & Cheese', 'fillings': ['Chicken', 'Cheddar', 'Red Onion'], 'extras': ['Olives'], 'allergies': []}\n"
     ]
    }
   ],
   "source": [
    "for person in customers:\n",
    "    print(person)"
   ]
  },
  {
   "cell_type": "code",
   "execution_count": 25,
   "id": "93ce2b9f",
   "metadata": {},
   "outputs": [
    {
     "name": "stdout",
     "output_type": "stream",
     "text": [
      "Alice\n",
      "Bob\n",
      "Charlie\n",
      "Diana\n",
      "Eve\n",
      "James\n"
     ]
    }
   ],
   "source": [
    "for person in customers:\n",
    "    print(person['name'])"
   ]
  },
  {
   "cell_type": "markdown",
   "id": "194314bd",
   "metadata": {},
   "source": [
    "### 8. Use a 'while' loop to cook the sandwich for 10 seconds"
   ]
  },
  {
   "cell_type": "code",
   "execution_count": 26,
   "id": "87293d94",
   "metadata": {},
   "outputs": [
    {
     "name": "stdout",
     "output_type": "stream",
     "text": [
      "1 mississipi .. \n",
      "2 mississipi .. \n",
      "3 mississipi .. \n",
      "4 mississipi .. \n",
      "5 mississipi .. \n",
      "6 mississipi .. \n",
      "7 mississipi .. \n",
      "8 mississipi .. \n",
      "9 mississipi .. \n",
      "10 mississipi .. \n"
     ]
    }
   ],
   "source": [
    "count = 1\n",
    "\n",
    "while count <= 10:\n",
    "    print(f\"{count} mississipi .. \")\n",
    "    count += 1 # This counts up 1 within the 'count' variable after every iteration of the while loop. "
   ]
  },
  {
   "cell_type": "markdown",
   "id": "bc77a8b5",
   "metadata": {},
   "source": [
    "### 9. Use a 'break' statement to prevent making sandwiches with extras which customers are allergic to\n",
    "\n",
    "#### Let's look at Charlie's order"
   ]
  },
  {
   "cell_type": "code",
   "execution_count": 27,
   "id": "848309e1",
   "metadata": {},
   "outputs": [
    {
     "name": "stdout",
     "output_type": "stream",
     "text": [
      "Charlie's extras are: ['Pickles', 'Hummus', 'BBQ Sauce', 'Vinegar', 'Pesto']\n",
      "Charlie's allergies are: ['Hummus']\n"
     ]
    }
   ],
   "source": [
    "customer_charlie = {\n",
    "        \"queue_number\": 3,\n",
    "        \"name\": \"Charlie\",\n",
    "        \"bread\": \"Rye\",\n",
    "        \"fillings\": [\"Chicken\", \"Avocado\", \"Spinach\"],\n",
    "        \"extras\": [\"Pickles\", \"Hummus\", \"BBQ Sauce\", \"Vinegar\", \"Pesto\"],\n",
    "        \"allergies\": [\"Hummus\"]}\n",
    "\n",
    "\n",
    "\n",
    "print(\"Charlie's extras are:\",customer_charlie['extras'])\n",
    "print(\"Charlie's allergies are:\", customer_charlie['allergies'])\n",
    "    \n",
    "   "
   ]
  },
  {
   "cell_type": "markdown",
   "id": "c42ed593",
   "metadata": {},
   "source": [
    "#### Add Charlie's extras but stop when an allergy is encountered"
   ]
  },
  {
   "cell_type": "code",
   "execution_count": 28,
   "id": "41e0190a",
   "metadata": {},
   "outputs": [
    {
     "name": "stdout",
     "output_type": "stream",
     "text": [
      "Adding Pickles\n",
      "Unable to add Hummus due to allergy!\n"
     ]
    }
   ],
   "source": [
    "for extra in customer_charlie['extras']:\n",
    "    if extra == customer_charlie['allergies'][0]:\n",
    "        print(f'Unable to add', extra, \"due to allergy!\")\n",
    "        break\n",
    "    print(f'Adding {extra}')\n",
    "    \n",
    "   "
   ]
  },
  {
   "cell_type": "markdown",
   "id": "2f44e8c3",
   "metadata": {},
   "source": [
    "### 10. Use a 'continue' statement to avoid allergic ingredients but continue making the sandwich\n",
    "\n",
    "<div class=\"alert alert-block alert-info\">\n",
    "<b>Tip:</b> The 'break' statement stops the loop altogether if an allergy is found .. but what about the rest of Charlie's extras? Simply change the 'break' to a continue; we will break the current iteration, but the next iteration will still commence.\n",
    "</div>"
   ]
  },
  {
   "cell_type": "code",
   "execution_count": 34,
   "id": "9c5a545a",
   "metadata": {},
   "outputs": [
    {
     "name": "stdout",
     "output_type": "stream",
     "text": [
      "Adding Pickles\n",
      "Unable to add Hummus due to allergy!\n",
      "Adding BBQ Sauce\n",
      "Adding Vinegar\n",
      "Adding Pesto\n"
     ]
    }
   ],
   "source": [
    "for extra in customer_charlie['extras']:\n",
    "    if extra == customer_charlie['allergies'][0]:\n",
    "        print(f'Unable to add', extra, \"due to allergy!\")\n",
    "        continue\n",
    "    print(f'Adding {extra}')"
   ]
  },
  {
   "cell_type": "markdown",
   "id": "525568fc",
   "metadata": {},
   "source": [
    "## Putting it all together\n",
    "\n",
    "### 11. Build a bot which checks that ingredients are available, accepts/rejects orders, provides feedback on why orders have been rejected, and makes sandwiches which considers customer allergies."
   ]
  },
  {
   "cell_type": "code",
   "execution_count": 38,
   "id": "c3685504",
   "metadata": {},
   "outputs": [
    {
     "name": "stdout",
     "output_type": "stream",
     "text": [
      "OK Alice your order is accepted.\n",
      "Now cookin'!\n",
      "..BzzzzzzZZzzZZz\n",
      "Your bread is Whole Wheat ? got it!\n",
      "And your fillings are ...\n",
      "1 . Turkey\n",
      "2 . Lettuce\n",
      "3 . Tomato\n",
      "You also wanted these extras\n",
      "1 . Mayo\n",
      "2 . Mustard\n",
      "3 . Mayo\n",
      "4 . Mustard\n",
      "Adding Mustard\n",
      "Now cookin'!\n",
      "..BzzzzzzZZzzZZz\n",
      "1 mississipi .. \n",
      "2 mississipi .. \n",
      "3 mississipi .. \n",
      "4 mississipi .. \n",
      "5 mississipi .. \n",
      "6 mississipi .. \n",
      "7 mississipi .. \n",
      "8 mississipi .. \n",
      "9 mississipi .. \n",
      "10 mississipi .. \n",
      "Here's your food Alice\n",
      "-------------------\n",
      "Sorry Bob the below ingredients aren't available:\n",
      "{'Cheese'}\n",
      "-------------------\n",
      "OK Charlie your order is accepted.\n",
      "Now cookin'!\n",
      "..BzzzzzzZZzzZZz\n",
      "Your bread is Rye ? got it!\n",
      "And your fillings are ...\n",
      "1 . Chicken\n",
      "2 . Avocado\n",
      "3 . Spinach\n",
      "You also wanted these extras\n",
      "1 . Pickles\n",
      "2 . Hummus\n",
      "3 . BBQ Sauce\n",
      "4 . Vinegar\n",
      "5 . Pesto\n",
      "6 . Pickles\n",
      "7 . Hummus\n",
      "8 . BBQ Sauce\n",
      "9 . Vinegar\n",
      "10 . Pesto\n",
      "11 . Pickles\n",
      "12 . Hummus\n",
      "13 . BBQ Sauce\n",
      "14 . Vinegar\n",
      "15 . Pesto\n",
      "16 . Pickles\n",
      "17 . Hummus\n",
      "18 . BBQ Sauce\n",
      "19 . Vinegar\n",
      "20 . Pesto\n",
      "21 . Pickles\n",
      "22 . Hummus\n",
      "23 . BBQ Sauce\n",
      "24 . Vinegar\n",
      "25 . Pesto\n",
      "Adding Pesto\n",
      "Now cookin'!\n",
      "..BzzzzzzZZzzZZz\n",
      "1 mississipi .. \n",
      "2 mississipi .. \n",
      "3 mississipi .. \n",
      "4 mississipi .. \n",
      "5 mississipi .. \n",
      "6 mississipi .. \n",
      "7 mississipi .. \n",
      "8 mississipi .. \n",
      "9 mississipi .. \n",
      "10 mississipi .. \n",
      "Here's your food Charlie\n",
      "-------------------\n",
      "Sorry Diana the below ingredients aren't available:\n",
      "{'Rocket'}\n",
      "-------------------\n",
      "OK Eve your order is accepted.\n",
      "Now cookin'!\n",
      "..BzzzzzzZZzzZZz\n",
      "Your bread is Gluten-Free ? got it!\n",
      "And your fillings are ...\n",
      "1 . Tuna\n",
      "2 . Cucumber\n",
      "3 . Red Onion\n",
      "You also wanted these extras\n",
      "1 . Olive Oil\n",
      "Adding Olive Oil\n",
      "Now cookin'!\n",
      "..BzzzzzzZZzzZZz\n",
      "1 mississipi .. \n",
      "2 mississipi .. \n",
      "3 mississipi .. \n",
      "4 mississipi .. \n",
      "5 mississipi .. \n",
      "6 mississipi .. \n",
      "7 mississipi .. \n",
      "8 mississipi .. \n",
      "9 mississipi .. \n",
      "10 mississipi .. \n",
      "Here's your food Eve\n",
      "-------------------\n",
      "Sorry James the below ingredients aren't available:\n",
      "Bagel\n",
      "{'Olives'}\n",
      "-------------------\n"
     ]
    }
   ],
   "source": [
    "for customer in customers:\n",
    "    \n",
    "    count = 1\n",
    "\n",
    "    if (customer['bread'] in bread_options and                         \n",
    "                 set(customer['fillings']).issubset(set(filling_options)) and    \n",
    "                 set(customer['extras']).issubset(set(extra_options))): # Do we have all of our ingredients?\n",
    "                 \n",
    "                 print(\"OK\",customer['name'], \"your order is accepted.\") \n",
    "                \n",
    "                \n",
    "                 print(\"Now cookin'!\")\n",
    "                 print(\"..BzzzzzzZZzzZZz\")\n",
    "                \n",
    "                 print(\"Your bread is\", customer['bread'], \"? got it!\")\n",
    "                 print(\"And your fillings are ...\")\n",
    "                 for x in customer['fillings']:\n",
    "                        print(count,\".\",x)\n",
    "                        count +=1\n",
    "                        \n",
    "                 print(\"You also wanted these extras\")\n",
    "                 \n",
    "                 count = 1\n",
    "                \n",
    "                 for extra in customer['extras']:\n",
    "                        for x in (customer['extras']):\n",
    "                            print(count,\".\",x)\n",
    "                            count += 1\n",
    "                            \n",
    "                 if len(customer['allergies']) > 0:\n",
    "                    if extra == customer['allergies'][0]:\n",
    "                        print(f'Unable to add {extra} due to allergy!')\n",
    "                 print(f'Adding {extra}')\n",
    "                \n",
    "                 print(\"Now cookin'!\")\n",
    "                 print(\"..BzzzzzzZZzzZZz\")\n",
    "                \n",
    "                 count = 1\n",
    "                 while count <= 10:\n",
    "                    print(f\"{count} mississipi .. \")\n",
    "                    count +=1\n",
    "                 print(\"Here's your food\", customer['name'])\n",
    "                 \n",
    "                 \n",
    "    else: \n",
    "        print(\"Sorry\",customer['name'], \"the below ingredients aren't available:\") \n",
    "        \n",
    "        if customer['bread'] not in bread_options:  # If not, explain what's missing.\n",
    "            print(bread)\n",
    "        if set(customer['fillings']).issubset(set(filling_options)) == False:\n",
    "            print(set(customer['fillings']) - set(filling_options))\n",
    "        if set(customer['extras']).issubset(set(extra_options)) == False:\n",
    "            print(set(customer['extras']) - set(extra_options))\n",
    "    print(\"-------------------\")"
   ]
  },
  {
   "cell_type": "code",
   "execution_count": null,
   "id": "fa0bcd49",
   "metadata": {},
   "outputs": [],
   "source": []
  }
 ],
 "metadata": {
  "kernelspec": {
   "display_name": "Python 3 (ipykernel)",
   "language": "python",
   "name": "python3"
  },
  "language_info": {
   "codemirror_mode": {
    "name": "ipython",
    "version": 3
   },
   "file_extension": ".py",
   "mimetype": "text/x-python",
   "name": "python",
   "nbconvert_exporter": "python",
   "pygments_lexer": "ipython3",
   "version": "3.9.7"
  }
 },
 "nbformat": 4,
 "nbformat_minor": 5
}
