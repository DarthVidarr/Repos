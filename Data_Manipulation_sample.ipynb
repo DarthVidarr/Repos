{
  "nbformat": 4,
  "nbformat_minor": 0,
  "metadata": {
    "colab": {
      "name": "Data Manipulation sample.ipynb",
      "provenance": [],
      "collapsed_sections": [],
      "toc_visible": true
    },
    "kernelspec": {
      "display_name": "Python 3",
      "language": "python",
      "name": "python3"
    },
    "language_info": {
      "codemirror_mode": {
        "name": "ipython",
        "version": 3
      },
      "file_extension": ".py",
      "mimetype": "text/x-python",
      "name": "python",
      "nbconvert_exporter": "python",
      "pygments_lexer": "ipython3",
      "version": "3.7.3"
    },
    "name": "SampleCode",
    "notebookId": 2691131752868967
  },
  "cells": [
    {
      "cell_type": "markdown",
      "metadata": {
        "id": "1X7L24t43CoU"
      },
      "source": [
        "# Part I - Web Log Data\n",
        "\n",
        "## Overview\n",
        "\n",
        "Analyse weblogs for a fictional hotel. Analysis is required to prepare a set of documentation for the hotel to allow them to understand the data being dealt with. Source codes is to explore the weblog, and afterwards the information is presented visually.\n",
        "\n",
        "In this part, you are required to use give dataset to finish some required analysis, with the exploreation data analytics skills as well as visuilization skill."
      ]
    },
    {
      "cell_type": "markdown",
      "metadata": {
        "id": "r85LNibZkSUZ"
      },
      "source": [
        "\n",
        "\n",
        "## 1.  Data ETL"
      ]
    },
    {
      "cell_type": "markdown",
      "metadata": {
        "id": "HtL_9QR27_Iu"
      },
      "source": [
        "### 1.1 Data Loading"
      ]
    },
    {
      "cell_type": "code",
      "metadata": {
        "id": "19EhpLspkSUZ"
      },
      "source": [
        "import matplotlib.pyplot as plt\n",
        "import numpy as np\n",
        "import pandas as pd\n",
        "import time\n",
        "import datetime\n",
        "from scipy import stats\n",
        "import matplotlib\n"
      ],
      "execution_count": null,
      "outputs": []
    },
    {
      "cell_type": "markdown",
      "metadata": {
        "id": "jY2Br4cBN956"
      },
      "source": [
        " <div class=\"alert alert-block alert-info\">\n",
        "\n",
        "**Code**: \n",
        "    You are required to load Hotel TULIP data into dataframe df_ht and check how many files are loaded.\n",
        "    <br>\n",
        "    *Keep the outputs for code in your notebook.\n",
        "</div>\n",
        "\n"
      ]
    },
    {
      "cell_type": "code",
      "metadata": {
        "id": "IIB_xH-hOqEj",
        "colab": {
          "base_uri": "https://localhost:8080/"
        },
        "outputId": "83e37095-a317-4234-cd5b-3bb51bf7b3fc"
      },
      "source": [
        "# Your code\n",
        "\n",
        "from google.colab import drive\n",
        "drive.mount('/content/drive')\n",
        "\n",
        "from zipfile import ZipFile\n",
        "all_files = ZipFile('/content/drive/MyDrive/HTWebLog_p1.zip','r')\n",
        "\n",
        "file_names = all_files.namelist()\n",
        "\n",
        "file_counts = 0\n",
        "\n",
        "for name in file_names: \n",
        "  if name.endswith('.log'):\n",
        "     file_counts += 1\n",
        "\n",
        "print(file_counts)\n",
        "\n",
        "ColumnNames=['date','time','s-sitename','s-ip','cs-method','cs-uri-stem','cs-uri-query','s-port','cs-username',\n",
        "             'c-ip','cs(User-Agent)','cs(Referer)','sc-status','sc-substatus','sc-win32-status']\n",
        "\n",
        "def query_zip(name_of_file):\n",
        "  zip_data = pd.read_csv(all_files.open(name_of_file), encoding = 'iso-8859-1', comment = '#', sep = \" \", names = ColumnNames)\n",
        "  return zip_data\n",
        "\n",
        "all_data = [query_zip(name) for name in file_names]\n",
        "df_ht = pd.concat(all_data)"
      ],
      "execution_count": null,
      "outputs": [
        {
          "output_type": "stream",
          "text": [
            "Mounted at /content/drive\n",
            "120\n"
          ],
          "name": "stdout"
        }
      ]
    },
    {
      "cell_type": "markdown",
      "metadata": {
        "id": "Dyt9lwm_QKFV"
      },
      "source": [
        " <div class=\"alert alert-block alert-info\">\n",
        "\n",
        "**Code**: \n",
        "    Check the data statistics and general information by printing its top 5 rows.\n",
        "    <br>\n",
        "    *Keep the outputs for code in your notebook.\n",
        "</div>\n",
        "\n",
        "<div class=\"alert alert-block alert-warning\">\n",
        "    \n",
        "**Report**: \n",
        "    **Part I 1.1** Please include your result for this coding task into your SIT742-DataDictionary.xlsx, then add to your report - Part I with proper section title '1.1.1' and '1.1.2'.\n",
        "</div>\n",
        "    </div>\n"
      ]
    },
    {
      "cell_type": "code",
      "metadata": {
        "id": "1h7LqSGgQRUb",
        "colab": {
          "base_uri": "https://localhost:8080/",
          "height": 734
        },
        "outputId": "d390ce42-4ace-42c8-d75d-e0b5bc5da870"
      },
      "source": [
        "print(df_ht.info())\n",
        "df_ht.head()"
      ],
      "execution_count": null,
      "outputs": [
        {
          "output_type": "stream",
          "text": [
            "<class 'pandas.core.frame.DataFrame'>\n",
            "Int64Index: 8438930 entries, 0 to 63745\n",
            "Data columns (total 15 columns):\n",
            " #   Column           Dtype  \n",
            "---  ------           -----  \n",
            " 0   date             object \n",
            " 1   time             object \n",
            " 2   s-sitename       object \n",
            " 3   s-ip             object \n",
            " 4   cs-method        object \n",
            " 5   cs-uri-stem      object \n",
            " 6   cs-uri-query     object \n",
            " 7   s-port           float64\n",
            " 8   cs-username      object \n",
            " 9   c-ip             object \n",
            " 10  cs(User-Agent)   object \n",
            " 11  cs(Referer)      object \n",
            " 12  sc-status        float64\n",
            " 13  sc-substatus     float64\n",
            " 14  sc-win32-status  float64\n",
            "dtypes: float64(4), object(11)\n",
            "memory usage: 1.0+ GB\n",
            "None\n"
          ],
          "name": "stdout"
        },
        {
          "output_type": "execute_result",
          "data": {
            "text/html": [
              "<div>\n",
              "<style scoped>\n",
              "    .dataframe tbody tr th:only-of-type {\n",
              "        vertical-align: middle;\n",
              "    }\n",
              "\n",
              "    .dataframe tbody tr th {\n",
              "        vertical-align: top;\n",
              "    }\n",
              "\n",
              "    .dataframe thead th {\n",
              "        text-align: right;\n",
              "    }\n",
              "</style>\n",
              "<table border=\"1\" class=\"dataframe\">\n",
              "  <thead>\n",
              "    <tr style=\"text-align: right;\">\n",
              "      <th></th>\n",
              "      <th>date</th>\n",
              "      <th>time</th>\n",
              "      <th>s-sitename</th>\n",
              "      <th>s-ip</th>\n",
              "      <th>cs-method</th>\n",
              "      <th>cs-uri-stem</th>\n",
              "      <th>cs-uri-query</th>\n",
              "      <th>s-port</th>\n",
              "      <th>cs-username</th>\n",
              "      <th>c-ip</th>\n",
              "      <th>cs(User-Agent)</th>\n",
              "      <th>cs(Referer)</th>\n",
              "      <th>sc-status</th>\n",
              "      <th>sc-substatus</th>\n",
              "      <th>sc-win32-status</th>\n",
              "    </tr>\n",
              "  </thead>\n",
              "  <tbody>\n",
              "    <tr>\n",
              "      <th>0</th>\n",
              "      <td>2006-11-01</td>\n",
              "      <td>00:00:08</td>\n",
              "      <td>W3SVC1</td>\n",
              "      <td>127.0.0.1</td>\n",
              "      <td>GET</td>\n",
              "      <td>/Default.aspx</td>\n",
              "      <td>-</td>\n",
              "      <td>80.0</td>\n",
              "      <td>-</td>\n",
              "      <td>70.80.84.76</td>\n",
              "      <td>Mozilla/4.0+(compatible;+MSIE+6.0;+Windows+NT+...</td>\n",
              "      <td>http://www.google.com/search?sourceid=navclien...</td>\n",
              "      <td>200.0</td>\n",
              "      <td>0.0</td>\n",
              "      <td>0.0</td>\n",
              "    </tr>\n",
              "    <tr>\n",
              "      <th>1</th>\n",
              "      <td>2006-11-01</td>\n",
              "      <td>00:00:08</td>\n",
              "      <td>W3SVC1</td>\n",
              "      <td>127.0.0.1</td>\n",
              "      <td>GET</td>\n",
              "      <td>/Tulip/home/en-us/home_index.aspx</td>\n",
              "      <td>-</td>\n",
              "      <td>80.0</td>\n",
              "      <td>-</td>\n",
              "      <td>70.80.84.76</td>\n",
              "      <td>Mozilla/4.0+(compatible;+MSIE+6.0;+Windows+NT+...</td>\n",
              "      <td>-</td>\n",
              "      <td>200.0</td>\n",
              "      <td>0.0</td>\n",
              "      <td>0.0</td>\n",
              "    </tr>\n",
              "    <tr>\n",
              "      <th>2</th>\n",
              "      <td>2006-11-01</td>\n",
              "      <td>00:00:08</td>\n",
              "      <td>W3SVC1</td>\n",
              "      <td>127.0.0.1</td>\n",
              "      <td>GET</td>\n",
              "      <td>/Tulip/includes/js/CommonUtil.js</td>\n",
              "      <td>-</td>\n",
              "      <td>80.0</td>\n",
              "      <td>-</td>\n",
              "      <td>70.80.84.76</td>\n",
              "      <td>Mozilla/4.0+(compatible;+MSIE+6.0;+Windows+NT+...</td>\n",
              "      <td>http://www.hotelTulip.com.hk/Tulip/home/en-us/...</td>\n",
              "      <td>200.0</td>\n",
              "      <td>0.0</td>\n",
              "      <td>0.0</td>\n",
              "    </tr>\n",
              "    <tr>\n",
              "      <th>3</th>\n",
              "      <td>2006-11-01</td>\n",
              "      <td>00:00:09</td>\n",
              "      <td>W3SVC1</td>\n",
              "      <td>127.0.0.1</td>\n",
              "      <td>GET</td>\n",
              "      <td>/Tulip/common/common_style.aspx</td>\n",
              "      <td>lang=en-us</td>\n",
              "      <td>80.0</td>\n",
              "      <td>-</td>\n",
              "      <td>70.80.84.76</td>\n",
              "      <td>Mozilla/4.0+(compatible;+MSIE+6.0;+Windows+NT+...</td>\n",
              "      <td>http://www.hotelTulip.com.hk/Tulip/home/en-us/...</td>\n",
              "      <td>200.0</td>\n",
              "      <td>0.0</td>\n",
              "      <td>0.0</td>\n",
              "    </tr>\n",
              "    <tr>\n",
              "      <th>4</th>\n",
              "      <td>2006-11-01</td>\n",
              "      <td>00:00:09</td>\n",
              "      <td>W3SVC1</td>\n",
              "      <td>127.0.0.1</td>\n",
              "      <td>GET</td>\n",
              "      <td>/Tulip/common/en-us/images/top_img.jpg</td>\n",
              "      <td>-</td>\n",
              "      <td>80.0</td>\n",
              "      <td>-</td>\n",
              "      <td>70.80.84.76</td>\n",
              "      <td>Mozilla/4.0+(compatible;+MSIE+6.0;+Windows+NT+...</td>\n",
              "      <td>http://www.hotelTulip.com.hk/Tulip/home/en-us/...</td>\n",
              "      <td>200.0</td>\n",
              "      <td>0.0</td>\n",
              "      <td>0.0</td>\n",
              "    </tr>\n",
              "  </tbody>\n",
              "</table>\n",
              "</div>"
            ],
            "text/plain": [
              "         date      time s-sitename  ... sc-status sc-substatus sc-win32-status\n",
              "0  2006-11-01  00:00:08     W3SVC1  ...     200.0          0.0             0.0\n",
              "1  2006-11-01  00:00:08     W3SVC1  ...     200.0          0.0             0.0\n",
              "2  2006-11-01  00:00:08     W3SVC1  ...     200.0          0.0             0.0\n",
              "3  2006-11-01  00:00:09     W3SVC1  ...     200.0          0.0             0.0\n",
              "4  2006-11-01  00:00:09     W3SVC1  ...     200.0          0.0             0.0\n",
              "\n",
              "[5 rows x 15 columns]"
            ]
          },
          "metadata": {
            "tags": []
          },
          "execution_count": 3
        }
      ]
    },
    {
      "cell_type": "markdown",
      "metadata": {
        "id": "jDUDzs7lkSUa"
      },
      "source": [
        "### 1.2 Data Cleaning"
      ]
    },
    {
      "cell_type": "markdown",
      "metadata": {
        "id": "En0WOURqp7dB"
      },
      "source": [
        "#### Remove all NAs from data"
      ]
    },
    {
      "cell_type": "markdown",
      "metadata": {
        "id": "Efxzawa7Xdv9"
      },
      "source": [
        "\n",
        "<div class=\"alert alert-block alert-warning\">\n",
        "\n",
        "**Code**: \n",
        "    1. Check which columns have NAs, <br>\n",
        "    2. For each of those columns, display the number of NA records, <br> \n",
        "    3. Remove all records with any NAs.\n",
        "    <br>\n",
        "    *Keep the outputs for code in your notebook.\n",
        "</div> \n",
        "\n",
        "<div class=\"alert alert-block alert-warning\">\n",
        "    \n",
        "**Report**: \n",
        "    **Part I 1.2** Please include your result for this coding task into your report Part I, with proper section title '1.2'.\n",
        "</div>\n",
        "    </div>\n"
      ]
    },
    {
      "cell_type": "code",
      "metadata": {
        "id": "GX3BeD361pTw",
        "colab": {
          "base_uri": "https://localhost:8080/"
        },
        "outputId": "813dfdba-ae97-4414-b452-32a44dca5aa0"
      },
      "source": [
        "#1. Check which columns have NAs\n",
        "#    Assumption: I am converting \"-\" to NA for cs-uri-query, but deliberately not converting\n",
        "#    'cs-username' to NA when value is \"-\" as the hyphen represents a value; anonymous user.\n",
        "df_ht['cs-uri-query'] = df_ht['cs-uri-query'].replace(\"-\", np.NaN)\n",
        "print(df_ht.isna().sum())\n",
        "\n",
        "#2. Remove all records with any NAs\n",
        "#    Count the number of rows before removal NAs\n",
        "len(df_ht)\n",
        "#    As 'cs-uri-query column has > 15% NAs I have deleted the column.\n",
        "del df_ht['cs-uri-query']\n",
        "df_ht = df_ht.dropna()\n",
        "len(df_ht)"
      ],
      "execution_count": null,
      "outputs": [
        {
          "output_type": "stream",
          "text": [
            "date                     2\n",
            "time                     2\n",
            "s-sitename               2\n",
            "s-ip                     2\n",
            "cs-method                2\n",
            "cs-uri-stem              2\n",
            "cs-uri-query       7886534\n",
            "s-port                   2\n",
            "cs-username              2\n",
            "c-ip                     2\n",
            "cs(User-Agent)           2\n",
            "cs(Referer)            751\n",
            "sc-status              758\n",
            "sc-substatus           758\n",
            "sc-win32-status        758\n",
            "dtype: int64\n"
          ],
          "name": "stdout"
        },
        {
          "output_type": "execute_result",
          "data": {
            "text/plain": [
              "8438172"
            ]
          },
          "metadata": {
            "tags": []
          },
          "execution_count": 4
        }
      ]
    },
    {
      "cell_type": "markdown",
      "metadata": {
        "id": "mq3sWOXtrZhF"
      },
      "source": [
        "## 2. Data Statistics Description"
      ]
    },
    {
      "cell_type": "markdown",
      "metadata": {
        "id": "BJuh1nsirmOy"
      },
      "source": [
        "### 2.1 Traffic Analysis"
      ]
    },
    {
      "cell_type": "markdown",
      "metadata": {
        "id": "vzey2OZygD8u"
      },
      "source": [
        "\n",
        "<div class=\"alert alert-block alert-warning\">\n",
        "\n",
        "**Code**: \n",
        "    Discover on the traffics by analysing hourly requests, then plot it into Bar Chart.\n",
        "    <br>\n",
        "    *Keep the outputs for code in your notebook.\n",
        "</div> \n",
        "\n",
        "<div class=\"alert alert-block alert-warning\">\n",
        "    \n",
        "**Report**: \n",
        "    **Part I 2.1.A** Please include your result for this coding task into your report Part I, with proper section title '2.1.A'.\n",
        "</div>\n",
        "    </div>\n"
      ]
    },
    {
      "cell_type": "markdown",
      "metadata": {
        "id": "EpEeaqZtxIZg"
      },
      "source": [
        "#### By day and plot \n",
        "\n"
      ]
    },
    {
      "cell_type": "code",
      "metadata": {
        "id": "DAH1IrWbfQQW",
        "colab": {
          "base_uri": "https://localhost:8080/",
          "height": 350
        },
        "outputId": "ee791d72-7d3e-498a-e12f-691895a54140"
      },
      "source": [
        "# Create a bar chart of the number of server requests by hour of the day\n",
        "#Filter date range, as per FAQ's\n",
        "df2_1 = df_ht[(df_ht['date'] >= '2006-11-01') & (df_ht['date'] <= '2007-02-28')]\n",
        "\n",
        "#Separate df2_1 into hourly groups in the 'data' list.\n",
        "axis = ['00', '01', '02', '03', '04', '05', '06', '07', '08', '09', '10', '11', '12', '13', '14', '15', '16', '17', '18', '19', '20', '21', '22', '23']\n",
        "hours_count = df2_1['time'].str[:2].value_counts().rename_axis('hours').reset_index(name='counts')\n",
        "\n",
        "#Sorting out the order of the X axis so that we have an intuitive chart\n",
        "mapping = {hour: h for h, hour in enumerate(axis)}\n",
        "key = hours_count['hours'].map(mapping)\n",
        "hours_count = hours_count.iloc[key.argsort()]\n",
        "\n",
        "#Plot\n",
        "plt.figure(figsize = (20,5))\n",
        "plt.bar(hours_count['hours'],hours_count['counts'], color=(0.2, 0.4, 0.6, 0.6), width=0.5)\n",
        "plt.title(\"Requests per Hour\")\n",
        "plt.xlabel(\"Time Value\")\n",
        "plt.ylabel(\"Count of requests\")\n",
        "plt.show()"
      ],
      "execution_count": null,
      "outputs": [
        {
          "output_type": "display_data",
          "data": {
            "image/png": "[encoded data removed]",
            "text/plain": [
              "<Figure size 1440x360 with 1 Axes>"
            ]
          },
          "metadata": {
            "tags": [],
            "needs_background": "light"
          }
        }
      ]
    },
    {
      "cell_type": "markdown",
      "metadata": {
        "id": "aFEJDPvEy8ZR"
      },
      "source": [
        "\n",
        "<div class=\"alert alert-block alert-warning\">\n",
        "\n",
        "**Code**: \n",
        "    You are required to filter the hourly requests by removing any below 490,000 and above 400,000. (hourly_request_amount >= 400000 & hourly_request_amount <= 490000)    \n",
        "    <br>\n",
        "    *Keep the outputs for code in your notebook.\n",
        "</div> \n",
        "\n",
        "<div class=\"alert alert-block alert-warning\">\n",
        "    \n",
        "**Report**: \n",
        "    **Part I 2.1.B** Please include your result for this coding task into your report, with proper section title '2.1.B'.\n",
        "</div>\n",
        "    </div>\n"
      ]
    },
    {
      "cell_type": "code",
      "metadata": {
        "id": "TLArAkrH0rig",
        "colab": {
          "base_uri": "https://localhost:8080/",
          "height": 204
        },
        "outputId": "2cee8651-04a9-4ded-9e38-5f4ef29d0571"
      },
      "source": [
        "#Your code\n",
        "\n",
        "hours_count[hours_count['counts'].between(400000,490000)]\n"
      ],
      "execution_count": null,
      "outputs": [
        {
          "output_type": "execute_result",
          "data": {
            "text/html": [
              "<div>\n",
              "<style scoped>\n",
              "    .dataframe tbody tr th:only-of-type {\n",
              "        vertical-align: middle;\n",
              "    }\n",
              "\n",
              "    .dataframe tbody tr th {\n",
              "        vertical-align: top;\n",
              "    }\n",
              "\n",
              "    .dataframe thead th {\n",
              "        text-align: right;\n",
              "    }\n",
              "</style>\n",
              "<table border=\"1\" class=\"dataframe\">\n",
              "  <thead>\n",
              "    <tr style=\"text-align: right;\">\n",
              "      <th></th>\n",
              "      <th>hours</th>\n",
              "      <th>counts</th>\n",
              "    </tr>\n",
              "  </thead>\n",
              "  <tbody>\n",
              "    <tr>\n",
              "      <th>11</th>\n",
              "      <td>02</td>\n",
              "      <td>432357</td>\n",
              "    </tr>\n",
              "    <tr>\n",
              "      <th>7</th>\n",
              "      <td>05</td>\n",
              "      <td>487406</td>\n",
              "    </tr>\n",
              "    <tr>\n",
              "      <th>9</th>\n",
              "      <td>10</td>\n",
              "      <td>443515</td>\n",
              "    </tr>\n",
              "    <tr>\n",
              "      <th>10</th>\n",
              "      <td>13</td>\n",
              "      <td>442644</td>\n",
              "    </tr>\n",
              "    <tr>\n",
              "      <th>8</th>\n",
              "      <td>15</td>\n",
              "      <td>473162</td>\n",
              "    </tr>\n",
              "  </tbody>\n",
              "</table>\n",
              "</div>"
            ],
            "text/plain": [
              "   hours  counts\n",
              "11    02  432357\n",
              "7     05  487406\n",
              "9     10  443515\n",
              "10    13  442644\n",
              "8     15  473162"
            ]
          },
          "metadata": {
            "tags": []
          },
          "execution_count": 6
        }
      ]
    },
    {
      "cell_type": "markdown",
      "metadata": {
        "id": "xwKZ2IAr9IR_"
      },
      "source": [
        "### 2.2 Server Analysis"
      ]
    },
    {
      "cell_type": "markdown",
      "metadata": {
        "id": "n2sojLZStPBh"
      },
      "source": [
        "<div class=\"alert alert-block alert-warning\">\n",
        "\n",
        "**Code**: \n",
        "    Discover on the server status using 'sc-status' from DataFrame, then plot it into Pie Chart. <br>\n",
        "    *Keep the outputs for code in your notebook.\n",
        "</div> \n",
        "\n",
        "<div class=\"alert alert-block alert-warning\">\n",
        "    \n",
        "**Report**: \n",
        "    **Part I 2.2** Please include your results for this coding task into your report Part I section '2.2', <br>\n",
        "    1. How many types of status reported? <br>\n",
        "    2. Figure 'Server Status' in pie chart. <br>\n",
        "</div>"
      ]
    },
    {
      "cell_type": "markdown",
      "metadata": {
        "id": "jOy7bisdx6iB"
      },
      "source": [
        "#### Server Status"
      ]
    },
    {
      "cell_type": "code",
      "metadata": {
        "id": "9nVWlMSXrHQg",
        "colab": {
          "base_uri": "https://localhost:8080/",
          "height": 298
        },
        "outputId": "0701d9bf-d65c-4390-fa7f-a0110d5a1674"
      },
      "source": [
        "#How many types of status reported?\n",
        "print(len(df_ht['sc-status'].unique()))\n",
        "unique_sc_status = list(df_ht['sc-status'].unique())\n",
        "\n",
        "sc_status_count = df_ht['sc-status'].value_counts().rename_axis('sc_status_code').reset_index(name='counts')\n",
        "explode = [0.1, 0.1, 0.1, 0.1, 0.1, 0.1, 0.1, 0.1, 0.1, 0.1, 0.1, 0.1, ]\n",
        "\n",
        "def remove_autopct(percentage):\n",
        "    return ('%1.2f%%' % percentage) if percentage > 10 else ''\n",
        "\n",
        "#Figure 'Server Status' in pie chart\n",
        "plt.pie(sc_status_count['counts'], shadow=True, explode = explode, autopct=remove_autopct, startangle=90)\n",
        "plt.title(\"Server Status\")\n",
        "plt.legend(labels=sc_status_count['sc_status_code'], bbox_to_anchor=(1,1), loc=\"upper left\")\n",
        "plt.show()\n",
        "\n",
        "print(\"The number of types of statuses reported are:\", len(sc_status_count['sc_status_code']))"
      ],
      "execution_count": null,
      "outputs": [
        {
          "output_type": "stream",
          "text": [
            "12\n"
          ],
          "name": "stdout"
        },
        {
          "output_type": "display_data",
          "data": {
            "image/png": "[encoded data removed]",
            "text/plain": [
              "<Figure size 432x288 with 1 Axes>"
            ]
          },
          "metadata": {
            "tags": []
          }
        },
        {
          "output_type": "stream",
          "text": [
            "The number of types of statuses reported are: 12\n"
          ],
          "name": "stdout"
        }
      ]
    },
    {
      "cell_type": "markdown",
      "metadata": {
        "id": "bxT49TgGpwrw"
      },
      "source": [
        "### 2.3 Geographic Analysis"
      ]
    },
    {
      "cell_type": "markdown",
      "metadata": {
        "id": "MpEve4Zgvtc9"
      },
      "source": [
        "Clinet's IP addresses can reflect geographic information. Since different IP are from different countries even citys, we can find out the demographics information from them. You may use **DbIpCity** from **ip2geotools** to find the geolocation information from given IPs.\n",
        "\n",
        "**Notes:**\n",
        "There are some attributes in ip2geotools can help: <br>\n",
        "*ip_address*: IP address <br>\n",
        "*city*: city where IP address is located <br>\n",
        "*region*: region where IP address is located <br>\n",
        "*country*: country where IP address is located (two letters country code) <br>"
      ]
    },
    {
      "cell_type": "markdown",
      "metadata": {
        "id": "AvUQUKGCqLhJ"
      },
      "source": [
        "#### 2.3.A Requests by Country\n",
        "<div class=\"alert alert-block alert-warning\">\n",
        "\n",
        "**Code**: \n",
        "    Build your code with the following requirements <br>\n",
        "    1. Select all requests at 01 Jan 2007 from 20:00:00 pm to 20:59:59. <br>\n",
        "    2. Discover on the demographics by analysing requests from country level. <br>\n",
        "    3. Plot countries of all requests in pie chart. <br>\n",
        "    4. List top 3 with the numbers of requests. <br>\n",
        "    *Keep the outputs for code in your notebook.\n",
        "</div> \n",
        "\n",
        "<div class=\"alert alert-block alert-warning\">\n",
        "    \n",
        "**Report**: \n",
        "    **Part I 2.3.A** Please include your results for this coding task into your report Part I section '2.3.A', <br>\n",
        "    1. How many requests raised in the period of time? <br>\n",
        "    2. How many countries are invlolved? <br>\n",
        "    3. Figure 'Request by Country' in pie chart. <br>\n",
        "    4. top 3 countries with request numbers. <br>\n",
        "</div>"
      ]
    },
    {
      "cell_type": "code",
      "metadata": {
        "id": "g1UvjRlOVjy0",
        "colab": {
          "base_uri": "https://localhost:8080/",
          "height": 1000
        },
        "outputId": "f30023f3-f60c-47ef-ea27-57e4a4a77151"
      },
      "source": [
        "!pip install ip2geotools"
      ],
      "execution_count": null,
      "outputs": [
        {
          "output_type": "stream",
          "text": [
            "Collecting ip2geotools\n",
            "  Downloading https://files.pythonhosted.org/packages/54/7d/b7e3252625443b5900feb009eb70527c65c2e5948b0eb7d0ffc063833441/ip2geotools-0.1.5-py3-none-any.whl\n",
            "Requirement already satisfied: bleach>=3.0.2 in /usr/local/lib/python3.7/dist-packages (from ip2geotools) (3.3.0)\n",
            "Requirement already satisfied: six>=1.11.0 in /usr/local/lib/python3.7/dist-packages (from ip2geotools) (1.15.0)\n",
            "Requirement already satisfied: chardet>=3.0.4 in /usr/local/lib/python3.7/dist-packages (from ip2geotools) (3.0.4)\n",
            "Requirement already satisfied: docutils>=0.14 in /usr/local/lib/python3.7/dist-packages (from ip2geotools) (0.17)\n",
            "Collecting pyquery>=1.4.0\n",
            "  Downloading https://files.pythonhosted.org/packages/58/0b/85d15e21f660a8ea68b1e0286168938857391f4ec9f6d204d91c9e013826/pyquery-1.4.3-py3-none-any.whl\n",
            "Collecting cssselect>=1.0.3\n",
            "  Downloading https://files.pythonhosted.org/packages/3b/d4/3b5c17f00cce85b9a1e6f91096e1cc8e8ede2e1be8e96b87ce1ed09e92c5/cssselect-1.1.0-py2.py3-none-any.whl\n",
            "Collecting maxminddb>=1.4.1\n",
            "\u001b[?25l  Downloading https://files.pythonhosted.org/packages/51/90/e1718dc14b9ecc7e1ef627f577d92d644a4acebcb4d97f6a6918e12591ba/maxminddb-2.0.3.tar.gz (286kB)\n",
            "\u001b[K     |████████████████████████████████| 286kB 6.6MB/s \n",
            "\u001b[?25hRequirement already satisfied: wrapt>=1.10.11 in /usr/local/lib/python3.7/dist-packages (from ip2geotools) (1.12.1)\n",
            "Collecting typed-ast>=1.1.0\n",
            "\u001b[?25l  Downloading https://files.pythonhosted.org/packages/65/b3/573d2f1fecbbe8f82a8d08172e938c247f99abe1be3bef3da2efaa3810bf/typed_ast-1.4.3-cp37-cp37m-manylinux1_x86_64.whl (743kB)\n",
            "\u001b[K     |████████████████████████████████| 747kB 8.6MB/s \n",
            "\u001b[?25hCollecting selenium>=3.141.0\n",
            "\u001b[?25l  Downloading https://files.pythonhosted.org/packages/80/d6/4294f0b4bce4de0abf13e17190289f9d0613b0a44e5dd6a7f5ca98459853/selenium-3.141.0-py2.py3-none-any.whl (904kB)\n",
            "\u001b[K     |████████████████████████████████| 911kB 15.6MB/s \n",
            "\u001b[?25hCollecting requests-toolbelt>=0.8.0\n",
            "\u001b[?25l  Downloading https://files.pythonhosted.org/packages/60/ef/7681134338fc097acef8d9b2f8abe0458e4d87559c689a8c306d0957ece5/requests_toolbelt-0.9.1-py2.py3-none-any.whl (54kB)\n",
            "\u001b[K     |████████████████████████████████| 61kB 6.3MB/s \n",
            "\u001b[?25hRequirement already satisfied: urllib3>=1.24.1 in /usr/local/lib/python3.7/dist-packages (from ip2geotools) (1.24.3)\n",
            "Collecting typing>=3.6.6\n",
            "\u001b[?25l  Downloading https://files.pythonhosted.org/packages/05/d9/6eebe19d46bd05360c9a9aae822e67a80f9242aabbfc58b641b957546607/typing-3.7.4.3.tar.gz (78kB)\n",
            "\u001b[K     |████████████████████████████████| 81kB 7.8MB/s \n",
            "\u001b[?25hCollecting geoip2>=2.9.0\n",
            "  Downloading https://files.pythonhosted.org/packages/15/85/c170af85a6a096fbe7a8ee3f6abcea7497113a70798398267d3cad8fabf1/geoip2-4.1.0-py2.py3-none-any.whl\n",
            "Collecting pkginfo>=1.4.2\n",
            "  Downloading https://files.pythonhosted.org/packages/b0/9a/d78e7c299eb5659bc3a036e5a968a399c62bfe0b2aa18baf7d13f43373ba/pkginfo-1.7.0-py2.py3-none-any.whl\n",
            "Requirement already satisfied: idna>=2.7 in /usr/local/lib/python3.7/dist-packages (from ip2geotools) (2.10)\n",
            "Collecting pycodestyle>=2.4.0\n",
            "\u001b[?25l  Downloading https://files.pythonhosted.org/packages/de/cc/227251b1471f129bc35e966bb0fceb005969023926d744139642d847b7ae/pycodestyle-2.7.0-py2.py3-none-any.whl (41kB)\n",
            "\u001b[K     |████████████████████████████████| 51kB 5.5MB/s \n",
            "\u001b[?25hRequirement already satisfied: pyparsing>=2.3.0 in /usr/local/lib/python3.7/dist-packages (from ip2geotools) (2.4.7)\n",
            "Requirement already satisfied: Click>=7.0 in /usr/local/lib/python3.7/dist-packages (from ip2geotools) (7.1.2)\n",
            "Requirement already satisfied: Pygments>=2.3.0 in /usr/local/lib/python3.7/dist-packages (from ip2geotools) (2.6.1)\n",
            "Collecting dicttoxml>=1.7.4\n",
            "  Downloading https://files.pythonhosted.org/packages/74/36/534db111db9e7610a41641a1f6669a964aacaf51858f466de264cc8dcdd9/dicttoxml-1.7.4.tar.gz\n",
            "Requirement already satisfied: decorator>=4.3.0 in /usr/local/lib/python3.7/dist-packages (from ip2geotools) (4.4.2)\n",
            "Collecting future>=0.17.1\n",
            "\u001b[?25l  Downloading https://files.pythonhosted.org/packages/45/0b/38b06fd9b92dc2b68d58b75f900e97884c45bedd2ff83203d933cf5851c9/future-0.18.2.tar.gz (829kB)\n",
            "\u001b[K     |████████████████████████████████| 829kB 19.5MB/s \n",
            "\u001b[?25hCollecting IP2Location>=8.0.3\n",
            "  Downloading https://files.pythonhosted.org/packages/87/00/4da6e42e05b3f219c0cf8efd995d88881a109b030dc70dfd45a0383e27fe/IP2Location-8.5.1-py3-none-any.whl\n",
            "Collecting readme-renderer>=24.0\n",
            "  Downloading https://files.pythonhosted.org/packages/39/a5/459adfa22ea237f6e8d0fa95ad29d7369579a5eec26f016ab34bb7f8359c/readme_renderer-29.0-py2.py3-none-any.whl\n",
            "Collecting autopep8>=1.4.3\n",
            "\u001b[?25l  Downloading https://files.pythonhosted.org/packages/5e/41/5bfb10d1a480556ff114cce2ba124416b86197ef7bd6e600b021477856d9/autopep8-1.5.6-py2.py3-none-any.whl (44kB)\n",
            "\u001b[K     |████████████████████████████████| 51kB 5.0MB/s \n",
            "\u001b[?25hCollecting lazy-object-proxy>=1.3.1\n",
            "\u001b[?25l  Downloading https://files.pythonhosted.org/packages/6e/b0/f055db25fd68ab4859832a887c8b304274fc12dd5a3f8e83e61250733aeb/lazy_object_proxy-1.6.0-cp37-cp37m-manylinux1_x86_64.whl (55kB)\n",
            "\u001b[K     |████████████████████████████████| 61kB 6.3MB/s \n",
            "\u001b[?25hRequirement already satisfied: tqdm>=4.28.1 in /usr/local/lib/python3.7/dist-packages (from ip2geotools) (4.41.1)\n",
            "Collecting astroid>=2.1.0\n",
            "\u001b[?25l  Downloading https://files.pythonhosted.org/packages/03/e3/9f9c3ad230d706dbf2d0314f5cff92f6d3cc7d65226af2854ea59d000c43/astroid-2.5.3-py3-none-any.whl (226kB)\n",
            "\u001b[K     |████████████████████████████████| 235kB 27.2MB/s \n",
            "\u001b[?25hCollecting ratelim>=0.1.6\n",
            "  Downloading https://files.pythonhosted.org/packages/f2/98/7e6d147fd16a10a5f821db6e25f192265d6ecca3d82957a4fdd592cad49c/ratelim-0.1.6-py2.py3-none-any.whl\n",
            "Collecting twine>=1.12.1\n",
            "  Downloading https://files.pythonhosted.org/packages/42/ad/713372978a8de58a43c507bf62b9c30c3d7b5cda4e972d563b881620a511/twine-3.4.1-py3-none-any.whl\n",
            "Requirement already satisfied: packaging>=18.0 in /usr/local/lib/python3.7/dist-packages (from ip2geotools) (20.9)\n",
            "Requirement already satisfied: lxml>=4.2.5 in /usr/local/lib/python3.7/dist-packages (from ip2geotools) (4.2.6)\n",
            "Collecting pylint>=2.2.0\n",
            "\u001b[?25l  Downloading https://files.pythonhosted.org/packages/6f/93/c710ecf2dd7098e9e15a0760c3afa31ae0b586beb4184bf4b14341c36848/pylint-2.7.4-py3-none-any.whl (346kB)\n",
            "\u001b[K     |████████████████████████████████| 348kB 30.4MB/s \n",
            "\u001b[?25hCollecting geocoder>=1.38.1\n",
            "\u001b[?25l  Downloading https://files.pythonhosted.org/packages/4f/6b/13166c909ad2f2d76b929a4227c952630ebaf0d729f6317eb09cbceccbab/geocoder-1.38.1-py2.py3-none-any.whl (98kB)\n",
            "\u001b[K     |████████████████████████████████| 102kB 9.5MB/s \n",
            "\u001b[?25hCollecting isort>=4.3.4\n",
            "\u001b[?25l  Downloading https://files.pythonhosted.org/packages/d9/47/0ec3ec948b7b3a0ba44e62adede4dca8b5985ba6aaee59998bed0916bd17/isort-5.8.0-py3-none-any.whl (103kB)\n",
            "\u001b[K     |████████████████████████████████| 112kB 36.6MB/s \n",
            "\u001b[?25hRequirement already satisfied: requests>=2.20.1 in /usr/local/lib/python3.7/dist-packages (from ip2geotools) (2.23.0)\n",
            "Requirement already satisfied: webencodings>=0.5.1 in /usr/local/lib/python3.7/dist-packages (from ip2geotools) (0.5.1)\n",
            "Collecting mccabe>=0.6.1\n",
            "  Downloading https://files.pythonhosted.org/packages/87/89/479dc97e18549e21354893e4ee4ef36db1d237534982482c3681ee6e7b57/mccabe-0.6.1-py2.py3-none-any.whl\n",
            "Requirement already satisfied: certifi>=2018.10.15 in /usr/local/lib/python3.7/dist-packages (from ip2geotools) (2020.12.5)\n",
            "Collecting pip-review>=1.0\n",
            "  Downloading https://files.pythonhosted.org/packages/30/ef/f54555f7999efc5b7bd60a2d25692fa713f2f3e12276ed8aa814c3b96e95/pip_review-1.1.0-py3-none-any.whl\n",
            "Collecting aiohttp<4.0.0,>=3.6.2\n",
            "\u001b[?25l  Downloading https://files.pythonhosted.org/packages/88/c0/5890b4c8b04a79b7360e8fe4490feb0bb3ab179743f199f0e6220cebd568/aiohttp-3.7.4.post0-cp37-cp37m-manylinux2014_x86_64.whl (1.3MB)\n",
            "\u001b[K     |████████████████████████████████| 1.3MB 34.4MB/s \n",
            "\u001b[?25hRequirement already satisfied: toml in /usr/local/lib/python3.7/dist-packages (from autopep8>=1.4.3->ip2geotools) (0.10.2)\n",
            "Collecting rfc3986>=1.4.0\n",
            "  Downloading https://files.pythonhosted.org/packages/78/be/7b8b99fd74ff5684225f50dd0e865393d2265656ef3b4ba9eaaaffe622b8/rfc3986-1.4.0-py2.py3-none-any.whl\n",
            "Requirement already satisfied: importlib-metadata>=3.6 in /usr/local/lib/python3.7/dist-packages (from twine>=1.12.1->ip2geotools) (3.10.1)\n",
            "Collecting keyring>=15.1\n",
            "  Downloading https://files.pythonhosted.org/packages/26/f9/41230ac47f738f1ba66676dc8d3b30ca5b1f9eb0230fc204bcd9836c4ae9/keyring-23.0.1-py3-none-any.whl\n",
            "Collecting colorama>=0.4.3\n",
            "  Downloading https://files.pythonhosted.org/packages/44/98/5b86278fbbf250d239ae0ecb724f8572af1c91f4a11edf4d36a206189440/colorama-0.4.4-py2.py3-none-any.whl\n",
            "Requirement already satisfied: pip in /usr/local/lib/python3.7/dist-packages (from pip-review>=1.0->ip2geotools) (19.3.1)\n",
            "Requirement already satisfied: typing-extensions>=3.6.5 in /usr/local/lib/python3.7/dist-packages (from aiohttp<4.0.0,>=3.6.2->geoip2>=2.9.0->ip2geotools) (3.7.4.3)\n",
            "Requirement already satisfied: attrs>=17.3.0 in /usr/local/lib/python3.7/dist-packages (from aiohttp<4.0.0,>=3.6.2->geoip2>=2.9.0->ip2geotools) (20.3.0)\n",
            "Collecting multidict<7.0,>=4.5\n",
            "\u001b[?25l  Downloading https://files.pythonhosted.org/packages/7c/a6/4123b8165acbe773d1a8dc8e3f0d1edea16d29f7de018eda769abb56bd30/multidict-5.1.0-cp37-cp37m-manylinux2014_x86_64.whl (142kB)\n",
            "\u001b[K     |████████████████████████████████| 143kB 47.0MB/s \n",
            "\u001b[?25hCollecting async-timeout<4.0,>=3.0\n",
            "  Downloading https://files.pythonhosted.org/packages/e1/1e/5a4441be21b0726c4464f3f23c8b19628372f606755a9d2e46c187e65ec4/async_timeout-3.0.1-py3-none-any.whl\n",
            "Collecting yarl<2.0,>=1.0\n",
            "\u001b[?25l  Downloading https://files.pythonhosted.org/packages/f1/62/046834c5fc998c88ab2ef722f5d42122230a632212c8afa76418324f53ff/yarl-1.6.3-cp37-cp37m-manylinux2014_x86_64.whl (294kB)\n",
            "\u001b[K     |████████████████████████████████| 296kB 37.7MB/s \n",
            "\u001b[?25hRequirement already satisfied: zipp>=0.5 in /usr/local/lib/python3.7/dist-packages (from importlib-metadata>=3.6->twine>=1.12.1->ip2geotools) (3.4.1)\n",
            "Collecting SecretStorage>=3.2; sys_platform == \"linux\"\n",
            "  Downloading https://files.pythonhosted.org/packages/d9/1e/29cd69fdac7391aa51510dfd42aa70b4e6a826c8cd019ee2a8ab9ec0777f/SecretStorage-3.3.1-py3-none-any.whl\n",
            "Collecting jeepney>=0.4.2; sys_platform == \"linux\"\n",
            "\u001b[?25l  Downloading https://files.pythonhosted.org/packages/51/b0/a6ea72741aaac3f37fb96d195e4ee576a103c4c04e279bc6b446a70960e1/jeepney-0.6.0-py3-none-any.whl (45kB)\n",
            "\u001b[K     |████████████████████████████████| 51kB 5.2MB/s \n",
            "\u001b[?25hCollecting cryptography>=2.0\n",
            "\u001b[?25l  Downloading https://files.pythonhosted.org/packages/b2/26/7af637e6a7e87258b963f1731c5982fb31cd507f0d90d91836e446955d02/cryptography-3.4.7-cp36-abi3-manylinux2014_x86_64.whl (3.2MB)\n",
            "\u001b[K     |████████████████████████████████| 3.2MB 41.2MB/s \n",
            "\u001b[?25hRequirement already satisfied: cffi>=1.12 in /usr/local/lib/python3.7/dist-packages (from cryptography>=2.0->SecretStorage>=3.2; sys_platform == \"linux\"->keyring>=15.1->twine>=1.12.1->ip2geotools) (1.14.5)\n",
            "Requirement already satisfied: pycparser in /usr/local/lib/python3.7/dist-packages (from cffi>=1.12->cryptography>=2.0->SecretStorage>=3.2; sys_platform == \"linux\"->keyring>=15.1->twine>=1.12.1->ip2geotools) (2.20)\n",
            "Building wheels for collected packages: maxminddb, typing, dicttoxml, future\n",
            "  Building wheel for maxminddb (setup.py) ... \u001b[?25l\u001b[?25hdone\n",
            "  Created wheel for maxminddb: filename=maxminddb-2.0.3-py2.py3-none-any.whl size=15284 sha256=1bd97bf419dd050869bf451627e01dd8a138f493d7dee91ac37ddbdeafea255f\n",
            "  Stored in directory: /root/.cache/pip/wheels/55/0e/56/d16e8c8c19aced8bbd51b3e40f84208f023f9a90328c6b450f\n",
            "  Building wheel for typing (setup.py) ... \u001b[?25l\u001b[?25hdone\n",
            "  Created wheel for typing: filename=typing-3.7.4.3-cp37-none-any.whl size=26308 sha256=a7a915a6e261968f5b18169194eb3fc6dfba7198270971ba96e1526cc28118bb\n",
            "  Stored in directory: /root/.cache/pip/wheels/2d/04/41/8e1836e79581989c22eebac3f4e70aaac9af07b0908da173be\n",
            "  Building wheel for dicttoxml (setup.py) ... \u001b[?25l\u001b[?25hdone\n",
            "  Created wheel for dicttoxml: filename=dicttoxml-1.7.4-cp37-none-any.whl size=17452 sha256=147a271036e8a165917396a122d8ea63ea961bfa377a7a4a510ee3d44457749a\n",
            "  Stored in directory: /root/.cache/pip/wheels/62/4f/a3/afd4a68f5add45a668c14efa53b64d5cffb2be6bacf993c151\n",
            "  Building wheel for future (setup.py) ... \u001b[?25l\u001b[?25hdone\n",
            "  Created wheel for future: filename=future-0.18.2-cp37-none-any.whl size=491058 sha256=7345a16c1c49da401ab8be60304ca3dce56441a01a95c2dac8a119b311ce970f\n",
            "  Stored in directory: /root/.cache/pip/wheels/8b/99/a0/81daf51dcd359a9377b110a8a886b3895921802d2fc1b2397e\n",
            "Successfully built maxminddb typing dicttoxml future\n",
            "\u001b[31mERROR: geoip2 4.1.0 has requirement requests<3.0.0,>=2.24.0, but you'll have requests 2.23.0 which is incompatible.\u001b[0m\n",
            "\u001b[31mERROR: geoip2 4.1.0 has requirement urllib3<2.0.0,>=1.25.2, but you'll have urllib3 1.24.3 which is incompatible.\u001b[0m\n",
            "Installing collected packages: cssselect, pyquery, maxminddb, typed-ast, selenium, requests-toolbelt, typing, multidict, async-timeout, yarl, aiohttp, geoip2, pkginfo, pycodestyle, dicttoxml, future, IP2Location, readme-renderer, autopep8, lazy-object-proxy, astroid, ratelim, rfc3986, jeepney, cryptography, SecretStorage, keyring, colorama, twine, isort, mccabe, pylint, geocoder, pip-review, ip2geotools\n",
            "  Found existing installation: future 0.16.0\n",
            "    Uninstalling future-0.16.0:\n",
            "      Successfully uninstalled future-0.16.0\n",
            "Successfully installed IP2Location-8.5.1 SecretStorage-3.3.1 aiohttp-3.7.4.post0 astroid-2.5.3 async-timeout-3.0.1 autopep8-1.5.6 colorama-0.4.4 cryptography-3.4.7 cssselect-1.1.0 dicttoxml-1.7.4 future-0.18.2 geocoder-1.38.1 geoip2-4.1.0 ip2geotools-0.1.5 isort-5.8.0 jeepney-0.6.0 keyring-23.0.1 lazy-object-proxy-1.6.0 maxminddb-2.0.3 mccabe-0.6.1 multidict-5.1.0 pip-review-1.1.0 pkginfo-1.7.0 pycodestyle-2.7.0 pylint-2.7.4 pyquery-1.4.3 ratelim-0.1.6 readme-renderer-29.0 requests-toolbelt-0.9.1 rfc3986-1.4.0 selenium-3.141.0 twine-3.4.1 typed-ast-1.4.3 typing-3.7.4.3 yarl-1.6.3\n"
          ],
          "name": "stdout"
        },
        {
          "output_type": "display_data",
          "data": {
            "application/vnd.colab-display-data+json": {
              "pip_warning": {
                "packages": [
                  "typing"
                ]
              }
            }
          },
          "metadata": {
            "tags": []
          }
        }
      ]
    },
    {
      "cell_type": "code",
      "metadata": {
        "id": "jSdycFyYzybd",
        "colab": {
          "base_uri": "https://localhost:8080/"
        },
        "outputId": "de14f68d-3616-4166-f83f-6af9f3ab4bb7"
      },
      "source": [
        "from ip2geotools.databases.noncommercial import DbIpCity\n",
        "#1. Select all requests at 01 Jan 2007 from 20:00:00 pm to 20:59:59.\n",
        "df2_3A = df_ht[(df_ht['date'] == '2007-01-01') & (df_ht['time'] >= '20:00:00') & (df_ht['time'] <= '20:59:59')]\n",
        "#2. Discover on the demographics by analysing requests from country level.\n",
        "country_list = []\n",
        "for ip in df2_3A['c-ip']:\n",
        "  response = DbIpCity.get(ip, api_key='free')\n",
        "  country = response.country\n",
        "  country_list.append(country)\n",
        "\n",
        "country_counts = pd.Series(country_list).value_counts().rename_axis('country').reset_index(name='counts')\n",
        "print(country_counts)\n"
      ],
      "execution_count": null,
      "outputs": [
        {
          "output_type": "stream",
          "text": [
            "  country  counts\n",
            "0      HK     169\n",
            "1      CN      25\n",
            "2      US      16\n",
            "3      IT       3\n",
            "4      AU       1\n"
          ],
          "name": "stdout"
        }
      ]
    },
    {
      "cell_type": "code",
      "metadata": {
        "id": "xN21MLq7x6Cf",
        "colab": {
          "base_uri": "https://localhost:8080/",
          "height": 332
        },
        "outputId": "2dab09ff-e3d7-40f7-f49b-7edbe60349dd"
      },
      "source": [
        "#3. Plot countries of all requests in pie chart.\n",
        "\n",
        "def remove_autopct5(percentage):\n",
        "    return ('%1.2f%%' % percentage) if percentage > 5 else ''\n",
        "\n",
        "plt.pie(country_counts['counts'], shadow=True, autopct=remove_autopct5, startangle=90)\n",
        "plt.title(\"Request by Country\")\n",
        "plt.legend(labels=country_counts['country'], bbox_to_anchor=(1,1), loc=\"upper left\")\n",
        "plt.show()\n",
        "\n",
        "#4. List top 3 with the numbers of requests.\n",
        "print(country_counts.nlargest(3,'counts'))\n"
      ],
      "execution_count": null,
      "outputs": [
        {
          "output_type": "display_data",
          "data": {
            "image/png": "[encoded data removed]",
            "text/plain": [
              "<Figure size 432x288 with 1 Axes>"
            ]
          },
          "metadata": {
            "tags": []
          }
        },
        {
          "output_type": "stream",
          "text": [
            "  country  counts\n",
            "0      HK     169\n",
            "1      CN      25\n",
            "2      US      16\n"
          ],
          "name": "stdout"
        }
      ]
    },
    {
      "cell_type": "markdown",
      "metadata": {
        "id": "Qhf-g91_umxF"
      },
      "source": [
        "#### 2.3.B Requests by City\n",
        "<div class=\"alert alert-block alert-warning\">\n",
        "\n",
        "**Code**: \n",
        "    Using the selected requests from 2.3.A and build your code with the following requirements <br>\n",
        "    1. Discover on the demographics by analysing requests from city level. <br>\n",
        "    2. Plot cities of all requests in pie chart. <br>\n",
        "    3. List top 3 with the numbers of requests. <br>\n",
        "    *Keep the outputs for code in your notebook.\n",
        "</div> \n",
        "\n",
        "<div class=\"alert alert-block alert-warning\">\n",
        "    \n",
        "**Report**: \n",
        "    **Part I 2.3.B** Please include your results for this coding task into your report Part I section '2.3.B', <br>\n",
        "    1. How many cites are invlolved? <br>\n",
        "    2. Figure 'Request by City' in pie chart. <br>\n",
        "    3. Top 3 cities with request numbers. <br>\n",
        "</div>"
      ]
    },
    {
      "cell_type": "code",
      "metadata": {
        "id": "g7p39EpEBqaj",
        "colab": {
          "base_uri": "https://localhost:8080/",
          "height": 332
        },
        "outputId": "537fbe66-5dcf-4ec7-b8cc-79e2e2d2b685"
      },
      "source": [
        "#1. Discover on the demographics by analysing requests from city level.\n",
        "city_list = []\n",
        "for ip in df2_3A['c-ip']:\n",
        "  response = DbIpCity.get(ip, api_key='free')\n",
        "  city = response.city\n",
        "  city_list.append(city)\n",
        "\n",
        "city_counts = pd.Series(city_list).value_counts().rename_axis('city').reset_index(name='counts')\n",
        "#2. Plot cities of all requests in pie chart.\n",
        "def remove_autopct5(percentage):\n",
        "    return ('%1.2f%%' % percentage) if percentage > 5 else ''\n",
        "    \n",
        "plt.pie(city_counts['counts'], shadow=True, autopct=remove_autopct, startangle=90)\n",
        "plt.title(\"Request by City\")\n",
        "plt.legend(labels=city_counts['city'], bbox_to_anchor=(1,1), loc=\"upper left\")\n",
        "plt.show()\n",
        "#3. List top 3 with the numbers of requests.\n",
        "print(city_counts.nlargest(3,'counts'))"
      ],
      "execution_count": null,
      "outputs": [
        {
          "output_type": "display_data",
          "data": {
            "image/png": "[encoded data removed]",
            "text/plain": [
              "<Figure size 432x288 with 1 Axes>"
            ]
          },
          "metadata": {
            "tags": []
          }
        },
        {
          "output_type": "stream",
          "text": [
            "            city  counts\n",
            "0  Ha Kwai Chung     166\n",
            "1        Beijing      15\n",
            "2       New York      14\n"
          ],
          "name": "stdout"
        }
      ]
    },
    {
      "cell_type": "markdown",
      "metadata": {
        "id": "UOLvHKdZtcto"
      },
      "source": [
        "# Part II - Web Crawling\n",
        "\n",
        "## Overview\n",
        "To better introduce all the professors including the emeritus professor, the faculty will need to know all the citation information on all professors. Google Scholar is a web search engine that freely indexes the metadata of articles on many authors. Majority of the professors choose to use google scholar to track their publications and research works. Therefore,  the web crawling on google scholar will be able to have the citation information obtained across all the professors (who have the google scholar profile).\n"
      ]
    },
    {
      "cell_type": "markdown",
      "metadata": {
        "id": "gqbiN3nAw0tS"
      },
      "source": [
        "## 3. Professor List Generation"
      ]
    },
    {
      "cell_type": "markdown",
      "metadata": {
        "id": "Bm7eq9Iywjc-"
      },
      "source": [
        "### 3.1 Import and install web crawling library. \n",
        "\n",
        "<div class=\"alert alert-block alert-warning\">\n",
        "\n",
        "**Code**: \n",
        "    Import and install your web crawling library here. \n",
        "</div> \n"
      ]
    },
    {
      "cell_type": "code",
      "metadata": {
        "id": "rHKPhKwUwtyI",
        "colab": {
          "base_uri": "https://localhost:8080/"
        },
        "outputId": "fad0c805-122e-4b3a-e5cb-778798efe20a"
      },
      "source": [
        "!pip install requests\n",
        "!pip install beautifulsoup4\n",
        "import requests\n",
        "from bs4 import BeautifulSoup\n"
      ],
      "execution_count": null,
      "outputs": [
        {
          "output_type": "stream",
          "text": [
            "Requirement already satisfied: requests in /usr/local/lib/python3.7/dist-packages (2.23.0)\n",
            "Requirement already satisfied: urllib3!=1.25.0,!=1.25.1,<1.26,>=1.21.1 in /usr/local/lib/python3.7/dist-packages (from requests) (1.24.3)\n",
            "Requirement already satisfied: certifi>=2017.4.17 in /usr/local/lib/python3.7/dist-packages (from requests) (2020.12.5)\n",
            "Requirement already satisfied: idna<3,>=2.5 in /usr/local/lib/python3.7/dist-packages (from requests) (2.10)\n",
            "Requirement already satisfied: chardet<4,>=3.0.2 in /usr/local/lib/python3.7/dist-packages (from requests) (3.0.4)\n",
            "Requirement already satisfied: beautifulsoup4 in /usr/local/lib/python3.7/dist-packages (4.6.3)\n"
          ],
          "name": "stdout"
        }
      ]
    },
    {
      "cell_type": "markdown",
      "metadata": {
        "id": "ZX4OQIsfwwk_"
      },
      "source": [
        "### 3.2 Find all professors in School of IT and save it as csv. \n",
        "\n",
        "<div class=\"alert alert-block alert-warning\">\n",
        "\n",
        "**Code**: \n",
        "    Find all professors in School of of IT and save it as csv. The csv must have the full name of the professor (in one column), the title of the professor and University Name.\n",
        "</div> \n",
        "\n",
        "<div class=\"alert alert-block alert-warning\">\n",
        "    \n",
        "*hint: the url of the staff list for school of IT is https://www.deakin.edu.au/information-technology/staff-listing. you may need to iteratively find out html tag by table in the page to start crawl all the text from td (td is the elements in html table, check https://www.w3schools.com/html/html_tables.asp)*"
      ]
    },
    {
      "cell_type": "code",
      "metadata": {
        "id": "vII6Na-1xEAh"
      },
      "source": [
        "# here we first define the parsing method, you will need to use this parsing method to format the professor full name and title from the staff page.\n",
        "# the name of the professor from staff page will be split by space and last two words are full name \n",
        "def parse_name(stringtext):\n",
        "  return \" \".join(stringtext.split(\" \")[-2:]),\" \".join(stringtext.split(\" \")[:-2])\n",
        "\n",
        "URL = 'https://www.deakin.edu.au/information-technology/staff-listing'\n",
        "page = requests.get(URL)\n",
        "soup = BeautifulSoup(page.content, 'html.parser')\n",
        "\n",
        "staff_names = []\n",
        "for a in soup.find_all(headers=\"table09355r1c1\"):\n",
        "  a = a.get_text(strip=True)\n",
        "  if \"Professor\" in a:\n",
        "    a = parse_name(a)\n",
        "    staff_names.append(a)\n"
      ],
      "execution_count": null,
      "outputs": []
    },
    {
      "cell_type": "code",
      "metadata": {
        "id": "RmLHQyKbxIEL",
        "colab": {
          "base_uri": "https://localhost:8080/",
          "height": 204
        },
        "outputId": "c2a5832c-c06e-4b40-dc4d-64502525dab6"
      },
      "source": [
        "import pandas as pd\n",
        "# the crawling information will be stored in pandas dataframe and then save as csv\n",
        "# below you are required to use the parse_name method to crawl the professor's full name and title\n",
        "# The column name must be same as the provided professor-list.csv\n",
        "\n",
        "\n",
        "#Per question requirement, adding University Name in most efficient way as it is the same for each professor.\n",
        "df3_2 = pd.DataFrame(staff_names, columns=['Name', 'Title'])\n",
        "df3_2 = df3_2[df3_2['Title'].isin(['Emeritus Professor', 'Professor', 'Associate Professor'])]\n",
        "df3_2['University Name'] = \"Deakin University School of IT\"\n",
        "\n",
        "df3_2.to_csv('/content/drive/MyDrive/Professor-list.csv', index = False);\n",
        "df3_2.head()"
      ],
      "execution_count": null,
      "outputs": [
        {
          "output_type": "execute_result",
          "data": {
            "text/html": [
              "<div>\n",
              "<style scoped>\n",
              "    .dataframe tbody tr th:only-of-type {\n",
              "        vertical-align: middle;\n",
              "    }\n",
              "\n",
              "    .dataframe tbody tr th {\n",
              "        vertical-align: top;\n",
              "    }\n",
              "\n",
              "    .dataframe thead th {\n",
              "        text-align: right;\n",
              "    }\n",
              "</style>\n",
              "<table border=\"1\" class=\"dataframe\">\n",
              "  <thead>\n",
              "    <tr style=\"text-align: right;\">\n",
              "      <th></th>\n",
              "      <th>Name</th>\n",
              "      <th>Title</th>\n",
              "      <th>University Name</th>\n",
              "    </tr>\n",
              "  </thead>\n",
              "  <tbody>\n",
              "    <tr>\n",
              "      <th>0</th>\n",
              "      <td>Lynn Batten</td>\n",
              "      <td>Emeritus Professor</td>\n",
              "      <td>Deakin University School of IT</td>\n",
              "    </tr>\n",
              "    <tr>\n",
              "      <th>1</th>\n",
              "      <td>Andrzej Goscinski</td>\n",
              "      <td>Emeritus Professor</td>\n",
              "      <td>Deakin University School of IT</td>\n",
              "    </tr>\n",
              "    <tr>\n",
              "      <th>2</th>\n",
              "      <td>Jemal Abawajy</td>\n",
              "      <td>Professor</td>\n",
              "      <td>Deakin University School of IT</td>\n",
              "    </tr>\n",
              "    <tr>\n",
              "      <th>3</th>\n",
              "      <td>Maia Angelova</td>\n",
              "      <td>Professor</td>\n",
              "      <td>Deakin University School of IT</td>\n",
              "    </tr>\n",
              "    <tr>\n",
              "      <th>4</th>\n",
              "      <td>Gleb Beliakov</td>\n",
              "      <td>Professor</td>\n",
              "      <td>Deakin University School of IT</td>\n",
              "    </tr>\n",
              "  </tbody>\n",
              "</table>\n",
              "</div>"
            ],
            "text/plain": [
              "                Name               Title                 University Name\n",
              "0        Lynn Batten  Emeritus Professor  Deakin University School of IT\n",
              "1  Andrzej Goscinski  Emeritus Professor  Deakin University School of IT\n",
              "2      Jemal Abawajy           Professor  Deakin University School of IT\n",
              "3      Maia Angelova           Professor  Deakin University School of IT\n",
              "4      Gleb Beliakov           Professor  Deakin University School of IT"
            ]
          },
          "metadata": {
            "tags": []
          },
          "execution_count": 14
        }
      ]
    },
    {
      "cell_type": "markdown",
      "metadata": {
        "id": "hwKTqMXaxOpw"
      },
      "source": [
        "## 4. Professor Citation Information Generation\n"
      ]
    },
    {
      "cell_type": "markdown",
      "metadata": {
        "id": "_uk5f1LgxQc7"
      },
      "source": [
        "### 4.1 Search the google scholar for all professors \n",
        "\n",
        "<div class=\"alert alert-block alert-warning\">\n",
        "\n",
        "**Code**: \n",
        "    Search the google scholar for all professors and obtain their citations-all, h-index-all, i10-all, citation-since2016,h-index-2016 and i10-since2016. Save the results as csv and must having **all the professors name, title and all 6 citation information.**\n",
        "</div> \n",
        "\n",
        "\n",
        "\n",
        "*hint: if the professors did not have the google scholar profle with the name, save the 6 citation information as string \"na\". you could use the while loop with condition or for loop with if condition or for loop with defined method having if condition to deal with those professors do not have google scholar*"
      ]
    },
    {
      "cell_type": "code",
      "metadata": {
        "id": "YITbe1Owxf2o",
        "colab": {
          "base_uri": "https://localhost:8080/",
          "height": 1000
        },
        "outputId": "3db3d001-0bd1-4c80-b1db-c55c5d0fac0a"
      },
      "source": [
        "!pip install scholarly\n",
        "from scholarly import scholarly\n",
        "\n",
        "List_Name = []\n",
        "List_citedby = []\n",
        "List_citedby5y = []\n",
        "List_hindex = []\n",
        "List_hindex5y = []\n",
        "List_i10index = []\n",
        "List_i10index5y = []\n",
        "\n",
        "for professor in df3_2['Name']:\n",
        "  search_query = next(scholarly.search_author(professor), None)\n",
        "  if search_query is None:\n",
        "    List_Name.append(professor)\n",
        "    List_citedby.append(\"NA\")\n",
        "    List_citedby5y.append(\"NA\")\n",
        "    List_hindex.append(\"NA\")\n",
        "    List_hindex5y.append(\"NA\")\n",
        "    List_i10index.append(\"NA\")\n",
        "    List_i10index5y.append(\"NA\")\n",
        "\n",
        "  else:\n",
        "    stage = scholarly.fill(search_query, sections=['indices', 'counts'])\n",
        "    Names = {key: stage[key] for key in stage.keys() & {'name'}}\n",
        "    citedby = {key: stage[key] for key in stage.keys() & {'citedby'}}\n",
        "    citedby5y =  {key: stage[key] for key in stage.keys() & {'citedby5y'}}\n",
        "    hindex = {key: stage[key] for key in stage.keys() & {'hindex'}}\n",
        "    hindex5y =  {key: stage[key] for key in stage.keys() & {'hindex5y'}}\n",
        "    i10index =  {key: stage[key] for key in stage.keys() & {'i10index'}}    \n",
        "    i10index5y = {key: stage[key] for key in stage.keys() & {'i10index5y'}}\n",
        "\n",
        "    List_Name.append(Names.values())\n",
        "    List_citedby.append(citedby.values())\n",
        "    List_citedby5y.append(citedby5y.values())\n",
        "    List_hindex.append(hindex.values())\n",
        "    List_hindex5y.append(hindex5y.values())\n",
        "    List_i10index.append(i10index.values())\n",
        "    List_i10index5y.append(i10index5y.values())\n",
        "\n",
        "List_of_lists = [List_Name, List_citedby,List_citedby5y,List_hindex,List_hindex5y,List_i10index,List_i10index5y]\n",
        "Colheaders = ['Name','citation-all','citation-since2016','h-index-all','h-index-since2016','i10-index-all','i10-index-since2016']\n",
        "Cols = ['citation-all','citation-since2016','h-index-all','h-index-since2016','i10-index-all','i10-index-since2016']\n",
        "df4_1 = pd.DataFrame(list(zip(List_Name, List_citedby,List_citedby5y,List_hindex,List_hindex5y,List_i10index,List_i10index5y)), columns= Colheaders)\n",
        "\n",
        "df4_1['Name'] = df4_1['Name'].str.join('')\n",
        "df4_1['citation-all'] = pd.DataFrame.from_dict(List_citedby)\n",
        "df4_1['citation-since2016'] = pd.DataFrame.from_dict(List_citedby5y)\n",
        "df4_1['h-index-all'] = pd.DataFrame.from_dict(List_hindex)\n",
        "df4_1['h-index-since2016'] = pd.DataFrame.from_dict(List_hindex5y)\n",
        "df4_1['i10-index-all'] = pd.DataFrame.from_dict(List_i10index)\n",
        "df4_1['i10-index-since2016'] = pd.DataFrame.from_dict(List_i10index5y)\n",
        "\n",
        "df4_1[Cols] = df4_1[['citation-all','citation-since2016','h-index-all','h-index-since2016','i10-index-all','i10-index-since2016']].apply(pd.to_numeric, errors='coerce')\n",
        "df4_1['Name'] = df4_1['Name'].map(lambda x: x.lstrip('+-').rstrip('(刘晓)'))\n",
        "df4_1 = (pd.merge(df4_1, df3_2, on='Name'))\n",
        "df4_1 = df4_1.drop(['University Name'], axis=1)\n",
        "\n",
        "df4_1 = df4_1[['Name', 'Title', 'citation-all', 'citation-since2016', 'h-index-all', 'h-index-since2016', 'i10-index-all', 'i10-index-since2016']]\n",
        "\n",
        "df4_1.to_csv('/content/drive/MyDrive/Professor-citation-information.csv', index = False, na_rep='NA');\n",
        "df4_1.head()"
      ],
      "execution_count": null,
      "outputs": [
        {
          "output_type": "stream",
          "text": [
            "Collecting scholarly\n",
            "  Downloading https://files.pythonhosted.org/packages/cc/23/86236417bc8b8f07ea2cfd224ecf51c7c56e6e7d3392af683bdcf81f864e/scholarly-1.2.0-py3-none-any.whl\n",
            "Collecting sphinx-rtd-theme\n",
            "\u001b[?25l  Downloading https://files.pythonhosted.org/packages/ac/24/2475e8f83519b54b2148d4a56eb1111f9cec630d088c3ffc214492c12107/sphinx_rtd_theme-0.5.2-py2.py3-none-any.whl (9.1MB)\n",
            "\u001b[K     |████████████████████████████████| 9.2MB 9.5MB/s \n",
            "\u001b[?25hRequirement already satisfied: beautifulsoup4 in /usr/local/lib/python3.7/dist-packages (from scholarly) (4.6.3)\n",
            "Requirement already satisfied: requests[security] in /usr/local/lib/python3.7/dist-packages (from scholarly) (2.23.0)\n",
            "Requirement already satisfied: typing-extensions in /usr/local/lib/python3.7/dist-packages (from scholarly) (3.7.4.3)\n",
            "Collecting stem\n",
            "\u001b[?25l  Downloading https://files.pythonhosted.org/packages/71/bd/ab05ffcbfe74dca704e860312e00c53ef690b1ddcb23be7a4d9ea4f40260/stem-1.8.0.tar.gz (2.9MB)\n",
            "\u001b[K     |████████████████████████████████| 2.9MB 54.7MB/s \n",
            "\u001b[?25hCollecting arrow\n",
            "\u001b[?25l  Downloading https://files.pythonhosted.org/packages/ea/22/482a480cbee1aa7795a58b411159a4df249d6d4ceacdd9987ab946f78210/arrow-1.0.3-py3-none-any.whl (54kB)\n",
            "\u001b[K     |████████████████████████████████| 61kB 9.2MB/s \n",
            "\u001b[?25hCollecting bibtexparser\n",
            "\u001b[?25l  Downloading https://files.pythonhosted.org/packages/7c/c3/c184a4460ba2f4877e3389e2d63479f642d0d3bdffeeffee0723d3b0156d/bibtexparser-1.2.0.tar.gz (46kB)\n",
            "\u001b[K     |████████████████████████████████| 51kB 8.0MB/s \n",
            "\u001b[?25hRequirement already satisfied: selenium in /usr/local/lib/python3.7/dist-packages (from scholarly) (3.141.0)\n",
            "Requirement already satisfied: PySocks in /usr/local/lib/python3.7/dist-packages (from scholarly) (1.7.1)\n",
            "Collecting fake-useragent\n",
            "  Downloading https://files.pythonhosted.org/packages/d1/79/af647635d6968e2deb57a208d309f6069d31cb138066d7e821e575112a80/fake-useragent-0.1.11.tar.gz\n",
            "Collecting free-proxy\n",
            "  Downloading https://files.pythonhosted.org/packages/04/e0/73bc201cfabca899daa033aeeeed37d30412fbd6c4877585a406f3a0fa99/free_proxy-1.0.2-py3-none-any.whl\n",
            "Collecting python-dotenv\n",
            "  Downloading https://files.pythonhosted.org/packages/86/62/aacbd1489fc6026c9278e9fd5cfdd49c5b1b5375d3c97a624e8f8f999eb2/python_dotenv-0.17.0-py2.py3-none-any.whl\n",
            "Collecting docutils<0.17\n",
            "\u001b[?25l  Downloading https://files.pythonhosted.org/packages/81/44/8a15e45ffa96e6cf82956dd8d7af9e666357e16b0d93b253903475ee947f/docutils-0.16-py2.py3-none-any.whl (548kB)\n",
            "\u001b[K     |████████████████████████████████| 552kB 49.5MB/s \n",
            "\u001b[?25hRequirement already satisfied: sphinx in /usr/local/lib/python3.7/dist-packages (from sphinx-rtd-theme->scholarly) (1.8.5)\n",
            "Requirement already satisfied: certifi>=2017.4.17 in /usr/local/lib/python3.7/dist-packages (from requests[security]->scholarly) (2020.12.5)\n",
            "Requirement already satisfied: urllib3!=1.25.0,!=1.25.1,<1.26,>=1.21.1 in /usr/local/lib/python3.7/dist-packages (from requests[security]->scholarly) (1.24.3)\n",
            "Requirement already satisfied: chardet<4,>=3.0.2 in /usr/local/lib/python3.7/dist-packages (from requests[security]->scholarly) (3.0.4)\n",
            "Requirement already satisfied: idna<3,>=2.5 in /usr/local/lib/python3.7/dist-packages (from requests[security]->scholarly) (2.10)\n",
            "Requirement already satisfied: cryptography>=1.3.4; extra == \"security\" in /usr/local/lib/python3.7/dist-packages (from requests[security]->scholarly) (3.4.7)\n",
            "Collecting pyOpenSSL>=0.14; extra == \"security\"\n",
            "\u001b[?25l  Downloading https://files.pythonhosted.org/packages/b2/5e/06351ede29fd4899782ad335c2e02f1f862a887c20a3541f17c3fa1a3525/pyOpenSSL-20.0.1-py2.py3-none-any.whl (54kB)\n",
            "\u001b[K     |████████████████████████████████| 61kB 8.5MB/s \n",
            "\u001b[?25hRequirement already satisfied: python-dateutil>=2.7.0 in /usr/local/lib/python3.7/dist-packages (from arrow->scholarly) (2.8.1)\n",
            "Requirement already satisfied: pyparsing>=2.0.3 in /usr/local/lib/python3.7/dist-packages (from bibtexparser->scholarly) (2.4.7)\n",
            "Requirement already satisfied: future>=0.16.0 in /usr/local/lib/python3.7/dist-packages (from bibtexparser->scholarly) (0.18.2)\n",
            "Requirement already satisfied: lxml in /usr/local/lib/python3.7/dist-packages (from free-proxy->scholarly) (4.2.6)\n",
            "Requirement already satisfied: sphinxcontrib-websupport in /usr/local/lib/python3.7/dist-packages (from sphinx->sphinx-rtd-theme->scholarly) (1.2.4)\n",
            "Requirement already satisfied: alabaster<0.8,>=0.7 in /usr/local/lib/python3.7/dist-packages (from sphinx->sphinx-rtd-theme->scholarly) (0.7.12)\n",
            "Requirement already satisfied: six>=1.5 in /usr/local/lib/python3.7/dist-packages (from sphinx->sphinx-rtd-theme->scholarly) (1.15.0)\n",
            "Requirement already satisfied: snowballstemmer>=1.1 in /usr/local/lib/python3.7/dist-packages (from sphinx->sphinx-rtd-theme->scholarly) (2.1.0)\n",
            "Requirement already satisfied: Jinja2>=2.3 in /usr/local/lib/python3.7/dist-packages (from sphinx->sphinx-rtd-theme->scholarly) (2.11.3)\n",
            "Requirement already satisfied: babel!=2.0,>=1.3 in /usr/local/lib/python3.7/dist-packages (from sphinx->sphinx-rtd-theme->scholarly) (2.9.0)\n",
            "Requirement already satisfied: imagesize in /usr/local/lib/python3.7/dist-packages (from sphinx->sphinx-rtd-theme->scholarly) (1.2.0)\n",
            "Requirement already satisfied: packaging in /usr/local/lib/python3.7/dist-packages (from sphinx->sphinx-rtd-theme->scholarly) (20.9)\n",
            "Requirement already satisfied: setuptools in /usr/local/lib/python3.7/dist-packages (from sphinx->sphinx-rtd-theme->scholarly) (54.2.0)\n",
            "Requirement already satisfied: Pygments>=2.0 in /usr/local/lib/python3.7/dist-packages (from sphinx->sphinx-rtd-theme->scholarly) (2.6.1)\n",
            "Requirement already satisfied: cffi>=1.12 in /usr/local/lib/python3.7/dist-packages (from cryptography>=1.3.4; extra == \"security\"->requests[security]->scholarly) (1.14.5)\n",
            "Requirement already satisfied: sphinxcontrib-serializinghtml in /usr/local/lib/python3.7/dist-packages (from sphinxcontrib-websupport->sphinx->sphinx-rtd-theme->scholarly) (1.1.4)\n",
            "Requirement already satisfied: MarkupSafe>=0.23 in /usr/local/lib/python3.7/dist-packages (from Jinja2>=2.3->sphinx->sphinx-rtd-theme->scholarly) (1.1.1)\n",
            "Requirement already satisfied: pytz>=2015.7 in /usr/local/lib/python3.7/dist-packages (from babel!=2.0,>=1.3->sphinx->sphinx-rtd-theme->scholarly) (2018.9)\n",
            "Requirement already satisfied: pycparser in /usr/local/lib/python3.7/dist-packages (from cffi>=1.12->cryptography>=1.3.4; extra == \"security\"->requests[security]->scholarly) (2.20)\n",
            "Building wheels for collected packages: stem, bibtexparser, fake-useragent\n",
            "  Building wheel for stem (setup.py) ... \u001b[?25l\u001b[?25hdone\n",
            "  Created wheel for stem: filename=stem-1.8.0-cp37-none-any.whl size=436039 sha256=5606002b5fa433fd9c1dfc70208c09bd3231abdc2d7f15a83fc16dfb88557859\n",
            "  Stored in directory: /root/.cache/pip/wheels/02/3a/ee/1094b166e029353f892c0b121aa02f48aff5e658396924bc2a\n",
            "  Building wheel for bibtexparser (setup.py) ... \u001b[?25l\u001b[?25hdone\n",
            "  Created wheel for bibtexparser: filename=bibtexparser-1.2.0-cp37-none-any.whl size=36712 sha256=207fb7eba9077e4fcad90018fb09cb00de17793e7b3bd9f2d8c163addd013997\n",
            "  Stored in directory: /root/.cache/pip/wheels/b2/5a/e7/867bcbc3a81c15b675b931aa19b6698375c5a5e90419a366db\n",
            "  Building wheel for fake-useragent (setup.py) ... \u001b[?25l\u001b[?25hdone\n",
            "  Created wheel for fake-useragent: filename=fake_useragent-0.1.11-cp37-none-any.whl size=13485 sha256=d014591fa633b449eebff663758abb3632798b3a1ceb74399a56b60fa483d793\n",
            "  Stored in directory: /root/.cache/pip/wheels/5e/63/09/d1dc15179f175357d3f5c00cbffbac37f9e8690d80545143ff\n",
            "Successfully built stem bibtexparser fake-useragent\n",
            "\u001b[31mERROR: datascience 0.10.6 has requirement folium==0.2.1, but you'll have folium 0.8.3 which is incompatible.\u001b[0m\n",
            "Installing collected packages: docutils, sphinx-rtd-theme, stem, arrow, bibtexparser, fake-useragent, free-proxy, python-dotenv, scholarly, pyOpenSSL\n",
            "  Found existing installation: docutils 0.17\n",
            "    Uninstalling docutils-0.17:\n",
            "      Successfully uninstalled docutils-0.17\n",
            "Successfully installed arrow-1.0.3 bibtexparser-1.2.0 docutils-0.16 fake-useragent-0.1.11 free-proxy-1.0.2 pyOpenSSL-20.0.1 python-dotenv-0.17.0 scholarly-1.2.0 sphinx-rtd-theme-0.5.2 stem-1.8.0\n"
          ],
          "name": "stdout"
        },
        {
          "output_type": "execute_result",
          "data": {
            "text/html": [
              "<div>\n",
              "<style scoped>\n",
              "    .dataframe tbody tr th:only-of-type {\n",
              "        vertical-align: middle;\n",
              "    }\n",
              "\n",
              "    .dataframe tbody tr th {\n",
              "        vertical-align: top;\n",
              "    }\n",
              "\n",
              "    .dataframe thead th {\n",
              "        text-align: right;\n",
              "    }\n",
              "</style>\n",
              "<table border=\"1\" class=\"dataframe\">\n",
              "  <thead>\n",
              "    <tr style=\"text-align: right;\">\n",
              "      <th></th>\n",
              "      <th>Name</th>\n",
              "      <th>Title</th>\n",
              "      <th>citation-all</th>\n",
              "      <th>citation-since2016</th>\n",
              "      <th>h-index-all</th>\n",
              "      <th>h-index-since2016</th>\n",
              "      <th>i10-index-all</th>\n",
              "      <th>i10-index-since2016</th>\n",
              "    </tr>\n",
              "  </thead>\n",
              "  <tbody>\n",
              "    <tr>\n",
              "      <th>0</th>\n",
              "      <td>Lynn Batten</td>\n",
              "      <td>Emeritus Professor</td>\n",
              "      <td>2528.0</td>\n",
              "      <td>1172.0</td>\n",
              "      <td>23.0</td>\n",
              "      <td>16.0</td>\n",
              "      <td>45.0</td>\n",
              "      <td>21.0</td>\n",
              "    </tr>\n",
              "    <tr>\n",
              "      <th>1</th>\n",
              "      <td>Andrzej Goscinski</td>\n",
              "      <td>Emeritus Professor</td>\n",
              "      <td>NaN</td>\n",
              "      <td>NaN</td>\n",
              "      <td>NaN</td>\n",
              "      <td>NaN</td>\n",
              "      <td>NaN</td>\n",
              "      <td>NaN</td>\n",
              "    </tr>\n",
              "    <tr>\n",
              "      <th>2</th>\n",
              "      <td>Jemal Abawajy</td>\n",
              "      <td>Professor</td>\n",
              "      <td>NaN</td>\n",
              "      <td>NaN</td>\n",
              "      <td>NaN</td>\n",
              "      <td>NaN</td>\n",
              "      <td>NaN</td>\n",
              "      <td>NaN</td>\n",
              "    </tr>\n",
              "    <tr>\n",
              "      <th>3</th>\n",
              "      <td>Maia Angelova</td>\n",
              "      <td>Professor</td>\n",
              "      <td>680.0</td>\n",
              "      <td>397.0</td>\n",
              "      <td>15.0</td>\n",
              "      <td>11.0</td>\n",
              "      <td>21.0</td>\n",
              "      <td>14.0</td>\n",
              "    </tr>\n",
              "    <tr>\n",
              "      <th>4</th>\n",
              "      <td>Gleb Beliakov</td>\n",
              "      <td>Professor</td>\n",
              "      <td>8173.0</td>\n",
              "      <td>4632.0</td>\n",
              "      <td>42.0</td>\n",
              "      <td>32.0</td>\n",
              "      <td>135.0</td>\n",
              "      <td>86.0</td>\n",
              "    </tr>\n",
              "  </tbody>\n",
              "</table>\n",
              "</div>"
            ],
            "text/plain": [
              "                Name               Title  ...  i10-index-all  i10-index-since2016\n",
              "0        Lynn Batten  Emeritus Professor  ...           45.0                 21.0\n",
              "1  Andrzej Goscinski  Emeritus Professor  ...            NaN                  NaN\n",
              "2      Jemal Abawajy           Professor  ...            NaN                  NaN\n",
              "3      Maia Angelova           Professor  ...           21.0                 14.0\n",
              "4      Gleb Beliakov           Professor  ...          135.0                 86.0\n",
              "\n",
              "[5 rows x 8 columns]"
            ]
          },
          "metadata": {
            "tags": []
          },
          "execution_count": 15
        }
      ]
    },
    {
      "cell_type": "markdown",
      "metadata": {
        "id": "7xxoyZvzxgmK"
      },
      "source": [
        "### 4.2 Find out the professor name having the most citations \n",
        "\n",
        "<div class=\"alert alert-block alert-warning\">\n",
        "\n",
        "**Code**: \n",
        "    Find out the professor name having the most citations (please remove those professor who does not have google scholar page)\n",
        "</div>"
      ]
    },
    {
      "cell_type": "code",
      "metadata": {
        "id": "ay_z3pC8xntr",
        "colab": {
          "base_uri": "https://localhost:8080/",
          "height": 148
        },
        "outputId": "22b5aafb-9dd7-44a3-fea1-74c13375f566"
      },
      "source": [
        "# find out the professor name having the most citations (please remove those professor who does not have google scholar page)\n",
        "\n",
        "\n",
        "#Drop NaN's\n",
        "df4_2 = df4_1.dropna()\n",
        "\n",
        "#Method specifically using sort/print method per assignment instructions\n",
        "df4_2 = df4_2.sort_values(['citation-all'], ascending=[False])\n",
        "print(df4_2.iloc[[0]])\n",
        "\n",
        "#Alternate method to return row name of professor with the most citations\n",
        "df4_2[df4_2['citation-all'] == df4_2['citation-all'].max()]"
      ],
      "execution_count": null,
      "outputs": [
        {
          "output_type": "stream",
          "text": [
            "       Name                Title  ...  i10-index-all  i10-index-since2016\n",
            "15  Gang Li  Associate Professor  ...          144.0                130.0\n",
            "\n",
            "[1 rows x 8 columns]\n"
          ],
          "name": "stdout"
        },
        {
          "output_type": "execute_result",
          "data": {
            "text/html": [
              "<div>\n",
              "<style scoped>\n",
              "    .dataframe tbody tr th:only-of-type {\n",
              "        vertical-align: middle;\n",
              "    }\n",
              "\n",
              "    .dataframe tbody tr th {\n",
              "        vertical-align: top;\n",
              "    }\n",
              "\n",
              "    .dataframe thead th {\n",
              "        text-align: right;\n",
              "    }\n",
              "</style>\n",
              "<table border=\"1\" class=\"dataframe\">\n",
              "  <thead>\n",
              "    <tr style=\"text-align: right;\">\n",
              "      <th></th>\n",
              "      <th>Name</th>\n",
              "      <th>Title</th>\n",
              "      <th>citation-all</th>\n",
              "      <th>citation-since2016</th>\n",
              "      <th>h-index-all</th>\n",
              "      <th>h-index-since2016</th>\n",
              "      <th>i10-index-all</th>\n",
              "      <th>i10-index-since2016</th>\n",
              "    </tr>\n",
              "  </thead>\n",
              "  <tbody>\n",
              "    <tr>\n",
              "      <th>15</th>\n",
              "      <td>Gang Li</td>\n",
              "      <td>Associate Professor</td>\n",
              "      <td>64375.0</td>\n",
              "      <td>30610.0</td>\n",
              "      <td>75.0</td>\n",
              "      <td>60.0</td>\n",
              "      <td>144.0</td>\n",
              "      <td>130.0</td>\n",
              "    </tr>\n",
              "  </tbody>\n",
              "</table>\n",
              "</div>"
            ],
            "text/plain": [
              "       Name                Title  ...  i10-index-all  i10-index-since2016\n",
              "15  Gang Li  Associate Professor  ...          144.0                130.0\n",
              "\n",
              "[1 rows x 8 columns]"
            ]
          },
          "metadata": {
            "tags": []
          },
          "execution_count": 16
        }
      ]
    },
    {
      "cell_type": "markdown",
      "metadata": {
        "id": "MTlPxwg5xo_U"
      },
      "source": [
        "### 4.3 Find out the row for associate professor having the most i10-index since 2016 \n",
        "<div class=\"alert alert-block alert-warning\">\n",
        "\n",
        "**Code**: \n",
        "    Find out the row for associate professor having the most i10-index since 2016 (please remove those professor who does not have google scholar page)\n",
        "</div>\n",
        "\n"
      ]
    },
    {
      "cell_type": "code",
      "metadata": {
        "id": "MjpexWtRxwA5",
        "colab": {
          "base_uri": "https://localhost:8080/",
          "height": 148
        },
        "outputId": "1c7b6b64-8be3-4ef1-c6fc-6d5e0ae57a8f"
      },
      "source": [
        "# find out the row for associate professor having the most i10_index since 2016 (please remove those professor who does not have google scholar page)\n",
        "\n",
        "\n",
        "#Method specifically using sort/print method per assignment instructions\n",
        "df4_2 = df4_2.sort_values(['i10-index-since2016'], ascending=[False])\n",
        "print(df4_2.iloc[[0]])\n",
        "\n",
        "#Alternate method to return row name of professor with the most citations\n",
        "df4_2[df4_2['i10-index-since2016'] == df4_2['i10-index-since2016'].max()]"
      ],
      "execution_count": null,
      "outputs": [
        {
          "output_type": "stream",
          "text": [
            "       Name                Title  ...  i10-index-all  i10-index-since2016\n",
            "15  Gang Li  Associate Professor  ...          144.0                130.0\n",
            "\n",
            "[1 rows x 8 columns]\n"
          ],
          "name": "stdout"
        },
        {
          "output_type": "execute_result",
          "data": {
            "text/html": [
              "<div>\n",
              "<style scoped>\n",
              "    .dataframe tbody tr th:only-of-type {\n",
              "        vertical-align: middle;\n",
              "    }\n",
              "\n",
              "    .dataframe tbody tr th {\n",
              "        vertical-align: top;\n",
              "    }\n",
              "\n",
              "    .dataframe thead th {\n",
              "        text-align: right;\n",
              "    }\n",
              "</style>\n",
              "<table border=\"1\" class=\"dataframe\">\n",
              "  <thead>\n",
              "    <tr style=\"text-align: right;\">\n",
              "      <th></th>\n",
              "      <th>Name</th>\n",
              "      <th>Title</th>\n",
              "      <th>citation-all</th>\n",
              "      <th>citation-since2016</th>\n",
              "      <th>h-index-all</th>\n",
              "      <th>h-index-since2016</th>\n",
              "      <th>i10-index-all</th>\n",
              "      <th>i10-index-since2016</th>\n",
              "    </tr>\n",
              "  </thead>\n",
              "  <tbody>\n",
              "    <tr>\n",
              "      <th>15</th>\n",
              "      <td>Gang Li</td>\n",
              "      <td>Associate Professor</td>\n",
              "      <td>64375.0</td>\n",
              "      <td>30610.0</td>\n",
              "      <td>75.0</td>\n",
              "      <td>60.0</td>\n",
              "      <td>144.0</td>\n",
              "      <td>130.0</td>\n",
              "    </tr>\n",
              "  </tbody>\n",
              "</table>\n",
              "</div>"
            ],
            "text/plain": [
              "       Name                Title  ...  i10-index-all  i10-index-since2016\n",
              "15  Gang Li  Associate Professor  ...          144.0                130.0\n",
              "\n",
              "[1 rows x 8 columns]"
            ]
          },
          "metadata": {
            "tags": []
          },
          "execution_count": 17
        }
      ]
    },
    {
      "cell_type": "markdown",
      "metadata": {
        "id": "lsHSp2H9xxRg"
      },
      "source": [
        "### 4.4 Find out all the professors name who has the citations_since2016 > 2500\n",
        "<div class=\"alert alert-block alert-warning\">\n",
        "\n",
        "**Code**: \n",
        "    Find out all the professors name who has the citations_since2016 > 2500 (please remove those professor who does not have google scholar page)\n",
        "</div>"
      ]
    },
    {
      "cell_type": "code",
      "metadata": {
        "id": "ZD352krRx5Dk",
        "colab": {
          "base_uri": "https://localhost:8080/",
          "height": 258
        },
        "outputId": "342ac2b6-14a3-46cb-f895-1a536ad89a69"
      },
      "source": [
        "# find out all the professors name who has the citations_since2016 > 2500\n",
        "\n",
        "df4_4 = df4_2[df4_2['citation-since2016'] > 2500] \n",
        "#Method specifically printing per assignment instructions\n",
        "print(df4_4['Name'])\n",
        "#Easier to read method to return citations_since2016 > 2500\n",
        "df4_4.head()"
      ],
      "execution_count": null,
      "outputs": [
        {
          "output_type": "stream",
          "text": [
            "15             Gang Li\n",
            "16          Jianxin Li\n",
            "4        Gleb Beliakov\n",
            "11    Arkady Zaslavsky\n",
            "Name: Name, dtype: object\n"
          ],
          "name": "stdout"
        },
        {
          "output_type": "execute_result",
          "data": {
            "text/html": [
              "<div>\n",
              "<style scoped>\n",
              "    .dataframe tbody tr th:only-of-type {\n",
              "        vertical-align: middle;\n",
              "    }\n",
              "\n",
              "    .dataframe tbody tr th {\n",
              "        vertical-align: top;\n",
              "    }\n",
              "\n",
              "    .dataframe thead th {\n",
              "        text-align: right;\n",
              "    }\n",
              "</style>\n",
              "<table border=\"1\" class=\"dataframe\">\n",
              "  <thead>\n",
              "    <tr style=\"text-align: right;\">\n",
              "      <th></th>\n",
              "      <th>Name</th>\n",
              "      <th>Title</th>\n",
              "      <th>citation-all</th>\n",
              "      <th>citation-since2016</th>\n",
              "      <th>h-index-all</th>\n",
              "      <th>h-index-since2016</th>\n",
              "      <th>i10-index-all</th>\n",
              "      <th>i10-index-since2016</th>\n",
              "    </tr>\n",
              "  </thead>\n",
              "  <tbody>\n",
              "    <tr>\n",
              "      <th>15</th>\n",
              "      <td>Gang Li</td>\n",
              "      <td>Associate Professor</td>\n",
              "      <td>64375.0</td>\n",
              "      <td>30610.0</td>\n",
              "      <td>75.0</td>\n",
              "      <td>60.0</td>\n",
              "      <td>144.0</td>\n",
              "      <td>130.0</td>\n",
              "    </tr>\n",
              "    <tr>\n",
              "      <th>16</th>\n",
              "      <td>Jianxin Li</td>\n",
              "      <td>Associate Professor</td>\n",
              "      <td>6005.0</td>\n",
              "      <td>4308.0</td>\n",
              "      <td>43.0</td>\n",
              "      <td>34.0</td>\n",
              "      <td>117.0</td>\n",
              "      <td>105.0</td>\n",
              "    </tr>\n",
              "    <tr>\n",
              "      <th>4</th>\n",
              "      <td>Gleb Beliakov</td>\n",
              "      <td>Professor</td>\n",
              "      <td>8173.0</td>\n",
              "      <td>4632.0</td>\n",
              "      <td>42.0</td>\n",
              "      <td>32.0</td>\n",
              "      <td>135.0</td>\n",
              "      <td>86.0</td>\n",
              "    </tr>\n",
              "    <tr>\n",
              "      <th>11</th>\n",
              "      <td>Arkady Zaslavsky</td>\n",
              "      <td>Professor</td>\n",
              "      <td>14930.0</td>\n",
              "      <td>8330.0</td>\n",
              "      <td>50.0</td>\n",
              "      <td>33.0</td>\n",
              "      <td>177.0</td>\n",
              "      <td>80.0</td>\n",
              "    </tr>\n",
              "  </tbody>\n",
              "</table>\n",
              "</div>"
            ],
            "text/plain": [
              "                Name                Title  ...  i10-index-all  i10-index-since2016\n",
              "15           Gang Li  Associate Professor  ...          144.0                130.0\n",
              "16        Jianxin Li  Associate Professor  ...          117.0                105.0\n",
              "4      Gleb Beliakov            Professor  ...          135.0                 86.0\n",
              "11  Arkady Zaslavsky            Professor  ...          177.0                 80.0\n",
              "\n",
              "[4 rows x 8 columns]"
            ]
          },
          "metadata": {
            "tags": []
          },
          "execution_count": 18
        }
      ]
    }
  ]
}